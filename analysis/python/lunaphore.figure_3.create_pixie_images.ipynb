{
 "cells": [
  {
   "cell_type": "code",
   "execution_count": 1,
   "metadata": {},
   "outputs": [],
   "source": [
    "import pandas as pd\n",
    "import numpy as np\n",
    "import os\n",
    "import matplotlib.pyplot as plt\n",
    "from matplotlib import colors\n",
    "from PIL import Image\n",
    "import scipy.ndimage as ndimage\n",
    "from spatialMI_functions import plot_layers_napari, crop_black_margins, plot_pixie_maps\n",
    "import napari\n",
    "import skimage.io as io\n",
    "import seaborn as sns\n",
    "import pandas as pd\n",
    "import colorcet as cc\n",
    "\n",
    "backsub_dir = \"/Volumes/Luna_heart/background_subtracted\""
   ]
  },
  {
   "cell_type": "markdown",
   "metadata": {},
   "source": [
    "# Lunaphore background subtracted images"
   ]
  },
  {
   "cell_type": "markdown",
   "metadata": {},
   "source": [
    "# Pixel maps"
   ]
  },
  {
   "cell_type": "code",
   "execution_count": null,
   "metadata": {},
   "outputs": [],
   "source": [
    "## Iterate over all FOVs\n",
    "directory = '/Users/florian_wuennemann/1_Projects/MI_project/Lunaphore/pixie/masked_subset/subset_0.05_wseg'\n",
    "\n",
    "for folder in os.listdir(directory):\n",
    "    if os.path.isdir(os.path.join(directory, folder)) and folder != \"napari_screenshots\":\n",
    "        print(folder)\n",
    "        # Do something with the folder here\n",
    "        sample_folder = directory + \"/\" + folder + \"/\"\n",
    "        pixel_img = io.imread(sample_folder + \"population_pixel_mask.tiff\")\n",
    "\n",
    "        # Assign each individual label in new_mask the corresponding color value from the color table\n",
    "        pixel_categories = pd.read_csv(sample_folder + \"population_pixel_mask.csv\")\n",
    "        color_palette_use = sns.color_palette(cc.glasbey, n_colors=pixel_categories.shape[0]+1)\n",
    "        color_dict = {0: 'black'}\n",
    "        color_dict_legend = {}\n",
    "        for i,region_id in enumerate(pixel_categories['region_id']):\n",
    "            if pixel_categories['region_name'][i] == \"background\":\n",
    "                color_dict[region_id] = \"black\"\n",
    "            else:\n",
    "                color_dict[region_id] = color_palette_use[i+1]\n",
    "                color_dict_legend[pixel_categories['region_name'][i]] = color_palette_use[i+1]\n",
    "\n",
    "        outdir = \"/Users/florian_wuennemann/1_Projects/MI_project/Lunaphore/pixie/masked_subset/subset_0.05_wseg/napari_screenshots/\"\n",
    "        outdir_screen = outdir + folder +\".pixel_map.png\"\n",
    "\n",
    "        plot_pixie_maps(pixel_image = pixel_img, sample = folder,mask_color = color_dict,\n",
    "        scale = 5, screenshot_path = outdir_screen,crop_out_path = outdir)"
   ]
  },
  {
   "cell_type": "code",
   "execution_count": 28,
   "metadata": {},
   "outputs": [
    {
     "ename": "AttributeError",
     "evalue": "'PngImageFile' object has no attribute 'shape'",
     "output_type": "error",
     "traceback": [
      "\u001b[0;31m---------------------------------------------------------------------------\u001b[0m",
      "\u001b[0;31mAttributeError\u001b[0m                            Traceback (most recent call last)",
      "\u001b[1;32m/Users/florian_wuennemann/1_Projects/MI_project/mi_spatialomics/analysis/python/lunaphore.figure_3.create_pixie_images.ipynb Cell 6\u001b[0m line \u001b[0;36m1\n\u001b[0;32m----> <a href='vscode-notebook-cell:/Users/florian_wuennemann/1_Projects/MI_project/mi_spatialomics/analysis/python/lunaphore.figure_3.create_pixie_images.ipynb#X40sZmlsZQ%3D%3D?line=0'>1</a>\u001b[0m image\u001b[39m.\u001b[39;49mshape\n",
      "\u001b[0;31mAttributeError\u001b[0m: 'PngImageFile' object has no attribute 'shape'"
     ]
    }
   ],
   "source": [
    "image.shape"
   ]
  },
  {
   "cell_type": "code",
   "execution_count": 47,
   "metadata": {},
   "outputs": [
    {
     "data": {
      "image/png": "[encoded data removed]",
      "text/plain": [
       "<Figure size 400x200 with 1 Axes>"
      ]
     },
     "metadata": {},
     "output_type": "display_data"
    },
    {
     "data": {
      "text/plain": [
       "'/Users/florian_wuennemann/1_Projects/MI_project/Lunaphore/pixie/masked_subset/subset_0.05_wseg/napari_screenshots/pixel_cluster_legend.pdf'"
      ]
     },
     "execution_count": 47,
     "metadata": {},
     "output_type": "execute_result"
    }
   ],
   "source": [
    "## Iterate over all FOVs\n",
    "directory = '/Users/florian_wuennemann/1_Projects/MI_project/Lunaphore/pixie/masked_subset/subset_0.05_wseg'\n",
    "sample_folder = directory + \"/\" + \"Control_12\" + \"/\"\n",
    "pixel_categories = pd.read_csv(sample_folder + \"population_pixel_mask.csv\")\n",
    "color_palette_use = sns.color_palette(cc.glasbey, n_colors=pixel_categories.shape[0]+1)[1:]\n",
    "\n",
    "# # Create a new figure and a subplot (which contains the legend)\n",
    "fig, ax = plt.subplots(figsize=(4, 2))\n",
    "\n",
    "# # We will use a dummy scatter plot with square markers to create the legend\n",
    "for (i, label) in enumerate(pixel_categories['region_name']):\n",
    "    if label != 'background':\n",
    "        ax.scatter([], [], color=color_palette_use[i], label=label, marker='s', s=400)\n",
    "\n",
    "# Create the legend\n",
    "legend = ax.legend(loc='center', title='', fontsize='large', frameon=False, labelspacing=1, ncol=2)\n",
    "\n",
    "# Hide the axes\n",
    "ax.axis('off')\n",
    "\n",
    "# Display the updated figure with square markers\n",
    "plt.show()\n",
    "\n",
    "# Save the figure as a PDF file\n",
    "output_path = \"/Users/florian_wuennemann/1_Projects/MI_project/Lunaphore/pixie/masked_subset/subset_0.05_wseg/napari_screenshots/pixel_cluster_legend.pdf\"\n",
    "fig.savefig(output_path)\n",
    "\n",
    "output_path\n"
   ]
  },
  {
   "cell_type": "markdown",
   "metadata": {},
   "source": [
    "## Pixie code"
   ]
  },
  {
   "cell_type": "code",
   "execution_count": 3,
   "metadata": {},
   "outputs": [],
   "source": [
    "\"\"\"\n",
    "Save pixel phenotype map TIFs\n",
    "For each FOV, save 1 TIF where pixel values correspond to pixel cluster id and 1 TIF colored according to pixel cluster id\n",
    "Must have created mapping file of each pixel cluster to its phenotype\n",
    "\n",
    "Author: Candace Liu\n",
    "Date: 8/15/22\n",
    "\n",
    "\"\"\"\n",
    "\n",
    "import pandas as pd\n",
    "import numpy as np\n",
    "import os\n",
    "import matplotlib.pyplot as plt\n",
    "from matplotlib import colors\n",
    "from PIL import Image\n",
    "import scipy.ndimage as ndimage\n",
    "\n",
    "name = \"sigma2_passes10_rep1\" #name of file output from pixelClustering.R\n",
    "clusters_path = \"pixelClustering_\"+name+\"_clusters.csv\"\n",
    "clust_coln = \"hCluster_cap\" #column name of cluster ids\n",
    "output_dir = \"overlays_pxClusterIDs_\"+name #output directory to store overlays\n",
    "output_dir_colored = \"overlays_pxClusterIDs_colored_\"+name #output directory to store colored overlays\n",
    "clust_to_pheno_path = \"pixelClustering_\"+name+\"_mapping.csv\" #csv mapping each cluster to its phenotype (must be manually created)\n",
    "colors_path = \"px_colors.csv\" #file specifying the colors for each cluster (must be manually created)\n",
    "size = 1024 #size of image\n",
    "\n",
    "# Make output directory\n",
    "if not os.path.exists(output_dir):\n",
    "    os.makedirs(output_dir)\n",
    "if not os.path.exists(output_dir_colored):\n",
    "    os.makedirs(output_dir_colored)\n",
    "\n",
    "# Read data\n",
    "clusters = pd.read_csv(clusters_path, sep=',')\n",
    "# Point names\n",
    "points = list(range(1,13))\n",
    "# Total number of clusters\n",
    "maxk = max(np.unique(clusters[clust_coln]))\n",
    "\n",
    "# Get phenotype mapping\n",
    "clust_to_pheno = pd.read_csv(clust_to_pheno_path)\n",
    "colors_tab = pd.read_csv(colors_path)\n",
    "clust_to_color = pd.merge(clust_to_pheno, colors_tab, on='phenotype')\n",
    "clust_to_color = clust_to_color.sort_values(['hCluster_cap'])\n",
    "\n",
    "## Create custom cmap\n",
    "mycols = list(clust_to_color[\"color\"])\n",
    "mycols.insert(0,'#000000') #first color is black\n",
    "# Make bounds\n",
    "bounds = [i-0.5 for i in np.linspace(0,maxk+1,maxk+2)]\n",
    "colmap = colors.ListedColormap(mycols)\n",
    "norm = colors.BoundaryNorm(bounds, colmap.N)\n",
    "\n",
    "# Define function to assign labels\n",
    "def assign_label(clust_array,x,y,clust):\n",
    "    clust_array[x,y] = clust\n",
    "\n",
    "for i in range(len(points)):\n",
    "    point = points[i]\n",
    "\n",
    "    # Get cluster data for one point\n",
    "    samp_clust = clusters.loc[clusters['sample'] == point]\n",
    "\n",
    "    # Create array for cluster labels, fill with 0's\n",
    "    clust_array = np.full((size,size), 0, dtype=int)\n",
    "    # Fill in array\n",
    "    [assign_label(clust_array,row[0],row[1],row[2]) for row in samp_clust[['x','y',clust_coln]].values]\n",
    "\n",
    "    # Save overlay as TIF\n",
    "    im = Image.fromarray(clust_array.astype(np.int32))\n",
    "    im.save(os.path.join(output_dir, \"Point\"+str(point)+\"_pxClusterIDs.tiff\"))\n",
    "\n",
    "    # Save colored overlay\n",
    "    image = colmap(norm(clust_array))\n",
    "    plt.imsave(os.path.join(output_dir_colored, \"Point\"+str(point)+\"_pxClusterIDs_colored.tiff\"), image)\n",
    "\n",
    "    print(point)"
   ]
  },
  {
   "cell_type": "markdown",
   "metadata": {},
   "source": [
    "# Cell cluster maps"
   ]
  },
  {
   "cell_type": "markdown",
   "metadata": {},
   "source": [
    "### Using Napari"
   ]
  },
  {
   "cell_type": "code",
   "execution_count": 38,
   "metadata": {},
   "outputs": [
    {
     "name": "stderr",
     "output_type": "stream",
     "text": [
      "/Users/florian_wuennemann/miniconda3/envs/spatialomics_MI/lib/python3.11/site-packages/napari/_vispy/layers/image.py:274: UserWarning: data shape (28356, 30317) exceeds GL_MAX_TEXTURE_SIZE 16384 in at least one axis and will be downsampled. Rendering is currently in 2D mode.\n",
      "  warnings.warn(\n",
      "/Users/florian_wuennemann/miniconda3/envs/spatialomics_MI/lib/python3.11/site-packages/napari/_vispy/layers/image.py:274: UserWarning: data shape (28356, 30317) exceeds GL_MAX_TEXTURE_SIZE 16384 in at least one axis and will be downsampled. Rendering is currently in 2D mode.\n",
      "  warnings.warn(\n"
     ]
    },
    {
     "data": {
      "text/plain": [
       "<Labels layer 'pixel_img' at 0x2f0a8a610>"
      ]
     },
     "execution_count": 38,
     "metadata": {},
     "output_type": "execute_result"
    }
   ],
   "source": [
    "## The napari way\n",
    "\n",
    "pixel_img = io.imread(\"/Users/florian_wuennemann/1_Projects/MI_project/Lunaphore/pixie/masked_subset/cell_masks_0.05/4h_96/population_cell_mask.tiff\")\n",
    "#mask = io.imread().astype(np.int16)\n",
    "\n",
    "# Assign each individual label in new_mask the corresponding color value from the color table\n",
    "pixel_categories = pd.read_csv(\"/Users/florian_wuennemann/1_Projects/MI_project/Lunaphore/pixie/masked_subset/cell_masks_0.05/4h_96/population_cell_mask.csv\")\n",
    "color_palette_use = sns.color_palette(\"colorblind\")\n",
    "color_dict = {0: 'white'}\n",
    "for region_id in pixel_categories['region_id']:\n",
    "    #print(f\"Region ID: {region_id}, Region Name: {region_name}\")\n",
    "    color_dict[region_id+1] = color_palette_use[region_id]\n",
    "\n",
    "viewer = napari.Viewer()\n",
    "viewer.add_labels(pixel_img,color = color_dict)"
   ]
  },
  {
   "cell_type": "code",
   "execution_count": null,
   "metadata": {},
   "outputs": [],
   "source": [
    "## Iterate over all FOVs\n",
    "directory = '/Users/florian_wuennemann/1_Projects/MI_project/Lunaphore/pixie/masked_subset/cell_masks_0.05'\n",
    "\n",
    "for folder in os.listdir(directory):\n",
    "    if os.path.isdir(os.path.join(directory, folder)) and folder != \"napari_screenshots\":\n",
    "        print(folder)\n",
    "        # Do something with the folder here\n",
    "        sample_folder = directory + \"/\" + folder + \"/\"\n",
    "        cell_cluster_img = io.imread(sample_folder + \"population_cell_mask.tiff\")\n",
    "\n",
    "        # Assign each individual label in new_mask the corresponding color value from the color table\n",
    "        pixel_categories = pd.read_csv(sample_folder + \"population_cell_mask.csv\")\n",
    "        color_palette_use = sns.color_palette(cc.glasbey, n_colors=pixel_categories.shape[0]+1)\n",
    "        color_dict = {0: 'black'}\n",
    "        color_dict_legend = {}\n",
    "        for i,region_id in enumerate(pixel_categories['region_id']):\n",
    "            if pixel_categories['region_name'][i] == \"background\":\n",
    "                color_dict[region_id] = \"black\"\n",
    "            else:\n",
    "                color_dict[region_id] = color_palette_use[i+1]\n",
    "                color_dict_legend[pixel_categories['region_name'][i]] = color_palette_use[i+1]\n",
    "\n",
    "        outdir = \"/Users/florian_wuennemann/1_Projects/MI_project/Lunaphore/pixie/masked_subset/cell_masks_0.05/napari_screenshots/\"\n",
    "        outdir_screen = outdir + folder +\".cell_clusters.png\"\n",
    "\n",
    "        plot_pixie_maps(pixel_image = cell_cluster_img, sample = folder,mask_color = color_dict,\n",
    "        scale = 5, screenshot_path = outdir_screen,crop_out_path = outdir)"
   ]
  },
  {
   "cell_type": "code",
   "execution_count": 51,
   "metadata": {},
   "outputs": [
    {
     "data": {
      "image/png": "[encoded data removed]",
      "text/plain": [
       "<Figure size 600x200 with 1 Axes>"
      ]
     },
     "metadata": {},
     "output_type": "display_data"
    },
    {
     "data": {
      "text/plain": [
       "'/Users/florian_wuennemann/1_Projects/MI_project/Lunaphore/pixie/masked_subset/cell_masks_0.05/napari_screenshots/pixel_cluster_legend.pdf'"
      ]
     },
     "execution_count": 51,
     "metadata": {},
     "output_type": "execute_result"
    }
   ],
   "source": [
    "## Iterate over all FOVs\n",
    "directory = '/Users/florian_wuennemann/1_Projects/MI_project/Lunaphore/pixie/masked_subset/cell_masks_0.05'\n",
    "sample_folder = directory + \"/\" + \"Control_12\" + \"/\"\n",
    "pixel_categories = pd.read_csv(sample_folder + \"population_cell_mask.csv\")\n",
    "color_palette_use = sns.color_palette(cc.glasbey, n_colors=pixel_categories.shape[0]+1)[1:]\n",
    "\n",
    "# # Create a new figure and a subplot (which contains the legend)\n",
    "fig, ax = plt.subplots(figsize=(6, 2))\n",
    "\n",
    "# # We will use a dummy scatter plot with square markers to create the legend\n",
    "for (i, label) in enumerate(pixel_categories['region_name']):\n",
    "    if label != 'background':\n",
    "        ax.scatter([], [], color=color_palette_use[i], label=label, marker='s', s=400)\n",
    "\n",
    "# Create the legend\n",
    "legend = ax.legend(loc='center', title='', fontsize='large', frameon=False, labelspacing=1, ncol=2)\n",
    "\n",
    "# Hide the axes\n",
    "ax.axis('off')\n",
    "\n",
    "# Display the updated figure with square markers\n",
    "plt.show()\n",
    "\n",
    "# Save the figure as a PDF file\n",
    "output_path = \"/Users/florian_wuennemann/1_Projects/MI_project/Lunaphore/pixie/masked_subset/cell_masks_0.05/napari_screenshots/pixel_cluster_legend.pdf\"\n",
    "fig.savefig(output_path)\n",
    "\n",
    "output_path"
   ]
  },
  {
   "cell_type": "markdown",
   "metadata": {},
   "source": [
    "## Using Pixie Code"
   ]
  },
  {
   "cell_type": "code",
   "execution_count": 2,
   "metadata": {},
   "outputs": [
    {
     "ename": "FileNotFoundError",
     "evalue": "[Errno 2] No such file or directory: 'cellClustering_kcell14_passes10_cellRep1.csv'",
     "output_type": "error",
     "traceback": [
      "\u001b[0;31m---------------------------------------------------------------------------\u001b[0m",
      "\u001b[0;31mFileNotFoundError\u001b[0m                         Traceback (most recent call last)",
      "\u001b[1;32m/Users/florian_wuennemann/1_Projects/MI_project/mi_spatialomics/analysis/python/lunaphore.figure_3.create_pixie_images.ipynb Cell 2\u001b[0m line \u001b[0;36m2\n\u001b[1;32m     <a href='vscode-notebook-cell:/Users/florian_wuennemann/1_Projects/MI_project/mi_spatialomics/analysis/python/lunaphore.figure_3.create_pixie_images.ipynb#W0sZmlsZQ%3D%3D?line=20'>21</a>\u001b[0m     os\u001b[39m.\u001b[39mmakedirs(output_dir_colored)\n\u001b[1;32m     <a href='vscode-notebook-cell:/Users/florian_wuennemann/1_Projects/MI_project/mi_spatialomics/analysis/python/lunaphore.figure_3.create_pixie_images.ipynb#W0sZmlsZQ%3D%3D?line=22'>23</a>\u001b[0m \u001b[39m# Read data\u001b[39;00m\n\u001b[0;32m---> <a href='vscode-notebook-cell:/Users/florian_wuennemann/1_Projects/MI_project/mi_spatialomics/analysis/python/lunaphore.figure_3.create_pixie_images.ipynb#W0sZmlsZQ%3D%3D?line=23'>24</a>\u001b[0m clusters \u001b[39m=\u001b[39m pd\u001b[39m.\u001b[39;49mread_csv(clusters_path)\n\u001b[1;32m     <a href='vscode-notebook-cell:/Users/florian_wuennemann/1_Projects/MI_project/mi_spatialomics/analysis/python/lunaphore.figure_3.create_pixie_images.ipynb#W0sZmlsZQ%3D%3D?line=24'>25</a>\u001b[0m \u001b[39m# Get manual mapping\u001b[39;00m\n\u001b[1;32m     <a href='vscode-notebook-cell:/Users/florian_wuennemann/1_Projects/MI_project/mi_spatialomics/analysis/python/lunaphore.figure_3.create_pixie_images.ipynb#W0sZmlsZQ%3D%3D?line=25'>26</a>\u001b[0m clust_to_pheno \u001b[39m=\u001b[39m pd\u001b[39m.\u001b[39mread_csv(clust_to_pheno_path)\n",
      "File \u001b[0;32m~/miniconda3/envs/spatialomics_MI/lib/python3.11/site-packages/pandas/io/parsers/readers.py:912\u001b[0m, in \u001b[0;36mread_csv\u001b[0;34m(filepath_or_buffer, sep, delimiter, header, names, index_col, usecols, dtype, engine, converters, true_values, false_values, skipinitialspace, skiprows, skipfooter, nrows, na_values, keep_default_na, na_filter, verbose, skip_blank_lines, parse_dates, infer_datetime_format, keep_date_col, date_parser, date_format, dayfirst, cache_dates, iterator, chunksize, compression, thousands, decimal, lineterminator, quotechar, quoting, doublequote, escapechar, comment, encoding, encoding_errors, dialect, on_bad_lines, delim_whitespace, low_memory, memory_map, float_precision, storage_options, dtype_backend)\u001b[0m\n\u001b[1;32m    899\u001b[0m kwds_defaults \u001b[39m=\u001b[39m _refine_defaults_read(\n\u001b[1;32m    900\u001b[0m     dialect,\n\u001b[1;32m    901\u001b[0m     delimiter,\n\u001b[0;32m   (...)\u001b[0m\n\u001b[1;32m    908\u001b[0m     dtype_backend\u001b[39m=\u001b[39mdtype_backend,\n\u001b[1;32m    909\u001b[0m )\n\u001b[1;32m    910\u001b[0m kwds\u001b[39m.\u001b[39mupdate(kwds_defaults)\n\u001b[0;32m--> 912\u001b[0m \u001b[39mreturn\u001b[39;00m _read(filepath_or_buffer, kwds)\n",
      "File \u001b[0;32m~/miniconda3/envs/spatialomics_MI/lib/python3.11/site-packages/pandas/io/parsers/readers.py:577\u001b[0m, in \u001b[0;36m_read\u001b[0;34m(filepath_or_buffer, kwds)\u001b[0m\n\u001b[1;32m    574\u001b[0m _validate_names(kwds\u001b[39m.\u001b[39mget(\u001b[39m\"\u001b[39m\u001b[39mnames\u001b[39m\u001b[39m\"\u001b[39m, \u001b[39mNone\u001b[39;00m))\n\u001b[1;32m    576\u001b[0m \u001b[39m# Create the parser.\u001b[39;00m\n\u001b[0;32m--> 577\u001b[0m parser \u001b[39m=\u001b[39m TextFileReader(filepath_or_buffer, \u001b[39m*\u001b[39;49m\u001b[39m*\u001b[39;49mkwds)\n\u001b[1;32m    579\u001b[0m \u001b[39mif\u001b[39;00m chunksize \u001b[39mor\u001b[39;00m iterator:\n\u001b[1;32m    580\u001b[0m     \u001b[39mreturn\u001b[39;00m parser\n",
      "File \u001b[0;32m~/miniconda3/envs/spatialomics_MI/lib/python3.11/site-packages/pandas/io/parsers/readers.py:1407\u001b[0m, in \u001b[0;36mTextFileReader.__init__\u001b[0;34m(self, f, engine, **kwds)\u001b[0m\n\u001b[1;32m   1404\u001b[0m     \u001b[39mself\u001b[39m\u001b[39m.\u001b[39moptions[\u001b[39m\"\u001b[39m\u001b[39mhas_index_names\u001b[39m\u001b[39m\"\u001b[39m] \u001b[39m=\u001b[39m kwds[\u001b[39m\"\u001b[39m\u001b[39mhas_index_names\u001b[39m\u001b[39m\"\u001b[39m]\n\u001b[1;32m   1406\u001b[0m \u001b[39mself\u001b[39m\u001b[39m.\u001b[39mhandles: IOHandles \u001b[39m|\u001b[39m \u001b[39mNone\u001b[39;00m \u001b[39m=\u001b[39m \u001b[39mNone\u001b[39;00m\n\u001b[0;32m-> 1407\u001b[0m \u001b[39mself\u001b[39m\u001b[39m.\u001b[39m_engine \u001b[39m=\u001b[39m \u001b[39mself\u001b[39;49m\u001b[39m.\u001b[39;49m_make_engine(f, \u001b[39mself\u001b[39;49m\u001b[39m.\u001b[39;49mengine)\n",
      "File \u001b[0;32m~/miniconda3/envs/spatialomics_MI/lib/python3.11/site-packages/pandas/io/parsers/readers.py:1661\u001b[0m, in \u001b[0;36mTextFileReader._make_engine\u001b[0;34m(self, f, engine)\u001b[0m\n\u001b[1;32m   1659\u001b[0m     \u001b[39mif\u001b[39;00m \u001b[39m\"\u001b[39m\u001b[39mb\u001b[39m\u001b[39m\"\u001b[39m \u001b[39mnot\u001b[39;00m \u001b[39min\u001b[39;00m mode:\n\u001b[1;32m   1660\u001b[0m         mode \u001b[39m+\u001b[39m\u001b[39m=\u001b[39m \u001b[39m\"\u001b[39m\u001b[39mb\u001b[39m\u001b[39m\"\u001b[39m\n\u001b[0;32m-> 1661\u001b[0m \u001b[39mself\u001b[39m\u001b[39m.\u001b[39mhandles \u001b[39m=\u001b[39m get_handle(\n\u001b[1;32m   1662\u001b[0m     f,\n\u001b[1;32m   1663\u001b[0m     mode,\n\u001b[1;32m   1664\u001b[0m     encoding\u001b[39m=\u001b[39;49m\u001b[39mself\u001b[39;49m\u001b[39m.\u001b[39;49moptions\u001b[39m.\u001b[39;49mget(\u001b[39m\"\u001b[39;49m\u001b[39mencoding\u001b[39;49m\u001b[39m\"\u001b[39;49m, \u001b[39mNone\u001b[39;49;00m),\n\u001b[1;32m   1665\u001b[0m     compression\u001b[39m=\u001b[39;49m\u001b[39mself\u001b[39;49m\u001b[39m.\u001b[39;49moptions\u001b[39m.\u001b[39;49mget(\u001b[39m\"\u001b[39;49m\u001b[39mcompression\u001b[39;49m\u001b[39m\"\u001b[39;49m, \u001b[39mNone\u001b[39;49;00m),\n\u001b[1;32m   1666\u001b[0m     memory_map\u001b[39m=\u001b[39;49m\u001b[39mself\u001b[39;49m\u001b[39m.\u001b[39;49moptions\u001b[39m.\u001b[39;49mget(\u001b[39m\"\u001b[39;49m\u001b[39mmemory_map\u001b[39;49m\u001b[39m\"\u001b[39;49m, \u001b[39mFalse\u001b[39;49;00m),\n\u001b[1;32m   1667\u001b[0m     is_text\u001b[39m=\u001b[39;49mis_text,\n\u001b[1;32m   1668\u001b[0m     errors\u001b[39m=\u001b[39;49m\u001b[39mself\u001b[39;49m\u001b[39m.\u001b[39;49moptions\u001b[39m.\u001b[39;49mget(\u001b[39m\"\u001b[39;49m\u001b[39mencoding_errors\u001b[39;49m\u001b[39m\"\u001b[39;49m, \u001b[39m\"\u001b[39;49m\u001b[39mstrict\u001b[39;49m\u001b[39m\"\u001b[39;49m),\n\u001b[1;32m   1669\u001b[0m     storage_options\u001b[39m=\u001b[39;49m\u001b[39mself\u001b[39;49m\u001b[39m.\u001b[39;49moptions\u001b[39m.\u001b[39;49mget(\u001b[39m\"\u001b[39;49m\u001b[39mstorage_options\u001b[39;49m\u001b[39m\"\u001b[39;49m, \u001b[39mNone\u001b[39;49;00m),\n\u001b[1;32m   1670\u001b[0m )\n\u001b[1;32m   1671\u001b[0m \u001b[39massert\u001b[39;00m \u001b[39mself\u001b[39m\u001b[39m.\u001b[39mhandles \u001b[39mis\u001b[39;00m \u001b[39mnot\u001b[39;00m \u001b[39mNone\u001b[39;00m\n\u001b[1;32m   1672\u001b[0m f \u001b[39m=\u001b[39m \u001b[39mself\u001b[39m\u001b[39m.\u001b[39mhandles\u001b[39m.\u001b[39mhandle\n",
      "File \u001b[0;32m~/miniconda3/envs/spatialomics_MI/lib/python3.11/site-packages/pandas/io/common.py:859\u001b[0m, in \u001b[0;36mget_handle\u001b[0;34m(path_or_buf, mode, encoding, compression, memory_map, is_text, errors, storage_options)\u001b[0m\n\u001b[1;32m    854\u001b[0m \u001b[39melif\u001b[39;00m \u001b[39misinstance\u001b[39m(handle, \u001b[39mstr\u001b[39m):\n\u001b[1;32m    855\u001b[0m     \u001b[39m# Check whether the filename is to be opened in binary mode.\u001b[39;00m\n\u001b[1;32m    856\u001b[0m     \u001b[39m# Binary mode does not support 'encoding' and 'newline'.\u001b[39;00m\n\u001b[1;32m    857\u001b[0m     \u001b[39mif\u001b[39;00m ioargs\u001b[39m.\u001b[39mencoding \u001b[39mand\u001b[39;00m \u001b[39m\"\u001b[39m\u001b[39mb\u001b[39m\u001b[39m\"\u001b[39m \u001b[39mnot\u001b[39;00m \u001b[39min\u001b[39;00m ioargs\u001b[39m.\u001b[39mmode:\n\u001b[1;32m    858\u001b[0m         \u001b[39m# Encoding\u001b[39;00m\n\u001b[0;32m--> 859\u001b[0m         handle \u001b[39m=\u001b[39m \u001b[39mopen\u001b[39;49m(\n\u001b[1;32m    860\u001b[0m             handle,\n\u001b[1;32m    861\u001b[0m             ioargs\u001b[39m.\u001b[39;49mmode,\n\u001b[1;32m    862\u001b[0m             encoding\u001b[39m=\u001b[39;49mioargs\u001b[39m.\u001b[39;49mencoding,\n\u001b[1;32m    863\u001b[0m             errors\u001b[39m=\u001b[39;49merrors,\n\u001b[1;32m    864\u001b[0m             newline\u001b[39m=\u001b[39;49m\u001b[39m\"\u001b[39;49m\u001b[39m\"\u001b[39;49m,\n\u001b[1;32m    865\u001b[0m         )\n\u001b[1;32m    866\u001b[0m     \u001b[39melse\u001b[39;00m:\n\u001b[1;32m    867\u001b[0m         \u001b[39m# Binary mode\u001b[39;00m\n\u001b[1;32m    868\u001b[0m         handle \u001b[39m=\u001b[39m \u001b[39mopen\u001b[39m(handle, ioargs\u001b[39m.\u001b[39mmode)\n",
      "\u001b[0;31mFileNotFoundError\u001b[0m: [Errno 2] No such file or directory: 'cellClustering_kcell14_passes10_cellRep1.csv'"
     ]
    }
   ],
   "source": [
    "## Code modified from : https://github.com/angelolab/publications/blob/main/2022-Liu_etal_Pixie/15_save_cellClusterOverlay_TIFs.py\n",
    "\n",
    "name = \"pixelComposition\" #name of output\n",
    "clusters_path = \"cellClustering_kcell14_passes10_cellRep1.csv\" #output of cell clustering\n",
    "clust_to_pheno_path = \"cellClustering_kcell14_passes10_cellRep1_mapping_manual.csv\" #csv mapping each cluster to its phenotype (must be manually created)\n",
    "\n",
    "clust_coln = \"phenotype_num\" #column name of cell cluster ids\n",
    "seg_dir = \"deepcell_output\" #segmentation output\n",
    "output_dir = \"overlays_pxCellClusterIDs_\"+name #output directory to store overlays\n",
    "output_dir_colored = \"overlays_pxCellClusterIDs_colored_\"+name #output directory to store colored overlays\n",
    "colors_path = \"cell_colors.csv\" #file specifying the colors for each cluster\n",
    "\n",
    "# Make output directory\n",
    "if not os.path.exists(output_dir):\n",
    "    os.makedirs(output_dir)\n",
    "if not os.path.exists(output_dir_colored):\n",
    "    os.makedirs(output_dir_colored)\n",
    "\n",
    "# Read data\n",
    "clusters = pd.read_csv(clusters_path)\n",
    "# Get manual mapping\n",
    "clust_to_pheno = pd.read_csv(clust_to_pheno_path)\n",
    "clusters = pd.merge(clusters, clust_to_pheno, on='pixelfreq_cluster')\n",
    "# Get colors\n",
    "colors_tab = pd.read_csv(colors_path)\n",
    "clusters = pd.merge(clusters, colors_tab, on='phenotype')\n",
    "\n",
    "# Get points\n",
    "points = np.unique(clusters['sample'])\n",
    "maxk = max(np.unique(clusters[clust_coln]))\n",
    "\n",
    "## Create custom cmap\n",
    "colors_only = colors_tab[colors_tab['phenotype_num'] <= maxk]\n",
    "mycols = list(colors_only[\"color\"])\n",
    "mycols.insert(0,'#000000') #first color is black\n",
    "mycols.append('#646464') #gray for cells that were not assigned\n",
    "# Make bounds\n",
    "bounds = [i-0.5 for i in np.linspace(0,maxk+2,maxk+3)]\n",
    "colmap = colors.ListedColormap(mycols)\n",
    "norm = colors.BoundaryNorm(bounds, colmap.N)\n",
    "\n",
    "for i in range(len(points)):\n",
    "    point = points[i]\n",
    "\n",
    "    # Make dictionary of cell label:cluster id\n",
    "    samp_clust = clusters.loc[clusters['sample'] == point]\n",
    "    clust_dict = dict(zip(samp_clust['label'],samp_clust[clust_coln]))\n",
    "\n",
    "    # Get cell segmentation overlay\n",
    "    label_array = np.array(Image.open(os.path.join(seg_dir, \"Point\"+str(point)+\"_feature_0.tif\")))\n",
    "\n",
    "    # Initialize array with number for unassigned\n",
    "    pxfreq_cell_array = np.full(label_array.shape,maxk+1)\n",
    "    # Assign 0s\n",
    "    pxfreq_cell_array[np.where(label_array==0)] = 0\n",
    "    # Assign labels\n",
    "    for lab in clust_dict:\n",
    "        idx = np.where(label_array == lab)\n",
    "        pxfreq_cell_array[idx] = clust_dict[lab]\n",
    "\n",
    "    # Change color of cell borders\n",
    "    border_array = np.array(Image.open(os.path.join(seg_dir, \"Point\"+str(point)+\"_overlay.tif\")))\n",
    "    white = (border_array==255).all(axis=2)\n",
    "    border_idx = np.where(white==True)\n",
    "    pxfreq_cell_array[border_idx] = 0\n",
    "\n",
    "    # Save overlay as TIF\n",
    "    im = Image.fromarray(pxfreq_cell_array.astype(np.int32))\n",
    "    im.save(os.path.join(output_dir, \"Point\"+str(point)+\"_pxCellClusterIDs.tiff\"))\n",
    "\n",
    "    # Save colored overlay\n",
    "    image = colmap(norm(pxfreq_cell_array))\n",
    "    plt.imsave(os.path.join(output_dir_colored, \"Point\"+str(point)+\"_pxCellClusterIDs_colored.tiff\"), image)\n",
    "\n",
    "    print(point)"
   ]
  }
 ],
 "metadata": {
  "kernelspec": {
   "display_name": "spatialomics_MI",
   "language": "python",
   "name": "python3"
  },
  "language_info": {
   "codemirror_mode": {
    "name": "ipython",
    "version": 3
   },
   "file_extension": ".py",
   "mimetype": "text/x-python",
   "name": "python",
   "nbconvert_exporter": "python",
   "pygments_lexer": "ipython3",
   "version": "3.11.4"
  },
  "orig_nbformat": 4
 },
 "nbformat": 4,
 "nbformat_minor": 2
}
