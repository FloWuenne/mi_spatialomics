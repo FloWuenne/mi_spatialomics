{
 "cells": [
  {
   "cell_type": "code",
   "execution_count": 2,
   "metadata": {},
   "outputs": [],
   "source": [
    "from spatialdata import SpatialData\n",
    "from pathlib import Path\n",
    "import os\n",
    "from spatialdata.models import Image2DModel, Labels2DModel, PointsModel, TableModel\n",
    "from dask_image.imread import imread\n",
    "import numpy as np\n",
    "import pandas as pd\n",
    "from anndata import AnnData\n"
   ]
  },
  {
   "cell_type": "code",
   "execution_count": 2,
   "metadata": {},
   "outputs": [
    {
     "name": "stdout",
     "output_type": "stream",
     "text": [
      "\u001b[34mINFO    \u001b[0m no axes information specified in the object, setting `dims` to: \u001b[1m(\u001b[0m\u001b[32m'c'\u001b[0m, \u001b[32m'y'\u001b[0m, \u001b[32m'x'\u001b[0m\u001b[1m)\u001b[0m                           \n"
     ]
    }
   ],
   "source": [
    "## Images\n",
    "image = \"../../../data/nf_molkart_results/preprocess/sample_control_r1_s1.stack.clahe.tiff\"\n",
    "images = {}\n",
    "image = imread(image)\n",
    "images[\"sample1_image\"] = Image2DModel.parse(image)"
   ]
  },
  {
   "cell_type": "code",
   "execution_count": 3,
   "metadata": {},
   "outputs": [
    {
     "name": "stdout",
     "output_type": "stream",
     "text": [
      "\u001b[34mINFO    \u001b[0m no axes information specified in the object, setting `dims` to: \u001b[1m(\u001b[0m\u001b[32m'y'\u001b[0m, \u001b[32m'x'\u001b[0m\u001b[1m)\u001b[0m                                \n"
     ]
    }
   ],
   "source": [
    "## Masks\n",
    "mask_path = \"../../../data/nf_molkart_results/retained_masks/sample_control_r1_s1_cellpose.retained_masks.16bit.tif\"\n",
    "labels = {}\n",
    "mask = imread(mask_path).squeeze()\n",
    "labels[\"sample1_labels\"] = Labels2DModel.parse(mask)"
   ]
  },
  {
   "cell_type": "code",
   "execution_count": 4,
   "metadata": {},
   "outputs": [
    {
     "name": "stderr",
     "output_type": "stream",
     "text": [
      "/Users/florian_wuennemann/miniconda3/envs/spatialdata/lib/python3.11/site-packages/anndata/_core/anndata.py:121: ImplicitModificationWarning: Transforming to str index.\n",
      "  warnings.warn(\"Transforming to str index.\", ImplicitModificationWarning)\n",
      "/Users/florian_wuennemann/miniconda3/envs/spatialdata/lib/python3.11/site-packages/anndata/_core/anndata.py:121: ImplicitModificationWarning: Transforming to str index.\n",
      "  warnings.warn(\"Transforming to str index.\", ImplicitModificationWarning)\n",
      "/var/folders/ph/m6mhj3s541799cykzbp3dx0m0000gn/T/ipykernel_21125/223126720.py:17: UserWarning: Converting `region_key: region` to categorical dtype.\n",
      "  table = TableModel.parse(adata, region=\"test_cells\", region_key=\"region\", instance_key = \"CellID\")\n"
     ]
    }
   ],
   "source": [
    "table = pd.read_csv(\"../../../data/nf_molkart_results/quantification/cellpose/sample_control_r1_s1.mcquant_fix.csv\")\n",
    "# read the CSV file into a pandas dataframe\n",
    "markers = pd.read_csv(\"../../../data/nf_molkart_results/quantification/cellpose/sample_control_r1_s1.spots_markedDups.channel_names.csv\", header=None, names=['column_name'])\n",
    "# access the data in the dataframe\n",
    "var = markers['column_name'].tolist()\n",
    "var = [entry + '_intensity_sum' for entry in var]\n",
    "coords = [\"X_centroid\", \"Y_centroid\"]\n",
    "adata = AnnData(\n",
    "    table[var].to_numpy(),\n",
    "    obs=table.drop(columns=var + coords),\n",
    "    var=markers,\n",
    "    obsm={\"spatial\": table[coords].to_numpy()},\n",
    "    dtype=np.float_,\n",
    ")\n",
    "adata.obs[\"region\"] = \"test_cells\"\n",
    "\n",
    "table = TableModel.parse(adata, region=\"test_cells\", region_key=\"region\", instance_key = \"CellID\")"
   ]
  },
  {
   "cell_type": "code",
   "execution_count": null,
   "metadata": {},
   "outputs": [],
   "source": [
    "points: dict[str, DaskDataFrame] = {}"
   ]
  },
  {
   "cell_type": "code",
   "execution_count": 5,
   "metadata": {},
   "outputs": [
    {
     "ename": "ValueError",
     "evalue": "The Zarr store already exists. Use `overwrite=True` to overwrite the store.",
     "output_type": "error",
     "traceback": [
      "\u001b[0;31m---------------------------------------------------------------------------\u001b[0m",
      "\u001b[0;31mValueError\u001b[0m                                Traceback (most recent call last)",
      "Cell \u001b[0;32mIn[5], line 3\u001b[0m\n\u001b[1;32m      1\u001b[0m \u001b[39m## Construct the Spatialdata object\u001b[39;00m\n\u001b[1;32m      2\u001b[0m spatialdata_obj \u001b[39m=\u001b[39m SpatialData(images\u001b[39m=\u001b[39mimages, labels\u001b[39m=\u001b[39mlabels, table\u001b[39m=\u001b[39mtable)\n\u001b[0;32m----> 3\u001b[0m spatialdata_obj\u001b[39m.\u001b[39;49mwrite(\u001b[39m\"\u001b[39;49m\u001b[39m/Users/florian_wuennemann/Downloads/test_molkart\u001b[39;49m\u001b[39m\"\u001b[39;49m)\n",
      "File \u001b[0;32m~/miniconda3/envs/spatialdata/lib/python3.11/site-packages/spatialdata/_core/spatialdata.py:940\u001b[0m, in \u001b[0;36mSpatialData.write\u001b[0;34m(self, file_path, storage_options, overwrite)\u001b[0m\n\u001b[1;32m    934\u001b[0m         \u001b[39mraise\u001b[39;00m \u001b[39mValueError\u001b[39;00m(\n\u001b[1;32m    935\u001b[0m             \u001b[39m\"\u001b[39m\u001b[39mThe target file path specified already exists, and it has been detected to not be \u001b[39m\u001b[39m\"\u001b[39m\n\u001b[1;32m    936\u001b[0m             \u001b[39m\"\u001b[39m\u001b[39ma Zarr store. Overwriting non-Zarr stores is not supported to prevent accidental \u001b[39m\u001b[39m\"\u001b[39m\n\u001b[1;32m    937\u001b[0m             \u001b[39m\"\u001b[39m\u001b[39mdata loss.\u001b[39m\u001b[39m\"\u001b[39m\n\u001b[1;32m    938\u001b[0m         )\n\u001b[1;32m    939\u001b[0m     \u001b[39mif\u001b[39;00m \u001b[39mnot\u001b[39;00m overwrite \u001b[39mand\u001b[39;00m \u001b[39mself\u001b[39m\u001b[39m.\u001b[39mpath \u001b[39m!=\u001b[39m \u001b[39mstr\u001b[39m(file_path):\n\u001b[0;32m--> 940\u001b[0m         \u001b[39mraise\u001b[39;00m \u001b[39mValueError\u001b[39;00m(\u001b[39m\"\u001b[39m\u001b[39mThe Zarr store already exists. Use `overwrite=True` to overwrite the store.\u001b[39m\u001b[39m\"\u001b[39m)\n\u001b[1;32m    941\u001b[0m     \u001b[39mraise\u001b[39;00m \u001b[39mValueError\u001b[39;00m(\n\u001b[1;32m    942\u001b[0m         \u001b[39m\"\u001b[39m\u001b[39mThe file path specified is the same as the one used for backing. \u001b[39m\u001b[39m\"\u001b[39m\n\u001b[1;32m    943\u001b[0m         \u001b[39m\"\u001b[39m\u001b[39mOverwriting the backing file is not supported to prevent accidental data loss.\u001b[39m\u001b[39m\"\u001b[39m\n\u001b[1;32m    944\u001b[0m         \u001b[39m\"\u001b[39m\u001b[39mWe are discussing how to support this use case in the future, if you would like us to \u001b[39m\u001b[39m\"\u001b[39m\n\u001b[1;32m    945\u001b[0m         \u001b[39m\"\u001b[39m\u001b[39msupport it please leave a comment on https://github.com/scverse/spatialdata/pull/138\u001b[39m\u001b[39m\"\u001b[39m\n\u001b[1;32m    946\u001b[0m     )\n\u001b[1;32m    947\u001b[0m     \u001b[39m# old code to support overwriting the backing file\u001b[39;00m\n\u001b[1;32m    948\u001b[0m     \u001b[39m# else:\u001b[39;00m\n\u001b[1;32m    949\u001b[0m     \u001b[39m#     target_path = tempfile.TemporaryDirectory()\u001b[39;00m\n\u001b[0;32m   (...)\u001b[0m\n\u001b[1;32m    957\u001b[0m \u001b[39m# store = parse_url(file_path, mode=\"w\").store\u001b[39;00m\n\u001b[1;32m    958\u001b[0m \u001b[39m# root = zarr.group(store=store)\u001b[39;00m\n",
      "\u001b[0;31mValueError\u001b[0m: The Zarr store already exists. Use `overwrite=True` to overwrite the store."
     ]
    }
   ],
   "source": [
    "## Construct the Spatialdata object\n",
    "spatialdata_obj = SpatialData(images=images, labels=labels, table=table, points=points)\n",
    "spatialdata_obj.write(\"/Users/florian_wuennemann/Downloads/test_molkart\")"
   ]
  },
  {
   "cell_type": "code",
   "execution_count": 6,
   "metadata": {},
   "outputs": [
    {
     "data": {
      "text/plain": [
       "SpatialData object with:\n",
       "├── Images\n",
       "│     └── 'sample1_image': SpatialImage[cyx] (2, 15008, 10720)\n",
       "├── Labels\n",
       "│     └── 'sample1_labels': SpatialImage[yx] (15008, 10720)\n",
       "└── Table\n",
       "      └── AnnData object with n_obs × n_vars = 17468 × 99\n",
       "    obs: 'CellID', 'Area', 'MajorAxisLength', 'MinorAxisLength', 'Eccentricity', 'Solidity', 'Extent', 'Orientation', 'region'\n",
       "    var: 'column_name'\n",
       "    uns: 'spatialdata_attrs'\n",
       "    obsm: 'spatial': AnnData (17468, 99)\n",
       "with coordinate systems:\n",
       "▸ 'global', with elements:\n",
       "        sample1_image (Images), sample1_labels (Labels)"
      ]
     },
     "execution_count": 6,
     "metadata": {},
     "output_type": "execute_result"
    }
   ],
   "source": [
    "spatialdata_obj"
   ]
  },
  {
   "cell_type": "code",
   "execution_count": null,
   "metadata": {},
   "outputs": [],
   "source": [
    "import spatialdata as sd\n",
    "mibitof_sdata = sd.read_zarr(\"/Users/florian_wuennemann/Downloads/data.zarr\")\n",
    "mibitof_sdata"
   ]
  },
  {
   "cell_type": "code",
   "execution_count": 3,
   "metadata": {},
   "outputs": [
    {
     "name": "stderr",
     "output_type": "stream",
     "text": [
      "/Users/florian_wuennemann/miniconda3/envs/spatialdata/lib/python3.11/site-packages/napari/_vispy/layers/image.py:274: UserWarning: data shape (2, 15008, 10720) exceeds GL_MAX_TEXTURE_SIZE 2048 in at least one axis and will be downsampled. Rendering is currently in 3D mode.\n",
      "  warnings.warn(\n"
     ]
    }
   ],
   "source": [
    "from napari_spatialdata import Interactive\n",
    "spatialdata_obj = SpatialData.read(\"/Users/florian_wuennemann/Downloads/test_molkart\")\n",
    "interactive = Interactive(spatialdata_obj)\n",
    "interactive.run()"
   ]
  },
  {
   "cell_type": "code",
   "execution_count": null,
   "metadata": {},
   "outputs": [],
   "source": [
    "import spatialdata_plot\n",
    "\n",
    "spatialdata_obj.pl.render_labels().pl.show()"
   ]
  },
  {
   "cell_type": "code",
   "execution_count": 23,
   "metadata": {},
   "outputs": [
    {
     "data": {
      "text/plain": [
       "SpatialData object with:\n",
       "├── Images\n",
       "│     └── 'sample1_image': SpatialImage[cyx] (2, 15008, 10720)\n",
       "├── Labels\n",
       "│     └── 'sample1_labels': SpatialImage[yx] (15008, 10720)\n",
       "└── Table\n",
       "      └── AnnData object with n_obs × n_vars = 17468 × 99\n",
       "    obs: 'CellID', 'Area', 'MajorAxisLength', 'MinorAxisLength', 'Eccentricity', 'Solidity', 'Extent', 'Orientation', 'region'\n",
       "    var: 'column_name'\n",
       "    uns: 'spatialdata_attrs'\n",
       "    obsm: 'spatial': AnnData (17468, 99)\n",
       "with coordinate systems:\n",
       "▸ 'global', with elements:\n",
       "        sample1_image (Images), sample1_labels (Labels)"
      ]
     },
     "execution_count": 23,
     "metadata": {},
     "output_type": "execute_result"
    }
   ],
   "source": [
    "spatialdata_obj"
   ]
  },
  {
   "cell_type": "code",
   "execution_count": null,
   "metadata": {},
   "outputs": [],
   "source": []
  }
 ],
 "metadata": {
  "kernelspec": {
   "display_name": "spatialdata",
   "language": "python",
   "name": "python3"
  },
  "language_info": {
   "codemirror_mode": {
    "name": "ipython",
    "version": 3
   },
   "file_extension": ".py",
   "mimetype": "text/x-python",
   "name": "python",
   "nbconvert_exporter": "python",
   "pygments_lexer": "ipython3",
   "version": "3.11.4"
  },
  "orig_nbformat": 4
 },
 "nbformat": 4,
 "nbformat_minor": 2
}
