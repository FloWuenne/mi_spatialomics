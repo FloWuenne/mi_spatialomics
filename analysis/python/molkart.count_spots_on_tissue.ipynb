{
 "cells": [
  {
   "attachments": {},
   "cell_type": "markdown",
   "metadata": {},
   "source": [
    "\n",
    "# Quantify RNA spots that fall within tissue regions\n",
    "\n",
    "This notebook will count the number of spots that fall within tissue based on manual annotations made in QuPath. This also excludes large artefacts or other regions in on the tissue that should not be counted as actual tissue."
   ]
  },
  {
   "cell_type": "code",
   "execution_count": 2,
   "metadata": {},
   "outputs": [],
   "source": [
    "import geopandas as gpd\n",
    "from shapely.geometry import Point\n",
    "import pandas as pd\n",
    "import os"
   ]
  },
  {
   "cell_type": "code",
   "execution_count": 3,
   "metadata": {},
   "outputs": [],
   "source": [
    "import json\n",
    "from shapely.geometry import shape, Point\n",
    "\n",
    "def count_points_in_shape(gdf_geojson, points_df):\n",
    "    # Turn points into a list of tuples\n",
    "    points = [tuple(x) for x in points_df.to_numpy()]\n",
    "\n",
    "    gdf_points = gpd.GeoDataFrame(geometry=[Point(x, y) for x, y in points])\n",
    "\n",
    "    # Set the same CRS for both GeoDataFrames if they're not the same\n",
    "    gdf_points.crs = gdf_geojson.crs\n",
    "\n",
    "    # Perform spatial join\n",
    "    gdf_joined = gpd.sjoin(gdf_points, gdf_geojson, op='within')\n",
    "\n",
    "    ## Write measurements to dataframe\n",
    "    total_area = gdf_geojson.geometry.area.sum() * 0.138 * 0.138\n",
    "    number_of_spots = gdf_joined.shape[0]\n",
    "\n",
    "    return [total_area, number_of_spots]"
   ]
  },
  {
   "cell_type": "code",
   "execution_count": 4,
   "metadata": {},
   "outputs": [
    {
     "name": "stdout",
     "output_type": "stream",
     "text": [
      "heart.sample_2d_r1_s1.geojson\n"
     ]
    },
    {
     "name": "stderr",
     "output_type": "stream",
     "text": [
      "/Users/florian_wuennemann/miniconda3/envs/spatialomics_MI/lib/python3.11/site-packages/IPython/core/interactiveshell.py:3448: FutureWarning: The `op` parameter is deprecated and will be removed in a future release. Please use the `predicate` parameter instead.\n",
      "  if await self.run_code(code, result, async_=asy):\n",
      "/var/folders/ph/m6mhj3s541799cykzbp3dx0m0000gn/T/ipykernel_8979/1155755332.py:33: UserWarning: Geometry is in a geographic CRS. Results from 'area' are likely incorrect. Use 'GeoSeries.to_crs()' to re-project geometries to a projected CRS before this operation.\n",
      "\n",
      "  total_area = gdf_geojson.geometry.area.sum() * 0.138 * 0.138\n"
     ]
    },
    {
     "name": "stdout",
     "output_type": "stream",
     "text": [
      "heart.sample_4h_r2_s2.geojson\n"
     ]
    },
    {
     "name": "stderr",
     "output_type": "stream",
     "text": [
      "/Users/florian_wuennemann/miniconda3/envs/spatialomics_MI/lib/python3.11/site-packages/IPython/core/interactiveshell.py:3448: FutureWarning: The `op` parameter is deprecated and will be removed in a future release. Please use the `predicate` parameter instead.\n",
      "  if await self.run_code(code, result, async_=asy):\n",
      "/var/folders/ph/m6mhj3s541799cykzbp3dx0m0000gn/T/ipykernel_8979/1155755332.py:33: UserWarning: Geometry is in a geographic CRS. Results from 'area' are likely incorrect. Use 'GeoSeries.to_crs()' to re-project geometries to a projected CRS before this operation.\n",
      "\n",
      "  total_area = gdf_geojson.geometry.area.sum() * 0.138 * 0.138\n"
     ]
    },
    {
     "name": "stdout",
     "output_type": "stream",
     "text": [
      "heart.sample_control_r1_s1.geojson\n"
     ]
    },
    {
     "name": "stderr",
     "output_type": "stream",
     "text": [
      "/Users/florian_wuennemann/miniconda3/envs/spatialomics_MI/lib/python3.11/site-packages/IPython/core/interactiveshell.py:3448: FutureWarning: The `op` parameter is deprecated and will be removed in a future release. Please use the `predicate` parameter instead.\n",
      "  if await self.run_code(code, result, async_=asy):\n",
      "/var/folders/ph/m6mhj3s541799cykzbp3dx0m0000gn/T/ipykernel_8979/1155755332.py:33: UserWarning: Geometry is in a geographic CRS. Results from 'area' are likely incorrect. Use 'GeoSeries.to_crs()' to re-project geometries to a projected CRS before this operation.\n",
      "\n",
      "  total_area = gdf_geojson.geometry.area.sum() * 0.138 * 0.138\n"
     ]
    },
    {
     "name": "stdout",
     "output_type": "stream",
     "text": [
      "heart.sample_4d_r1_s2.geojson\n"
     ]
    },
    {
     "name": "stderr",
     "output_type": "stream",
     "text": [
      "/Users/florian_wuennemann/miniconda3/envs/spatialomics_MI/lib/python3.11/site-packages/IPython/core/interactiveshell.py:3448: FutureWarning: The `op` parameter is deprecated and will be removed in a future release. Please use the `predicate` parameter instead.\n",
      "  if await self.run_code(code, result, async_=asy):\n",
      "/var/folders/ph/m6mhj3s541799cykzbp3dx0m0000gn/T/ipykernel_8979/1155755332.py:33: UserWarning: Geometry is in a geographic CRS. Results from 'area' are likely incorrect. Use 'GeoSeries.to_crs()' to re-project geometries to a projected CRS before this operation.\n",
      "\n",
      "  total_area = gdf_geojson.geometry.area.sum() * 0.138 * 0.138\n"
     ]
    },
    {
     "name": "stdout",
     "output_type": "stream",
     "text": [
      "heart.sample_4h_r1_s1.geojson\n"
     ]
    },
    {
     "name": "stderr",
     "output_type": "stream",
     "text": [
      "/Users/florian_wuennemann/miniconda3/envs/spatialomics_MI/lib/python3.11/site-packages/IPython/core/interactiveshell.py:3448: FutureWarning: The `op` parameter is deprecated and will be removed in a future release. Please use the `predicate` parameter instead.\n",
      "  if await self.run_code(code, result, async_=asy):\n",
      "/var/folders/ph/m6mhj3s541799cykzbp3dx0m0000gn/T/ipykernel_8979/1155755332.py:33: UserWarning: Geometry is in a geographic CRS. Results from 'area' are likely incorrect. Use 'GeoSeries.to_crs()' to re-project geometries to a projected CRS before this operation.\n",
      "\n",
      "  total_area = gdf_geojson.geometry.area.sum() * 0.138 * 0.138\n"
     ]
    },
    {
     "name": "stdout",
     "output_type": "stream",
     "text": [
      "heart.sample_control_r2_s1.geojson\n"
     ]
    },
    {
     "name": "stderr",
     "output_type": "stream",
     "text": [
      "/Users/florian_wuennemann/miniconda3/envs/spatialomics_MI/lib/python3.11/site-packages/IPython/core/interactiveshell.py:3448: FutureWarning: The `op` parameter is deprecated and will be removed in a future release. Please use the `predicate` parameter instead.\n",
      "  if await self.run_code(code, result, async_=asy):\n",
      "/var/folders/ph/m6mhj3s541799cykzbp3dx0m0000gn/T/ipykernel_8979/1155755332.py:33: UserWarning: Geometry is in a geographic CRS. Results from 'area' are likely incorrect. Use 'GeoSeries.to_crs()' to re-project geometries to a projected CRS before this operation.\n",
      "\n",
      "  total_area = gdf_geojson.geometry.area.sum() * 0.138 * 0.138\n"
     ]
    },
    {
     "name": "stdout",
     "output_type": "stream",
     "text": [
      "heart.sample_4d_r2_s1.geojson\n"
     ]
    },
    {
     "name": "stderr",
     "output_type": "stream",
     "text": [
      "/Users/florian_wuennemann/miniconda3/envs/spatialomics_MI/lib/python3.11/site-packages/IPython/core/interactiveshell.py:3448: FutureWarning: The `op` parameter is deprecated and will be removed in a future release. Please use the `predicate` parameter instead.\n",
      "  if await self.run_code(code, result, async_=asy):\n",
      "/var/folders/ph/m6mhj3s541799cykzbp3dx0m0000gn/T/ipykernel_8979/1155755332.py:33: UserWarning: Geometry is in a geographic CRS. Results from 'area' are likely incorrect. Use 'GeoSeries.to_crs()' to re-project geometries to a projected CRS before this operation.\n",
      "\n",
      "  total_area = gdf_geojson.geometry.area.sum() * 0.138 * 0.138\n"
     ]
    },
    {
     "name": "stdout",
     "output_type": "stream",
     "text": [
      "heart.sample_2d_r2_s1.geojson\n"
     ]
    },
    {
     "name": "stderr",
     "output_type": "stream",
     "text": [
      "/Users/florian_wuennemann/miniconda3/envs/spatialomics_MI/lib/python3.11/site-packages/IPython/core/interactiveshell.py:3448: FutureWarning: The `op` parameter is deprecated and will be removed in a future release. Please use the `predicate` parameter instead.\n",
      "  if await self.run_code(code, result, async_=asy):\n",
      "/var/folders/ph/m6mhj3s541799cykzbp3dx0m0000gn/T/ipykernel_8979/1155755332.py:33: UserWarning: Geometry is in a geographic CRS. Results from 'area' are likely incorrect. Use 'GeoSeries.to_crs()' to re-project geometries to a projected CRS before this operation.\n",
      "\n",
      "  total_area = gdf_geojson.geometry.area.sum() * 0.138 * 0.138\n"
     ]
    }
   ],
   "source": [
    "## Create an empty dataframe to capture tissue area and spot count\n",
    "df = pd.DataFrame(columns=['tissue_area', 'spot_count'])\n",
    "\n",
    "## Iterate over each geojson file\n",
    "geojson_dir = \"../../../data/molcart_region_annotations_Qupath/geojson\"\n",
    "spot_dir = \"../../..//data/nf_molkart_results/dedup_spots\"\n",
    "# Iterate over each file in geojson_dir\n",
    "for file in os.listdir(geojson_dir):\n",
    "    print(file)\n",
    "    sample_id = file.split(\".\")[1]\n",
    "\n",
    "    # Load your GeoJSON data\n",
    "    gdf_geojson = gpd.read_file(f'{geojson_dir}/{file}')\n",
    "\n",
    "    # # Assuming you have a csv file with 'x' and 'y' columns for the pixel coordinates\n",
    "    points_df = pd.read_table(f'{spot_dir}/{sample_id}.spots_markedDups.txt',\n",
    "                        sep='\\t', names=['x', 'y','z','gene'])\n",
    "    # Subset pixels for x and y coordinates\n",
    "    points_df = points_df[['x', 'y']]\n",
    "    \n",
    "    # Turn points into a list of tuples\n",
    "    points = [tuple(x) for x in points_df.to_numpy()]\n",
    "\n",
    "    gdf_points = gpd.GeoDataFrame(geometry=[Point(x, y) for x, y in points])\n",
    "\n",
    "    # Set the same CRS for both GeoDataFrames if they're not the same\n",
    "    gdf_points.crs = gdf_geojson.crs\n",
    "\n",
    "    # Perform spatial join\n",
    "    gdf_joined = gpd.sjoin(gdf_points, gdf_geojson, op='within')\n",
    "\n",
    "    ## Write measurements to dataframe\n",
    "    total_area = gdf_geojson.geometry.area.sum() * 0.138 * 0.138\n",
    "    number_of_spots = gdf_joined.shape[0]\n",
    "\n",
    "    # Store total_area and number_of_spots in a dictionary with sample_id as key\n",
    "    df.loc[sample_id] = [total_area, number_of_spots]"
   ]
  },
  {
   "cell_type": "code",
   "execution_count": 5,
   "metadata": {},
   "outputs": [],
   "source": [
    "# Turn rownames from df into a column named sample and remove rownames\n",
    "df['sample'] = df.index\n",
    "df.index.name = None\n",
    "\n",
    "df['spots_per_um2'] = df['spot_count'] / df['tissue_area']\n",
    "df\n",
    "## Write dataframe to csv without rownames and with tab as separator\n",
    "df.to_csv(\"../../data/molkart.spots_per_tissue.tsv\", sep='\\t', index=False) \n"
   ]
  },
  {
   "cell_type": "code",
   "execution_count": 6,
   "metadata": {},
   "outputs": [
    {
     "data": {
      "text/html": [
       "<div>\n",
       "<style scoped>\n",
       "    .dataframe tbody tr th:only-of-type {\n",
       "        vertical-align: middle;\n",
       "    }\n",
       "\n",
       "    .dataframe tbody tr th {\n",
       "        vertical-align: top;\n",
       "    }\n",
       "\n",
       "    .dataframe thead th {\n",
       "        text-align: right;\n",
       "    }\n",
       "</style>\n",
       "<table border=\"1\" class=\"dataframe\">\n",
       "  <thead>\n",
       "    <tr style=\"text-align: right;\">\n",
       "      <th></th>\n",
       "      <th>tissue_area</th>\n",
       "      <th>spot_count</th>\n",
       "      <th>sample</th>\n",
       "      <th>spots_per_um2</th>\n",
       "    </tr>\n",
       "  </thead>\n",
       "  <tbody>\n",
       "    <tr>\n",
       "      <th>sample_2d_r1_s1</th>\n",
       "      <td>2.544750e+06</td>\n",
       "      <td>937163.0</td>\n",
       "      <td>sample_2d_r1_s1</td>\n",
       "      <td>0.368273</td>\n",
       "    </tr>\n",
       "    <tr>\n",
       "      <th>sample_4h_r2_s2</th>\n",
       "      <td>3.206323e+06</td>\n",
       "      <td>2131650.0</td>\n",
       "      <td>sample_4h_r2_s2</td>\n",
       "      <td>0.664827</td>\n",
       "    </tr>\n",
       "    <tr>\n",
       "      <th>sample_control_r1_s1</th>\n",
       "      <td>2.627427e+06</td>\n",
       "      <td>5556662.0</td>\n",
       "      <td>sample_control_r1_s1</td>\n",
       "      <td>2.114868</td>\n",
       "    </tr>\n",
       "    <tr>\n",
       "      <th>sample_4d_r1_s2</th>\n",
       "      <td>1.311904e+06</td>\n",
       "      <td>1209210.0</td>\n",
       "      <td>sample_4d_r1_s2</td>\n",
       "      <td>0.921721</td>\n",
       "    </tr>\n",
       "    <tr>\n",
       "      <th>sample_4h_r1_s1</th>\n",
       "      <td>3.138268e+06</td>\n",
       "      <td>3031612.0</td>\n",
       "      <td>sample_4h_r1_s1</td>\n",
       "      <td>0.966014</td>\n",
       "    </tr>\n",
       "    <tr>\n",
       "      <th>sample_control_r2_s1</th>\n",
       "      <td>2.435890e+06</td>\n",
       "      <td>4625569.0</td>\n",
       "      <td>sample_control_r2_s1</td>\n",
       "      <td>1.898923</td>\n",
       "    </tr>\n",
       "    <tr>\n",
       "      <th>sample_4d_r2_s1</th>\n",
       "      <td>2.561841e+06</td>\n",
       "      <td>1217988.0</td>\n",
       "      <td>sample_4d_r2_s1</td>\n",
       "      <td>0.475435</td>\n",
       "    </tr>\n",
       "    <tr>\n",
       "      <th>sample_2d_r2_s1</th>\n",
       "      <td>2.346303e+06</td>\n",
       "      <td>1054787.0</td>\n",
       "      <td>sample_2d_r2_s1</td>\n",
       "      <td>0.449553</td>\n",
       "    </tr>\n",
       "  </tbody>\n",
       "</table>\n",
       "</div>"
      ],
      "text/plain": [
       "                       tissue_area  spot_count                sample  \\\n",
       "sample_2d_r1_s1       2.544750e+06    937163.0       sample_2d_r1_s1   \n",
       "sample_4h_r2_s2       3.206323e+06   2131650.0       sample_4h_r2_s2   \n",
       "sample_control_r1_s1  2.627427e+06   5556662.0  sample_control_r1_s1   \n",
       "sample_4d_r1_s2       1.311904e+06   1209210.0       sample_4d_r1_s2   \n",
       "sample_4h_r1_s1       3.138268e+06   3031612.0       sample_4h_r1_s1   \n",
       "sample_control_r2_s1  2.435890e+06   4625569.0  sample_control_r2_s1   \n",
       "sample_4d_r2_s1       2.561841e+06   1217988.0       sample_4d_r2_s1   \n",
       "sample_2d_r2_s1       2.346303e+06   1054787.0       sample_2d_r2_s1   \n",
       "\n",
       "                      spots_per_um2  \n",
       "sample_2d_r1_s1            0.368273  \n",
       "sample_4h_r2_s2            0.664827  \n",
       "sample_control_r1_s1       2.114868  \n",
       "sample_4d_r1_s2            0.921721  \n",
       "sample_4h_r1_s1            0.966014  \n",
       "sample_control_r2_s1       1.898923  \n",
       "sample_4d_r2_s1            0.475435  \n",
       "sample_2d_r2_s1            0.449553  "
      ]
     },
     "execution_count": 6,
     "metadata": {},
     "output_type": "execute_result"
    }
   ],
   "source": [
    "df"
   ]
  },
  {
   "cell_type": "code",
   "execution_count": null,
   "metadata": {},
   "outputs": [],
   "source": []
  }
 ],
 "metadata": {
  "kernelspec": {
   "display_name": "geopandas",
   "language": "python",
   "name": "python3"
  },
  "language_info": {
   "codemirror_mode": {
    "name": "ipython",
    "version": 3
   },
   "file_extension": ".py",
   "mimetype": "text/x-python",
   "name": "python",
   "nbconvert_exporter": "python",
   "pygments_lexer": "ipython3",
   "version": "3.11.4"
  },
  "orig_nbformat": 4
 },
 "nbformat": 4,
 "nbformat_minor": 2
}
