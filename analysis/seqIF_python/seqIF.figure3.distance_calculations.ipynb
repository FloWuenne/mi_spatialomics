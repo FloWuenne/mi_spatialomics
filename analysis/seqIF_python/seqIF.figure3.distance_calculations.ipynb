{
 "cells": [
  {
   "cell_type": "markdown",
   "metadata": {},
   "source": [
    "# Calculate distances between endocardial cells and myeloid cells"
   ]
  },
  {
   "cell_type": "code",
   "execution_count": 1,
   "metadata": {},
   "outputs": [],
   "source": [
    "# A function that takes as input a geojson file path, a cell table with cell annotations and two cell types of interest. It first subset the first cell type based on the geojson annotation and calculates the distances between the two cell types \n",
    "def calculate_distances(geojson_path, pixie_cell_table, sampleID, cell_type_1, cell_type_2,resolution = 0.23, n_neighbours = 3):\n",
    "    import geopandas as gpd\n",
    "    import pandas as pd\n",
    "    from shapely.geometry import Point\n",
    "    from scipy.spatial import distance\n",
    "    import numpy as np\n",
    "    \n",
    "    # Step 1: Read GeoJSON file\n",
    "    polygons_gdf = gpd.read_file(geojson_path)\n",
    "\n",
    "    # Filter polygons_gdf for classification name = subMI_endocardiallayer\n",
    "    ## Check if sampleID contains 'control'\n",
    "    if 'control' in sampleID:\n",
    "        subset_rows = [polygons_gdf['classification'][i]['name'] == 'Endocardial_layer' for i in range(polygons_gdf.shape[0])]\n",
    "        # Subset rows of polygons_gdf by subset_rows\n",
    "        polygons_gdf = polygons_gdf[subset_rows]\n",
    "    else:\n",
    "        subset_rows = [polygons_gdf['classification'][i]['name'] == 'subMI_endocardiallayer' for i in range(polygons_gdf.shape[0])]\n",
    "        # Subset rows of polygons_gdf by subset_rows\n",
    "        polygons_gdf = polygons_gdf[subset_rows]\n",
    "\n",
    "    # Ensure polygons_gdf is using a geometry column\n",
    "    if not polygons_gdf.geometry.is_valid.all():\n",
    "        raise ValueError(\"GeoJSON contains invalid geometries.\")\n",
    "\n",
    "    # Ensure that 'x' and 'y' columns exist\n",
    "    if 'X_centroid' not in pixie_cell_table.columns or 'Y_centroid' not in pixie_cell_table.columns:\n",
    "        raise ValueError(\"Table must contain 'x' and 'y' columns.\")\n",
    "\n",
    "    # Subset pixie_cell_table for fov == Control_12\n",
    "    pixie_cell_table_sub = pixie_cell_table.loc[pixie_cell_table['fov'] == sampleID]\n",
    "\n",
    "    sample_table = pixie_cell_table_sub[pixie_cell_table_sub['cell_meta_cluster'] != 'out_of_mask']\n",
    "\n",
    "    cells1 = pixie_cell_table_sub[pixie_cell_table_sub['cell_meta_cluster'] == cell_type_1]\n",
    "\n",
    "    # Subset sample table for only rows where column cell_meta_cluster is equal to 'Mono / Macros Ccr2+' or 'Neutrophils' or 'Macrophages Trem2+' or 'Macrophages Trem2-'\n",
    "    cells2 = pixie_cell_table_sub[pixie_cell_table_sub['cell_meta_cluster'].isin(cell_type_2) ]\n",
    "\n",
    "    # Step 3: Convert table to GeoDataFrame\n",
    "    # Assuming the table has columns 'x' and 'y' for coordinates\n",
    "    geometry = [Point(xy) for xy in zip(cells1.X_centroid, cells1.Y_centroid)]\n",
    "\n",
    "    # Ensure that the 'geometry' column contains valid Shapely Geometry objects\n",
    "    if not all(isinstance(geom, Point) for geom in geometry):\n",
    "        raise ValueError(\"Invalid geometry objects in the 'geometry' column.\")\n",
    "\n",
    "    ## Turn pixie_cell_table into a geopandas dataframe\n",
    "    points_gdf = gpd.GeoDataFrame(cells1, geometry=geometry)\n",
    "\n",
    "    # Check and set CRS\n",
    "    # Assuming your polygons_gdf has a defined CRS,\n",
    "    # and your points should be in the same CRS\n",
    "    if polygons_gdf.crs is not None and points_gdf.crs is None:\n",
    "        points_gdf.set_crs(polygons_gdf.crs, inplace=True)\n",
    "\n",
    "    # Step 4: Spatial join\n",
    "    # Perform spatial join between points and polygons\n",
    "    # This will add a column 'poly_id' to points_gdf\n",
    "    # which contains the index of the polygon in polygons_gdf\n",
    "    \n",
    "    # There are multiple polygons in polygons_gdf. Check overlap with all of them for each cell. Each cell can only be within one polygon at a time.\n",
    "    points_gdf = gpd.sjoin(points_gdf, polygons_gdf, how=\"inner\", op=\"within\")\n",
    "    \n",
    "    # Step 5: Calculate distances\n",
    "    ## Generate a numpy array with x and y coordinates from endocard_cells\n",
    "    cells1_coords = points_gdf[['X_centroid', 'Y_centroid']].to_numpy()\n",
    "    cells2_coords = cells2[['X_centroid', 'Y_centroid']].to_numpy()\n",
    "\n",
    "    ## Step 5: Calculate distance between endocardial cells and myeloid cells\n",
    "    cells_distances = distance.cdist(cells1_coords, cells2_coords, 'euclidean')\n",
    "\n",
    "    # Transform the distances from pixel into micrometer by multiplying with the resolution of the image\n",
    "    cells_distances = cells_distances * resolution\n",
    "\n",
    "    # For each row in endo_distances, keep only the X smallest values and remove the other values from the array\n",
    "    cells_distances = np.array([np.sort(row)[:n_neighbours] for row in cells_distances])\n",
    "\n",
    "    # Flatten the array\n",
    "    cells_distances = cells_distances.flatten()\n",
    "\n",
    "    return cells_distances"
   ]
  },
  {
   "cell_type": "code",
   "execution_count": 2,
   "metadata": {},
   "outputs": [
    {
     "name": "stderr",
     "output_type": "stream",
     "text": [
      "/Users/florian_wuennemann/miniconda3/envs/liana_plus/lib/python3.11/site-packages/IPython/core/interactiveshell.py:3508: FutureWarning: The `op` parameter is deprecated and will be removed in a future release. Please use the `predicate` parameter instead.\n",
      "  exec(code_obj, self.user_global_ns, self.user_ns)\n",
      "/Users/florian_wuennemann/miniconda3/envs/liana_plus/lib/python3.11/site-packages/IPython/core/interactiveshell.py:3508: FutureWarning: The `op` parameter is deprecated and will be removed in a future release. Please use the `predicate` parameter instead.\n",
      "  exec(code_obj, self.user_global_ns, self.user_ns)\n",
      "/Users/florian_wuennemann/miniconda3/envs/liana_plus/lib/python3.11/site-packages/IPython/core/interactiveshell.py:3508: FutureWarning: The `op` parameter is deprecated and will be removed in a future release. Please use the `predicate` parameter instead.\n",
      "  exec(code_obj, self.user_global_ns, self.user_ns)\n",
      "/Users/florian_wuennemann/miniconda3/envs/liana_plus/lib/python3.11/site-packages/IPython/core/interactiveshell.py:3508: FutureWarning: The `op` parameter is deprecated and will be removed in a future release. Please use the `predicate` parameter instead.\n",
      "  exec(code_obj, self.user_global_ns, self.user_ns)\n",
      "/Users/florian_wuennemann/miniconda3/envs/liana_plus/lib/python3.11/site-packages/IPython/core/interactiveshell.py:3508: FutureWarning: The `op` parameter is deprecated and will be removed in a future release. Please use the `predicate` parameter instead.\n",
      "  exec(code_obj, self.user_global_ns, self.user_ns)\n",
      "/Users/florian_wuennemann/miniconda3/envs/liana_plus/lib/python3.11/site-packages/IPython/core/interactiveshell.py:3508: FutureWarning: The `op` parameter is deprecated and will be removed in a future release. Please use the `predicate` parameter instead.\n",
      "  exec(code_obj, self.user_global_ns, self.user_ns)\n",
      "/Users/florian_wuennemann/miniconda3/envs/liana_plus/lib/python3.11/site-packages/IPython/core/interactiveshell.py:3508: FutureWarning: The `op` parameter is deprecated and will be removed in a future release. Please use the `predicate` parameter instead.\n",
      "  exec(code_obj, self.user_global_ns, self.user_ns)\n",
      "/Users/florian_wuennemann/miniconda3/envs/liana_plus/lib/python3.11/site-packages/IPython/core/interactiveshell.py:3508: FutureWarning: The `op` parameter is deprecated and will be removed in a future release. Please use the `predicate` parameter instead.\n",
      "  exec(code_obj, self.user_global_ns, self.user_ns)\n",
      "/Users/florian_wuennemann/miniconda3/envs/liana_plus/lib/python3.11/site-packages/IPython/core/interactiveshell.py:3508: FutureWarning: The `op` parameter is deprecated and will be removed in a future release. Please use the `predicate` parameter instead.\n",
      "  exec(code_obj, self.user_global_ns, self.user_ns)\n"
     ]
    },
    {
     "name": "stdout",
     "output_type": "stream",
     "text": [
      "                 sum_sq   df         F  PR(>F)\n",
      "timepoint  84046.702124  3.0  7.346328  0.0279\n",
      "Residual   19067.734135  5.0       NaN     NaN\n",
      "               1d        2d        4h   control\n",
      "1d       1.000000  1.000000  0.060071  0.223765\n",
      "2d       1.000000  1.000000  1.000000  0.459514\n",
      "4h       0.060071  1.000000  1.000000  0.792214\n",
      "control  0.223765  0.459514  0.792214  1.000000\n",
      "                 mean      median\n",
      "timepoint                        \n",
      "control    267.636989  319.031544\n",
      "4h         127.392935  127.392935\n",
      "1d          24.865757   24.865757\n",
      "2d          75.409843   75.409843\n"
     ]
    },
    {
     "data": {
      "image/png": "[encoded data removed]",
      "text/plain": [
       "<Figure size 450x300 with 1 Axes>"
      ]
     },
     "metadata": {},
     "output_type": "display_data"
    }
   ],
   "source": [
    "import matplotlib.pyplot as plt\n",
    "import seaborn as sns\n",
    "import pandas as pd\n",
    "import numpy as np\n",
    "\n",
    "plot_size_factor = 3\n",
    "\n",
    "geojson_path = '../../annotations/SeqIF/sample_1d.r2.endocardium.geojson'\n",
    "pixie_cell_dir = \"../../../data/SeqIF/pixie_cell_masks_0.05/\"\n",
    "cell_table = pixie_cell_dir + \"cell_table_size_normalized_cell_labels.csv\"\n",
    "pixie_cell_table = pd.read_csv(cell_table, header=0)\n",
    "pixie_cell_table['fov'].unique()\n",
    "\n",
    "# Generate a matching dictionary with keys from unique pixie_cell_table fov and values from unique sampleID\n",
    "sampleID_dict = {\"Control_13\" : \"sample_control.r1\",\n",
    "                \"Control_12\" : \"sample_control.r2\",\n",
    "                \"Control_14\" : \"sample_control.r3\",\n",
    "                \"4h_96\" : \"sample_4h.r1\",\n",
    "                \"4h_97\" : \"sample_4h.r2\",\n",
    "                \"24h_83\" : \"sample_1d.r1\",\n",
    "                \"24h_86\" : \"sample_1d.r2\",\n",
    "                \"48h_76\" : \"sample_2d.r1\",\n",
    "                \"48h_79\" : \"sample_2d.r2\"}\n",
    "\n",
    "# rename fovs based on the values for keys in sampleID_dict\n",
    "pixie_cell_table['fov'] = pixie_cell_table['fov'].map(sampleID_dict)\n",
    "\n",
    "# Create empty dictionary distance_dict\n",
    "cells2 = ['Mono / Macros Ccr2+','Neutrophils']\n",
    "distance_dict = {}\n",
    "for sample in pixie_cell_table['fov'].unique(): \n",
    "    geojson_path = '../../annotations/SeqIF/' + sample + '.endocardium.geojson'\n",
    "    distance_dict[sample] = calculate_distances(geojson_path = geojson_path,\n",
    "                        pixie_cell_table = pixie_cell_table, \n",
    "                        sampleID = sample, \n",
    "                        cell_type_1 = \"Endothelial cells\",\n",
    "                        cell_type_2 = cells2,\n",
    "                        resolution = 0.23,\n",
    "                        n_neighbours = 1)\n",
    "\n",
    "import statsmodels.api as sm\n",
    "from statsmodels.formula.api import ols\n",
    "\n",
    "# Create dataframe with distances and samples\n",
    "endo_distances_df = pd.DataFrame({'distance': np.concatenate(list(distance_dict.values())),\n",
    "                                 'sample': np.concatenate([[key] * len(value) for key, value in distance_dict.items()])})\n",
    "\n",
    "# Add timepoint column\n",
    "endo_distances_df['timepoint'] = endo_distances_df['sample'].str.extract(r'sample_(.*)\\.r')\n",
    "endo_distances_df['timepoint'] = pd.Categorical(endo_distances_df['timepoint'], categories=['control', '4h', '1d', '2d'], ordered=True)\n",
    "\n",
    "# Calculate mean distance per sample\n",
    "sample_means = endo_distances_df.groupby(['sample', 'timepoint'])['distance'].mean().reset_index()\n",
    "# Remove items with NaN\n",
    "sample_means = sample_means.dropna()\n",
    "\n",
    "my_pal = {\"control\": \"#1B9E77\", \"4h\": \"#D95F02\", \"1d\":\"#7570B3\", \"2d\":\"#E7298A\"}\n",
    "\n",
    "# Statistical tests on sample means\n",
    "aov_table = sm.stats.anova_lm(ols('distance ~ timepoint', data=sample_means).fit(), typ=2)\n",
    "print(aov_table)\n",
    "\n",
    "import scikit_posthocs as sp\n",
    "t_tests = sp.posthoc_ttest(sample_means, val_col='distance', group_col='timepoint', p_adjust='bonferroni')\n",
    "print(t_tests)\n",
    "\n",
    "# Plotting\n",
    "sns.set_style('white')\n",
    "sns.set_context(\"paper\", font_scale = 1.5)\n",
    "plt.figure(figsize=(plot_size_factor*1.5, plot_size_factor))\n",
    "\n",
    "# Plot bars showing mean per timepoint with black border\n",
    "timepoint_means = sample_means.groupby('timepoint')['distance'].mean()\n",
    "sns.barplot(x=timepoint_means.index, y=timepoint_means.values, palette=my_pal, alpha=1, edgecolor='black')\n",
    "\n",
    "# Add individual points for each sample in solid black\n",
    "sns.scatterplot(data=sample_means, x='timepoint', y='distance', color='black', s=100, edgecolor=None)\n",
    "\n",
    "sns.despine()\n",
    "plt.xlabel('Timepoint')\n",
    "plt.ylabel('Distance (µm)')\n",
    "plt.xticks([0, 1, 2, 3], ['Control', '4hours', '2 days', '4 days'], rotation=90)\n",
    "plt.ylabel('Distance ($\\mu$m)')\n",
    "\n",
    "plt.savefig(\"../../output/seqIF/seqIF.endo_distances_ccr2.pdf\", bbox_inches='tight')\n",
    "\n",
    "# Calculate the mean and median distances per timepoint using sample means\n",
    "print(sample_means.groupby('timepoint')['distance'].agg(['mean', 'median']))"
   ]
  },
  {
   "cell_type": "code",
   "execution_count": 281,
   "metadata": {},
   "outputs": [
    {
     "data": {
      "text/plain": [
       "Text(0, 0.5, 'Number of cells')"
      ]
     },
     "execution_count": 281,
     "metadata": {},
     "output_type": "execute_result"
    },
    {
     "data": {
      "image/png": "[encoded data removed]",
      "text/plain": [
       "<Figure size 640x480 with 1 Axes>"
      ]
     },
     "metadata": {},
     "output_type": "display_data"
    }
   ],
   "source": [
    "# Take pixie_cell_table group by fov and cell_meta_cluster and count the number of cells in each group\n",
    "# Filter pixie cell table for cell_meta_cluster in \n",
    "pixie_cell_table_sub = pixie_cell_table[pixie_cell_table['cell_meta_cluster'].isin(['Mono / Macros Ccr2+', 'Neutrophils', 'Macrophages Trem2+', 'Macrophages Trem2-'])]\n",
    "# Group by fov and cell_meta_cluster and count the number of cells in each group\n",
    "cell_counts = pixie_cell_table_sub.groupby(['fov', 'cell_meta_cluster']).size().reset_index(name='counts')\n",
    "cell_counts = cell_counts.pivot(index='fov', columns='cell_meta_cluster', values='counts')\n",
    "cell_counts = cell_counts.fillna(0)\n",
    "cell_counts = cell_counts.reset_index()\n",
    "cell_counts['timepoint'] = cell_counts['fov'].str.extract(r'sample_(.*)\\.r')\n",
    "cell_counts['timepoint'] = pd.Categorical(cell_counts['timepoint'], categories=['control', '4h', '1d', '2d'], ordered=True)\n",
    "cell_counts = cell_counts.sort_values(by='timepoint')\n",
    "cell_counts = cell_counts.set_index('fov')\n",
    "cell_counts = cell_counts.drop(columns=['timepoint'])\n",
    "cell_counts.plot(kind='bar', stacked=True, colormap='tab10')\n",
    "plt.title('Cell counts')\n",
    "plt.xlabel('Timepoint')\n",
    "plt.ylabel('Number of cells')\n",
    "# Hide legend\n"
   ]
  },
  {
   "cell_type": "markdown",
   "metadata": {},
   "source": [
    "## Calculate for subgroups"
   ]
  },
  {
   "cell_type": "code",
   "execution_count": 4,
   "metadata": {},
   "outputs": [],
   "source": [
    "# From the code above, generate a function that takes as input a geojson file path, a cell table with cell annotations and two cell types of interest. It first subset the first cell type based on the geojson annotation and calculates the distances between the two cell types \n",
    "def calculate_distances_regions(geojson_path, pixie_cell_table, sampleID, cell_type_1, cell_type_2,resolution = 0.23, n_neighbours = 3):\n",
    "    import geopandas as gpd\n",
    "    import pandas as pd\n",
    "    from shapely.geometry import Point\n",
    "    from scipy.spatial import distance\n",
    "    import numpy as np\n",
    "    \n",
    "    # Step 1: Read GeoJSON file\n",
    "    polygons_gdf = gpd.read_file(geojson_path)\n",
    "\n",
    "    # Filter polygons_gdf for classification name = subMI_endocardiallayer\n",
    "    ## Check if sampleID contains 'control'\n",
    "    if 'control' in sampleID:\n",
    "        subset_rows = [polygons_gdf['classification'][i]['name'] == 'Endocardial_layer' for i in range(polygons_gdf.shape[0])]\n",
    "        # Subset rows of polygons_gdf by subset_rows\n",
    "        polygons_gdf_remote = polygons_gdf[subset_rows]\n",
    "    else:\n",
    "        subset_rows_infarct = [polygons_gdf['classification'][i]['name'] == 'subMI_endocardiallayer' for i in range(polygons_gdf.shape[0])]\n",
    "        subset_rows_remote = [polygons_gdf['classification'][i]['name'] != 'subMI_endocardiallayer' for i in range(polygons_gdf.shape[0])]\n",
    "        # Subset rows of polygons_gdf by subset_rows\n",
    "        polygons_gdf_infarct = polygons_gdf[subset_rows_infarct]\n",
    "        polygons_gdf_remote = polygons_gdf[subset_rows_remote]\n",
    "\n",
    "    # Ensure that 'x' and 'y' columns exist\n",
    "    if 'X_centroid' not in pixie_cell_table.columns or 'Y_centroid' not in pixie_cell_table.columns:\n",
    "        raise ValueError(\"Table must contain 'x' and 'y' columns.\")\n",
    "\n",
    "    # Subset pixie_cell_table for fov == Control_12\n",
    "    pixie_cell_table_sub = pixie_cell_table.loc[pixie_cell_table['fov'] == sampleID]\n",
    "\n",
    "    sample_table = pixie_cell_table_sub[pixie_cell_table_sub['cell_meta_cluster'] != 'out_of_mask']\n",
    "\n",
    "    cells1 = pixie_cell_table_sub[pixie_cell_table_sub['cell_meta_cluster'] == cell_type_1]\n",
    "\n",
    "    # Subset sample table for only rows where column cell_meta_cluster is equal to 'Mono / Macros Ccr2+' or 'Neutrophils' or 'Macrophages Trem2+' or 'Macrophages Trem2-'\n",
    "    cells2 = pixie_cell_table_sub[pixie_cell_table_sub['cell_meta_cluster'].isin(cell_type_2) ]\n",
    "\n",
    "    # Step 3: Convert table to GeoDataFrame\n",
    "    # Assuming the table has columns 'x' and 'y' for coordinates\n",
    "    geometry = [Point(xy) for xy in zip(cells1.X_centroid, cells1.Y_centroid)]\n",
    "\n",
    "    # Ensure that the 'geometry' column contains valid Shapely Geometry objects\n",
    "    if not all(isinstance(geom, Point) for geom in geometry):\n",
    "        raise ValueError(\"Invalid geometry objects in the 'geometry' column.\")\n",
    "\n",
    "    ## Turn pixie_cell_table into a geopandas dataframe\n",
    "    points_gdf = gpd.GeoDataFrame(cells1, geometry=geometry)\n",
    "\n",
    "    # Check and set CRS\n",
    "    # Assuming your polygons_gdf has a defined CRS,\n",
    "    # and your points should be in the same CRS\n",
    "    if polygons_gdf_remote.crs is not None and points_gdf.crs is None:\n",
    "        points_gdf.set_crs(polygons_gdf_remote.crs, inplace=True)\n",
    "\n",
    "    # Step 4: Spatial join\n",
    "    # Perform spatial join between points and polygons\n",
    "    # This will add a column 'poly_id' to points_gdf\n",
    "    # which contains the index of the polygon in polygons_gdf\n",
    "        \n",
    "    # invalidate this if statement \"if 'control' in sampleID\" \n",
    "    \n",
    "    cells2_coords = cells2[['X_centroid', 'Y_centroid']].to_numpy()\n",
    "    if 'control' in sampleID:\n",
    "        # There are multiple polygons in polygons_gdf. Check overlap with all of them for each cell. Each cell can only be within one polygon at a time.\n",
    "        points_gdf_remote = gpd.sjoin(points_gdf, polygons_gdf_remote, how=\"inner\", op=\"within\")\n",
    "        \n",
    "        # Step 5: Calculate distances\n",
    "        ## Generate a numpy array with x and y coordinates from endocard_cells\n",
    "        \n",
    "        cells1_coords_remote = points_gdf_remote[['X_centroid', 'Y_centroid']].to_numpy()\n",
    "\n",
    "        ## Step 5: Calculate distance between endocardial cells and myeloid cells\n",
    "        cells_distances_remote = distance.cdist(cells1_coords_remote, cells2_coords, 'euclidean')\n",
    "\n",
    "        # Transform the distances from pixel into micrometer by multiplying with the resolution of the image\n",
    "\n",
    "        cells_distances_remote = cells_distances_remote * resolution\n",
    "\n",
    "        # For each row in endo_distances, keep only the X smallest values and remove the other values from the array\n",
    "        cells_distances_remote = np.array([np.sort(row)[:n_neighbours] for row in cells_distances_remote])\n",
    "\n",
    "        # Flatten the array\n",
    "        cells_distances_remote = cells_distances_remote.flatten()\n",
    "        return {sampleID + \"_remote\" : cells_distances_remote}\n",
    "    else:\n",
    "        points_gdf_infarct = gpd.sjoin(points_gdf, polygons_gdf_infarct, how=\"inner\", op=\"within\")\n",
    "\n",
    "        cells1_coords_infarct = points_gdf_infarct[['X_centroid', 'Y_centroid']].to_numpy()\n",
    "        cells_distances_infarct = distance.cdist(cells1_coords_infarct, cells2_coords, 'euclidean')\n",
    "        cells_distances_infarct = cells_distances_infarct * resolution\n",
    "        cells_distances_infarct = np.array([np.sort(row)[:n_neighbours] for row in cells_distances_infarct])\n",
    "        cells_distances_infarct = cells_distances_infarct.flatten()\n",
    "        # There are multiple polygons in polygons_gdf. Check overlap with all of them for each cell. Each cell can only be within one polygon at a time.\n",
    "        points_gdf_remote = gpd.sjoin(points_gdf, polygons_gdf_remote, how=\"inner\", op=\"within\")\n",
    "        \n",
    "        # Step 5: Calculate distances\n",
    "        ## Generate a numpy array with x and y coordinates from endocard_cells\n",
    "        cells1_coords_remote = points_gdf_remote[['X_centroid', 'Y_centroid']].to_numpy()\n",
    "        cells2_coords = cells2[['X_centroid', 'Y_centroid']].to_numpy()\n",
    "\n",
    "        ## Step 5: Calculate distance between endocardial cells and myeloid cells\n",
    "        cells_distances_remote = distance.cdist(cells1_coords_remote, cells2_coords, 'euclidean')\n",
    "\n",
    "        # Transform the distances from pixel into micrometer by multiplying with the resolution of the image\n",
    "\n",
    "        cells_distances_remote = cells_distances_remote * resolution\n",
    "\n",
    "        # For each row in endo_distances, keep only the X smallest values and remove the other values from the array\n",
    "        cells_distances_remote = np.array([np.sort(row)[:n_neighbours] for row in cells_distances_remote])\n",
    "\n",
    "        # return a dict with sampleID as key and cells_distances_infarct and cells_distances_remote as values\n",
    "        return {sampleID + \"_infarct\": cells_distances_infarct, sampleID + \"_remote\": cells_distances_remote}\n"
   ]
  },
  {
   "cell_type": "code",
   "execution_count": 261,
   "metadata": {},
   "outputs": [
    {
     "name": "stdout",
     "output_type": "stream",
     "text": [
      "sample_1d.r2\n"
     ]
    },
    {
     "name": "stderr",
     "output_type": "stream",
     "text": [
      "/Users/florian_wuennemann/miniconda3/envs/geopandas/lib/python3.12/site-packages/IPython/core/interactiveshell.py:3553: FutureWarning: The `op` parameter is deprecated and will be removed in a future release. Please use the `predicate` parameter instead.\n",
      "  exec(code_obj, self.user_global_ns, self.user_ns)\n",
      "/Users/florian_wuennemann/miniconda3/envs/geopandas/lib/python3.12/site-packages/IPython/core/interactiveshell.py:3553: FutureWarning: The `op` parameter is deprecated and will be removed in a future release. Please use the `predicate` parameter instead.\n",
      "  exec(code_obj, self.user_global_ns, self.user_ns)\n"
     ]
    },
    {
     "name": "stdout",
     "output_type": "stream",
     "text": [
      "sample_1d.r1\n"
     ]
    },
    {
     "name": "stderr",
     "output_type": "stream",
     "text": [
      "/Users/florian_wuennemann/miniconda3/envs/geopandas/lib/python3.12/site-packages/IPython/core/interactiveshell.py:3553: FutureWarning: The `op` parameter is deprecated and will be removed in a future release. Please use the `predicate` parameter instead.\n",
      "  exec(code_obj, self.user_global_ns, self.user_ns)\n",
      "/Users/florian_wuennemann/miniconda3/envs/geopandas/lib/python3.12/site-packages/IPython/core/interactiveshell.py:3553: FutureWarning: The `op` parameter is deprecated and will be removed in a future release. Please use the `predicate` parameter instead.\n",
      "  exec(code_obj, self.user_global_ns, self.user_ns)\n"
     ]
    },
    {
     "name": "stdout",
     "output_type": "stream",
     "text": [
      "sample_control.r1\n"
     ]
    },
    {
     "name": "stderr",
     "output_type": "stream",
     "text": [
      "/Users/florian_wuennemann/miniconda3/envs/geopandas/lib/python3.12/site-packages/IPython/core/interactiveshell.py:3553: FutureWarning: The `op` parameter is deprecated and will be removed in a future release. Please use the `predicate` parameter instead.\n",
      "  exec(code_obj, self.user_global_ns, self.user_ns)\n"
     ]
    },
    {
     "name": "stdout",
     "output_type": "stream",
     "text": [
      "sample_control.r2\n"
     ]
    },
    {
     "name": "stderr",
     "output_type": "stream",
     "text": [
      "/Users/florian_wuennemann/miniconda3/envs/geopandas/lib/python3.12/site-packages/IPython/core/interactiveshell.py:3553: FutureWarning: The `op` parameter is deprecated and will be removed in a future release. Please use the `predicate` parameter instead.\n",
      "  exec(code_obj, self.user_global_ns, self.user_ns)\n"
     ]
    },
    {
     "name": "stdout",
     "output_type": "stream",
     "text": [
      "sample_4h.r2\n"
     ]
    },
    {
     "name": "stderr",
     "output_type": "stream",
     "text": [
      "/Users/florian_wuennemann/miniconda3/envs/geopandas/lib/python3.12/site-packages/IPython/core/interactiveshell.py:3553: FutureWarning: The `op` parameter is deprecated and will be removed in a future release. Please use the `predicate` parameter instead.\n",
      "  exec(code_obj, self.user_global_ns, self.user_ns)\n",
      "/Users/florian_wuennemann/miniconda3/envs/geopandas/lib/python3.12/site-packages/IPython/core/interactiveshell.py:3553: FutureWarning: The `op` parameter is deprecated and will be removed in a future release. Please use the `predicate` parameter instead.\n",
      "  exec(code_obj, self.user_global_ns, self.user_ns)\n",
      "/Users/florian_wuennemann/miniconda3/envs/geopandas/lib/python3.12/site-packages/IPython/core/interactiveshell.py:3553: FutureWarning: The `op` parameter is deprecated and will be removed in a future release. Please use the `predicate` parameter instead.\n",
      "  exec(code_obj, self.user_global_ns, self.user_ns)\n",
      "/Users/florian_wuennemann/miniconda3/envs/geopandas/lib/python3.12/site-packages/IPython/core/interactiveshell.py:3553: FutureWarning: The `op` parameter is deprecated and will be removed in a future release. Please use the `predicate` parameter instead.\n",
      "  exec(code_obj, self.user_global_ns, self.user_ns)\n"
     ]
    },
    {
     "name": "stdout",
     "output_type": "stream",
     "text": [
      "sample_4h.r1\n",
      "sample_2d.r2\n"
     ]
    },
    {
     "name": "stderr",
     "output_type": "stream",
     "text": [
      "/Users/florian_wuennemann/miniconda3/envs/geopandas/lib/python3.12/site-packages/IPython/core/interactiveshell.py:3553: FutureWarning: The `op` parameter is deprecated and will be removed in a future release. Please use the `predicate` parameter instead.\n",
      "  exec(code_obj, self.user_global_ns, self.user_ns)\n",
      "/Users/florian_wuennemann/miniconda3/envs/geopandas/lib/python3.12/site-packages/IPython/core/interactiveshell.py:3553: FutureWarning: The `op` parameter is deprecated and will be removed in a future release. Please use the `predicate` parameter instead.\n",
      "  exec(code_obj, self.user_global_ns, self.user_ns)\n"
     ]
    },
    {
     "name": "stdout",
     "output_type": "stream",
     "text": [
      "sample_2d.r1\n",
      "sample_control.r3\n"
     ]
    },
    {
     "name": "stderr",
     "output_type": "stream",
     "text": [
      "/Users/florian_wuennemann/miniconda3/envs/geopandas/lib/python3.12/site-packages/IPython/core/interactiveshell.py:3553: FutureWarning: The `op` parameter is deprecated and will be removed in a future release. Please use the `predicate` parameter instead.\n",
      "  exec(code_obj, self.user_global_ns, self.user_ns)\n",
      "/Users/florian_wuennemann/miniconda3/envs/geopandas/lib/python3.12/site-packages/IPython/core/interactiveshell.py:3553: FutureWarning: The `op` parameter is deprecated and will be removed in a future release. Please use the `predicate` parameter instead.\n",
      "  exec(code_obj, self.user_global_ns, self.user_ns)\n",
      "/Users/florian_wuennemann/miniconda3/envs/geopandas/lib/python3.12/site-packages/IPython/core/interactiveshell.py:3553: FutureWarning: The `op` parameter is deprecated and will be removed in a future release. Please use the `predicate` parameter instead.\n",
      "  exec(code_obj, self.user_global_ns, self.user_ns)\n"
     ]
    }
   ],
   "source": [
    "import matplotlib.pyplot as plt\n",
    "import seaborn as sns\n",
    "import pandas as pd\n",
    "import numpy as np\n",
    "\n",
    "geojson_path = '../../annotations/SeqIF/sample_1d.r2.endocardium.geojson'\n",
    "pixie_cell_dir = \"../../../Lunaphore/pixie/masked_subset/cell_masks_0.05/\"\n",
    "cell_table = pixie_cell_dir + \"cell_table_size_normalized_cell_labels.csv\"\n",
    "pixie_cell_table = pd.read_csv(cell_table, header=0)\n",
    "pixie_cell_table['fov'].unique()\n",
    "\n",
    "# Generate a matching dictionary with keys from unique pixie_cell_table fov and values from unique sampleID\n",
    "sampleID_dict = {\"Control_13\" : \"sample_control.r1\",\n",
    "                \"Control_12\" : \"sample_control.r2\",\n",
    "                \"Control_14\" : \"sample_control.r3\",\n",
    "                \"4h_96\" : \"sample_4h.r1\",\n",
    "                \"4h_97\" : \"sample_4h.r2\",\n",
    "                \"24h_83\" : \"sample_1d.r1\",\n",
    "                \"24h_86\" : \"sample_1d.r2\",\n",
    "                \"48h_76\" : \"sample_2d.r1\",\n",
    "                \"48h_79\" : \"sample_2d.r2\"}\n",
    "\n",
    "# rename fovs based on the values for keys in sampleID_dict\n",
    "pixie_cell_table['fov'] = pixie_cell_table['fov'].map(sampleID_dict)\n",
    "\n",
    "# Create empty dictionary distance_dict\n",
    "distance_dict = {}\n",
    "for sample in pixie_cell_table['fov'].unique(): \n",
    "    print(sample)\n",
    "    geojson_path = '../../annotations/SeqIF/' + sample + '.endocardium.geojson'\n",
    "    distance_dict[sample] = calculate_distances_regions(geojson_path = geojson_path,\n",
    "                        pixie_cell_table = pixie_cell_table, \n",
    "                        sampleID = sample, \n",
    "                        cell_type_1 = \"Endothelial cells\",\n",
    "                        cell_type_2 = ['Mono / Macros Ccr2+', 'Neutrophils', 'Macrophages Trem2+', 'Macrophages Trem2-'],\n",
    "                        resolution = 0.23,\n",
    "                        n_neighbours = 3)"
   ]
  },
  {
   "cell_type": "code",
   "execution_count": 5,
   "metadata": {},
   "outputs": [
    {
     "ename": "NameError",
     "evalue": "name 'distance_dict' is not defined",
     "output_type": "error",
     "traceback": [
      "\u001b[0;31m---------------------------------------------------------------------------\u001b[0m",
      "\u001b[0;31mNameError\u001b[0m                                 Traceback (most recent call last)",
      "Cell \u001b[0;32mIn[5], line 4\u001b[0m\n\u001b[1;32m      1\u001b[0m \u001b[38;5;66;03m# Make an empty dataframe\u001b[39;00m\n\u001b[1;32m      2\u001b[0m endo_distances_df \u001b[38;5;241m=\u001b[39m pd\u001b[38;5;241m.\u001b[39mDataFrame()\n\u001b[0;32m----> 4\u001b[0m \u001b[38;5;28;01mfor\u001b[39;00m key, inner_dict \u001b[38;5;129;01min\u001b[39;00m \u001b[43mdistance_dict\u001b[49m\u001b[38;5;241m.\u001b[39mitems():\n\u001b[1;32m      5\u001b[0m     \u001b[38;5;28;01mfor\u001b[39;00m inner_key, value \u001b[38;5;129;01min\u001b[39;00m inner_dict\u001b[38;5;241m.\u001b[39mitems():\n\u001b[1;32m      6\u001b[0m         \u001b[38;5;66;03m# Create a dataframe with a column distance and the values from the inner_dict. Values in inner dict are lists of 3 distances\u001b[39;00m\n\u001b[1;32m      7\u001b[0m         df \u001b[38;5;241m=\u001b[39m pd\u001b[38;5;241m.\u001b[39mDataFrame({\u001b[38;5;124m'\u001b[39m\u001b[38;5;124mdistance\u001b[39m\u001b[38;5;124m'\u001b[39m: value\u001b[38;5;241m.\u001b[39mflatten()})\n",
      "\u001b[0;31mNameError\u001b[0m: name 'distance_dict' is not defined"
     ]
    }
   ],
   "source": [
    "# Make an empty dataframe\n",
    "endo_distances_df = pd.DataFrame()\n",
    "\n",
    "for key, inner_dict in distance_dict.items():\n",
    "    for inner_key, value in inner_dict.items():\n",
    "        # Create a dataframe with a column distance and the values from the inner_dict. Values in inner dict are lists of 3 distances\n",
    "        df = pd.DataFrame({'distance': value.flatten()})\n",
    "\n",
    "        # Then, add a new column 'sample' that contains the inner_key for each row\n",
    "        df['sample'] = inner_key\n",
    "\n",
    "        # Append the inner_df to endo_distances_df\n",
    "        endo_distances_df = pd.concat([endo_distances_df, df])\n",
    "\n",
    "# Add a column named timepoint to endo_distances_df based on the string between sample_ and .r in the sample column. Keep the string after sample_ and before .r\n",
    "endo_distances_df['timepoint'] = endo_distances_df['sample'].str.extract(r'sample_(.*)\\.r')\n",
    "\n",
    "# Sort timepoints in plots like this : Control, 4h, 1d, 2d\n",
    "endo_distances_df['timepoint'] = pd.Categorical(endo_distances_df['timepoint'], categories=['control', '4h', '1d', '2d'], ordered=True)\n",
    "\n",
    "# Add a colummn named region to endo_distances_df based on whether _remote or infarct is in the sample column. If _remote is in the sample column, the region is remote. If infarct is in the sample column, the region is infarct\n",
    "endo_distances_df['region'] = np.where(endo_distances_df['sample'].str.contains('remote'), 'remote', 'infarct')\n",
    "\n",
    "# Make a violin plot with timepoint on the x axis and distance on the y axis, and with the region as the hue\n",
    "sns.set_style('white')\n",
    "sns.set_context(\"paper\", font_scale = 2)\n",
    "\n",
    "sns.violinplot(x=endo_distances_df['timepoint'], y=endo_distances_df['distance'], hue=endo_distances_df['region'], alpha=1, linewidth=1, palette=\"tab10\")\n",
    "sns.despine()\n",
    "plt.xlabel('Timepoint')\n",
    "plt.ylabel('Distance (µm)')\n",
    "plt.title('Distance between Endocardial cells and Myeloid cells')\n",
    "# Rotate x axis labels\n",
    "plt.xticks(rotation=90)"
   ]
  },
  {
   "cell_type": "code",
   "execution_count": 259,
   "metadata": {},
   "outputs": [
    {
     "name": "stdout",
     "output_type": "stream",
     "text": [
      "                         mean      median\n",
      "timepoint region                         \n",
      "control   infarct         NaN         NaN\n",
      "          remote   192.917397  187.962434\n",
      "4h        infarct  124.587629  105.748741\n",
      "          remote   136.358329  133.809530\n",
      "1d        infarct   34.382474   23.998157\n",
      "          remote    81.115506   58.970338\n",
      "2d        infarct   54.930767   44.805129\n",
      "          remote    81.992916   69.380099\n"
     ]
    },
    {
     "name": "stderr",
     "output_type": "stream",
     "text": [
      "/var/folders/ph/m6mhj3s541799cykzbp3dx0m0000gn/T/ipykernel_37806/2576309867.py:2: FutureWarning: The default of observed=False is deprecated and will be changed to True in a future version of pandas. Pass observed=False to retain current behavior or observed=True to adopt the future default and silence this warning.\n",
      "  print(endo_distances_df.groupby(['timepoint', 'region'])['distance'].agg(['mean', 'median']))\n"
     ]
    }
   ],
   "source": [
    "# Calculate mean and median distance for each sample by region and timepoint\n",
    "print(endo_distances_df.groupby(['timepoint', 'region'])['distance'].agg(['mean', 'median']))"
   ]
  }
 ],
 "metadata": {
  "kernelspec": {
   "display_name": "liana_plus",
   "language": "python",
   "name": "python3"
  },
  "language_info": {
   "codemirror_mode": {
    "name": "ipython",
    "version": 3
   },
   "file_extension": ".py",
   "mimetype": "text/x-python",
   "name": "python",
   "nbconvert_exporter": "python",
   "pygments_lexer": "ipython3",
   "version": "3.11.5"
  }
 },
 "nbformat": 4,
 "nbformat_minor": 2
}
