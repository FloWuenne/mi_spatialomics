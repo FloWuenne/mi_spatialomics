{
 "cells": [
  {
   "cell_type": "code",
   "execution_count": 1,
   "metadata": {},
   "outputs": [],
   "source": [
    "import pandas as pd\n",
    "import numpy as np\n",
    "import os\n",
    "import matplotlib.pyplot as plt\n",
    "from matplotlib import colors\n",
    "from PIL import Image\n",
    "import napari\n",
    "import skimage.io as io\n",
    "import seaborn as sns\n",
    "import pandas as pd\n",
    "import colorcet as cc\n",
    "import sys\n",
    "import tifffile\n",
    "from scipy import ndimage\n",
    "from skimage.segmentation import find_boundaries\n",
    "\n",
    "sys.path.append('..')\n",
    "from spatialMI_functions import plot_layers_napari, crop_black_margins, plot_pixie_maps\n",
    "\n",
    "import warnings\n",
    "warnings.filterwarnings(\"ignore\")\n"
   ]
  },
  {
   "cell_type": "code",
   "execution_count": 2,
   "metadata": {},
   "outputs": [
    {
     "name": "stdout",
     "output_type": "stream",
     "text": [
      "#0000dd\n",
      "#ffa52f\n",
      "#6b004f\n",
      "#d55e00\n",
      "#d60000\n",
      "#8c3bff\n",
      "#018700\n",
      "#97ff00\n",
      "#a17569\n",
      "#ff00ff\n"
     ]
    }
   ],
   "source": [
    "## Define color palettes for the different images\n",
    "\n",
    "## Lunaphore images\n",
    "channel_order = [\"DAPI\",\n",
    "                 \"TNNT2\",\"ANKRD1\",\"PDGFRa\",\"CD31\",\"aSMA\",\n",
    "                 \"CD45\",\"CCR2\",\"TREM2\",\"CD68\",\"MPO\"]\n",
    "colorblind = sns.color_palette(\"colorblind\")\n",
    "glasbey = sns.color_palette(cc.glasbey)\n",
    "comet_images_color = ['cyan',\n",
    "                      glasbey[10],glasbey[7],glasbey[6],colorblind[3],glasbey[0],\n",
    "                      glasbey[1],glasbey[2],glasbey[4],glasbey[12],\"magenta\"]\n",
    "\n",
    "## Pixel maps\n",
    "pixel_maps_color = sns.color_palette(cc.glasbey)\n",
    "\n",
    "## Cell clusters\n",
    "cell_cluster_color = sns.color_palette(cc.glasbey)\n",
    "\n",
    "for color in comet_images_color:\n",
    "    if color != \"cyan\":\n",
    "        print(colors.to_hex(color))"
   ]
  },
  {
   "cell_type": "markdown",
   "metadata": {},
   "source": [
    "# Lunaphore background subtracted images"
   ]
  },
  {
   "cell_type": "code",
   "execution_count": 3,
   "metadata": {},
   "outputs": [
    {
     "data": {
      "image/png": "[encoded data removed]",
      "text/plain": [
       "<Figure size 640x480 with 1 Axes>"
      ]
     },
     "metadata": {},
     "output_type": "display_data"
    }
   ],
   "source": [
    "import matplotlib.pyplot as plt\n",
    "\n",
    "# Create a figure and axis\n",
    "fig, ax = plt.subplots()\n",
    "\n",
    "# Plot a bar for each channel with its corresponding color\n",
    "for i, color in enumerate(comet_images_color):\n",
    "    ax.bar(i, 1, color=color, width=1)\n",
    "\n",
    "# Set the x-ticks and labels\n",
    "ax.set_xticks(range(len(comet_images_color)))\n",
    "ax.set_xticklabels(channel_order, rotation=90)\n",
    "\n",
    "# Set the y-ticks and labels\n",
    "ax.set_yticks([])\n",
    "ax.set_ylabel('Intensity')\n",
    "\n",
    "# Show the plot\n",
    "plt.show()"
   ]
  },
  {
   "cell_type": "markdown",
   "metadata": {},
   "source": [
    "## Full images"
   ]
  },
  {
   "cell_type": "code",
   "execution_count": 9,
   "metadata": {},
   "outputs": [
    {
     "name": "stdout",
     "output_type": "stream",
     "text": [
      "Control_14\n",
      "DAPI.tif\n",
      "TNNT2.tif\n",
      "ANKRD1.tif\n",
      "PDGFRa.tif\n",
      "CD31.tif\n",
      "aSMA.tif\n",
      "CD45.tif\n",
      "CCR2.tif\n",
      "TREM2.tif\n",
      "CD68.tif\n",
      "MPO.tif\n"
     ]
    },
    {
     "ename": "KeyboardInterrupt",
     "evalue": "",
     "output_type": "error",
     "traceback": [
      "\u001b[0;31m---------------------------------------------------------------------------\u001b[0m",
      "\u001b[0;31mKeyboardInterrupt\u001b[0m                         Traceback (most recent call last)",
      "File \u001b[0;32m~/miniconda3/envs/spatialomics_MI/lib/python3.11/site-packages/napari/_qt/qt_main_window.py:226\u001b[0m, in \u001b[0;36m_QtMainWindow.eventFilter\u001b[0;34m(self, source, event)\u001b[0m\n\u001b[1;32m    223\u001b[0m             inst\u001b[39m.\u001b[39mappend(inst\u001b[39m.\u001b[39mpop(inst\u001b[39m.\u001b[39mindex(\u001b[39mself\u001b[39m)))\n\u001b[1;32m    224\u001b[0m     \u001b[39mreturn\u001b[39;00m \u001b[39msuper\u001b[39m()\u001b[39m.\u001b[39mevent(e)\n\u001b[0;32m--> 226\u001b[0m \u001b[39mdef\u001b[39;00m \u001b[39meventFilter\u001b[39m(\u001b[39mself\u001b[39m, source, event):\n\u001b[1;32m    227\u001b[0m     \u001b[39m# Handle showing hidden menubar on mouse move event.\u001b[39;00m\n\u001b[1;32m    228\u001b[0m     \u001b[39m# We do not hide menubar when a menu is being shown or\u001b[39;00m\n\u001b[1;32m    229\u001b[0m     \u001b[39m# we are not in menubar toggled state\u001b[39;00m\n\u001b[1;32m    230\u001b[0m     \u001b[39mif\u001b[39;00m (\n\u001b[1;32m    231\u001b[0m         QApplication\u001b[39m.\u001b[39mactivePopupWidget() \u001b[39mis\u001b[39;00m \u001b[39mNone\u001b[39;00m\n\u001b[1;32m    232\u001b[0m         \u001b[39mand\u001b[39;00m \u001b[39mself\u001b[39m\u001b[39m.\u001b[39m_toggle_menubar_visibility\n\u001b[1;32m    233\u001b[0m     ):\n\u001b[1;32m    234\u001b[0m         \u001b[39mif\u001b[39;00m event\u001b[39m.\u001b[39mtype() \u001b[39m==\u001b[39m QEvent\u001b[39m.\u001b[39mMouseMove:\n",
      "\u001b[0;31mKeyboardInterrupt\u001b[0m: "
     ]
    },
    {
     "ename": "",
     "evalue": "",
     "output_type": "error",
     "traceback": [
      "\u001b[1;31mThe Kernel crashed while executing code in the the current cell or a previous cell. Please review the code in the cell(s) to identify a possible cause of the failure. Click <a href='https://aka.ms/vscodeJupyterKernelCrash'>here</a> for more info. View Jupyter <a href='command:jupyter.viewOutput'>log</a> for further details."
     ]
    }
   ],
   "source": [
    "mantis_dir = \"/Volumes/Luna_heart/Florian_MI/pixie/mantis\"\n",
    "\n",
    "contrast_limits_img = [[0, 30000],   # DAPI\n",
    "                                  [0, 20000],   # TNNT2\n",
    "                                  [0, 30000],   # ANKRD1\n",
    "                                  [0, 30000],   # PDGFRa\n",
    "                                  [0, 40000],   # CD31\n",
    "                                  [0, 30000],   # aSMA\n",
    "                                  [0, 30000],   # CD45\n",
    "                                  [0, 30000],   # CCR2\n",
    "                                  [0, 30000],   # TREM2\n",
    "                                  [0, 30000],   # CD68\n",
    "                                  [0, 30000]]  # MPO\n",
    "\n",
    "# Iterate over all folders in mantis_dir\n",
    "for folder in os.listdir(mantis_dir):\n",
    "    print(folder)\n",
    "    file_list = [\"DAPI.tif\",\"TNNT2.tif\",\"ANKRD1.tif\",\"PDGFRa.tif\",\"CD31.tif\",\n",
    "                \"aSMA.tif\",\"CD45.tif\",\"CCR2.tif\",\"TREM2.tif\",\"CD68.tif\",\"MPO.tif\"]\n",
    "    # Load the first image to get the image shape\n",
    "    first_image = io.imread(os.path.join(mantis_dir, folder, file_list[0]))\n",
    "    image_shape = (len(file_list),) + first_image.shape\n",
    "\n",
    "    # Create an empty array to hold the stacked images\n",
    "    stacked_images = np.zeros(image_shape, dtype=first_image.dtype)\n",
    "\n",
    "    ## Get roi for heart area\n",
    "    roi = pd.read_csv(os.path.join(mantis_dir,folder, \"roi.csv\"),encoding = 'unicode_escape')\n",
    "\n",
    "    # Iterate over all files in mantis_dir and stack them into the array\n",
    "    for i, filename in enumerate(file_list):\n",
    "        print(filename)\n",
    "        image = io.imread(os.path.join(mantis_dir,folder, filename))\n",
    "        stacked_images[i] = image\n",
    "\n",
    "    plot_layers_napari(image = stacked_images,image_channel_axis = 0, image_channel_colors = comet_images_color, points_data = None,genes_of_interest = None,\n",
    "        roi = roi, mask = None,pt_size=40,\n",
    "        output_path = \"../../output/seqIF/lunaphore_images/\" + folder + \"comet_image.figure3.png\",\n",
    "        scale_bar = True, font_size = 75, scale = 1, scalebar_length = 500, \n",
    "        img_type = \"lunaphore\",roi_plot = None, box_edge_thickness = 70,\n",
    "        crop_out_path =  \"../../output/seqIF/lunaphore_images/\", sample = folder,\n",
    "        image_contrast_limits = contrast_limits_img, channel_names=channel_order)\n"
   ]
  },
  {
   "cell_type": "markdown",
   "metadata": {},
   "source": [
    "## Full image for 24h_83"
   ]
  },
  {
   "cell_type": "code",
   "execution_count": 30,
   "metadata": {},
   "outputs": [
    {
     "name": "stdout",
     "output_type": "stream",
     "text": [
      "DAPI.tif\n",
      "TNNT2.tif\n",
      "ANKRD1.tif\n",
      "PDGFRa.tif\n",
      "CD31.tif\n",
      "aSMA.tif\n"
     ]
    },
    {
     "ename": "KeyboardInterrupt",
     "evalue": "",
     "output_type": "error",
     "traceback": [
      "\u001b[0;31m---------------------------------------------------------------------------\u001b[0m",
      "\u001b[0;31mKeyboardInterrupt\u001b[0m                         Traceback (most recent call last)",
      "\u001b[0;32m/var/folders/ph/m6mhj3s541799cykzbp3dx0m0000gn/T/ipykernel_1828/3676763130.py\u001b[0m in \u001b[0;36m?\u001b[0;34m()\u001b[0m\n\u001b[1;32m     27\u001b[0m \u001b[0;34m\u001b[0m\u001b[0m\n\u001b[1;32m     28\u001b[0m \u001b[0;31m# Iterate over all files in mantis_dir and stack them into the array\u001b[0m\u001b[0;34m\u001b[0m\u001b[0;34m\u001b[0m\u001b[0m\n\u001b[1;32m     29\u001b[0m \u001b[0;32mfor\u001b[0m \u001b[0mi\u001b[0m\u001b[0;34m,\u001b[0m \u001b[0mfilename\u001b[0m \u001b[0;32min\u001b[0m \u001b[0menumerate\u001b[0m\u001b[0;34m(\u001b[0m\u001b[0mfile_list\u001b[0m\u001b[0;34m)\u001b[0m\u001b[0;34m:\u001b[0m\u001b[0;34m\u001b[0m\u001b[0;34m\u001b[0m\u001b[0m\n\u001b[1;32m     30\u001b[0m     \u001b[0mprint\u001b[0m\u001b[0;34m(\u001b[0m\u001b[0mfilename\u001b[0m\u001b[0;34m)\u001b[0m\u001b[0;34m\u001b[0m\u001b[0;34m\u001b[0m\u001b[0m\n\u001b[0;32m---> 31\u001b[0;31m     \u001b[0mimage\u001b[0m \u001b[0;34m=\u001b[0m \u001b[0mio\u001b[0m\u001b[0;34m.\u001b[0m\u001b[0mimread\u001b[0m\u001b[0;34m(\u001b[0m\u001b[0mos\u001b[0m\u001b[0;34m.\u001b[0m\u001b[0mpath\u001b[0m\u001b[0;34m.\u001b[0m\u001b[0mjoin\u001b[0m\u001b[0;34m(\u001b[0m\u001b[0mmantis_dir\u001b[0m\u001b[0;34m,\u001b[0m\u001b[0msample_dir\u001b[0m\u001b[0;34m,\u001b[0m \u001b[0mfilename\u001b[0m\u001b[0;34m)\u001b[0m\u001b[0;34m)\u001b[0m\u001b[0;34m\u001b[0m\u001b[0;34m\u001b[0m\u001b[0m\n\u001b[0m\u001b[1;32m     32\u001b[0m     \u001b[0mstacked_images\u001b[0m\u001b[0;34m[\u001b[0m\u001b[0mi\u001b[0m\u001b[0;34m]\u001b[0m \u001b[0;34m=\u001b[0m \u001b[0mimage\u001b[0m\u001b[0;34m\u001b[0m\u001b[0;34m\u001b[0m\u001b[0m\n\u001b[1;32m     33\u001b[0m \u001b[0;34m\u001b[0m\u001b[0m\n\u001b[1;32m     34\u001b[0m plot_layers_napari(image = stacked_images,image_channel_axis = 0, image_channel_colors = comet_images_color, points_data = None,genes_of_interest = None,\n",
      "\u001b[0;32m~/miniconda3/envs/spatialomics_MI/lib/python3.11/site-packages/skimage/io/_io.py\u001b[0m in \u001b[0;36m?\u001b[0;34m(fname, as_gray, plugin, **plugin_args)\u001b[0m\n\u001b[1;32m     49\u001b[0m         \u001b[0;32mif\u001b[0m \u001b[0mfname\u001b[0m\u001b[0;34m.\u001b[0m\u001b[0mlower\u001b[0m\u001b[0;34m(\u001b[0m\u001b[0;34m)\u001b[0m\u001b[0;34m.\u001b[0m\u001b[0mendswith\u001b[0m\u001b[0;34m(\u001b[0m\u001b[0;34m(\u001b[0m\u001b[0;34m'.tiff'\u001b[0m\u001b[0;34m,\u001b[0m \u001b[0;34m'.tif'\u001b[0m\u001b[0;34m)\u001b[0m\u001b[0;34m)\u001b[0m\u001b[0;34m:\u001b[0m\u001b[0;34m\u001b[0m\u001b[0;34m\u001b[0m\u001b[0m\n\u001b[1;32m     50\u001b[0m             \u001b[0mplugin\u001b[0m \u001b[0;34m=\u001b[0m \u001b[0;34m'tifffile'\u001b[0m\u001b[0;34m\u001b[0m\u001b[0;34m\u001b[0m\u001b[0m\n\u001b[1;32m     51\u001b[0m \u001b[0;34m\u001b[0m\u001b[0m\n\u001b[1;32m     52\u001b[0m     \u001b[0;32mwith\u001b[0m \u001b[0mfile_or_url_context\u001b[0m\u001b[0;34m(\u001b[0m\u001b[0mfname\u001b[0m\u001b[0;34m)\u001b[0m \u001b[0;32mas\u001b[0m \u001b[0mfname\u001b[0m\u001b[0;34m:\u001b[0m\u001b[0;34m\u001b[0m\u001b[0;34m\u001b[0m\u001b[0m\n\u001b[0;32m---> 53\u001b[0;31m         \u001b[0mimg\u001b[0m \u001b[0;34m=\u001b[0m \u001b[0mcall_plugin\u001b[0m\u001b[0;34m(\u001b[0m\u001b[0;34m'imread'\u001b[0m\u001b[0;34m,\u001b[0m \u001b[0mfname\u001b[0m\u001b[0;34m,\u001b[0m \u001b[0mplugin\u001b[0m\u001b[0;34m=\u001b[0m\u001b[0mplugin\u001b[0m\u001b[0;34m,\u001b[0m \u001b[0;34m**\u001b[0m\u001b[0mplugin_args\u001b[0m\u001b[0;34m)\u001b[0m\u001b[0;34m\u001b[0m\u001b[0;34m\u001b[0m\u001b[0m\n\u001b[0m\u001b[1;32m     54\u001b[0m \u001b[0;34m\u001b[0m\u001b[0m\n\u001b[1;32m     55\u001b[0m     \u001b[0;32mif\u001b[0m \u001b[0;32mnot\u001b[0m \u001b[0mhasattr\u001b[0m\u001b[0;34m(\u001b[0m\u001b[0mimg\u001b[0m\u001b[0;34m,\u001b[0m \u001b[0;34m'ndim'\u001b[0m\u001b[0;34m)\u001b[0m\u001b[0;34m:\u001b[0m\u001b[0;34m\u001b[0m\u001b[0;34m\u001b[0m\u001b[0m\n\u001b[1;32m     56\u001b[0m         \u001b[0;32mreturn\u001b[0m \u001b[0mimg\u001b[0m\u001b[0;34m\u001b[0m\u001b[0;34m\u001b[0m\u001b[0m\n",
      "\u001b[0;32m~/miniconda3/envs/spatialomics_MI/lib/python3.11/site-packages/skimage/io/manage_plugins.py\u001b[0m in \u001b[0;36m?\u001b[0;34m(kind, *args, **kwargs)\u001b[0m\n\u001b[1;32m    201\u001b[0m             \u001b[0mfunc\u001b[0m \u001b[0;34m=\u001b[0m \u001b[0;34m[\u001b[0m\u001b[0mf\u001b[0m \u001b[0;32mfor\u001b[0m \u001b[0;34m(\u001b[0m\u001b[0mp\u001b[0m\u001b[0;34m,\u001b[0m \u001b[0mf\u001b[0m\u001b[0;34m)\u001b[0m \u001b[0;32min\u001b[0m \u001b[0mplugin_funcs\u001b[0m \u001b[0;32mif\u001b[0m \u001b[0mp\u001b[0m \u001b[0;34m==\u001b[0m \u001b[0mplugin\u001b[0m\u001b[0;34m]\u001b[0m\u001b[0;34m[\u001b[0m\u001b[0;36m0\u001b[0m\u001b[0;34m]\u001b[0m\u001b[0;34m\u001b[0m\u001b[0;34m\u001b[0m\u001b[0m\n\u001b[1;32m    202\u001b[0m         \u001b[0;32mexcept\u001b[0m \u001b[0mIndexError\u001b[0m\u001b[0;34m:\u001b[0m\u001b[0;34m\u001b[0m\u001b[0;34m\u001b[0m\u001b[0m\n\u001b[1;32m    203\u001b[0m             \u001b[0;32mraise\u001b[0m \u001b[0mRuntimeError\u001b[0m\u001b[0;34m(\u001b[0m\u001b[0;34mf'Could not find the plugin \"{plugin}\" for {kind}.'\u001b[0m\u001b[0;34m)\u001b[0m\u001b[0;34m\u001b[0m\u001b[0;34m\u001b[0m\u001b[0m\n\u001b[1;32m    204\u001b[0m \u001b[0;34m\u001b[0m\u001b[0m\n\u001b[0;32m--> 205\u001b[0;31m     \u001b[0;32mreturn\u001b[0m \u001b[0mfunc\u001b[0m\u001b[0;34m(\u001b[0m\u001b[0;34m*\u001b[0m\u001b[0margs\u001b[0m\u001b[0;34m,\u001b[0m \u001b[0;34m**\u001b[0m\u001b[0mkwargs\u001b[0m\u001b[0;34m)\u001b[0m\u001b[0;34m\u001b[0m\u001b[0;34m\u001b[0m\u001b[0m\n\u001b[0m",
      "\u001b[0;32m~/miniconda3/envs/spatialomics_MI/lib/python3.11/site-packages/skimage/io/_plugins/tifffile_plugin.py\u001b[0m in \u001b[0;36m?\u001b[0;34m(fname, **kwargs)\u001b[0m\n\u001b[1;32m     70\u001b[0m     \"\"\"\n\u001b[1;32m     71\u001b[0m     \u001b[0;32mif\u001b[0m \u001b[0;34m'img_num'\u001b[0m \u001b[0;32min\u001b[0m \u001b[0mkwargs\u001b[0m\u001b[0;34m:\u001b[0m\u001b[0;34m\u001b[0m\u001b[0;34m\u001b[0m\u001b[0m\n\u001b[1;32m     72\u001b[0m         \u001b[0mkwargs\u001b[0m\u001b[0;34m[\u001b[0m\u001b[0;34m'key'\u001b[0m\u001b[0;34m]\u001b[0m \u001b[0;34m=\u001b[0m \u001b[0mkwargs\u001b[0m\u001b[0;34m.\u001b[0m\u001b[0mpop\u001b[0m\u001b[0;34m(\u001b[0m\u001b[0;34m'img_num'\u001b[0m\u001b[0;34m)\u001b[0m\u001b[0;34m\u001b[0m\u001b[0;34m\u001b[0m\u001b[0m\n\u001b[1;32m     73\u001b[0m \u001b[0;34m\u001b[0m\u001b[0m\n\u001b[0;32m---> 74\u001b[0;31m     \u001b[0;32mreturn\u001b[0m \u001b[0mtifffile_imread\u001b[0m\u001b[0;34m(\u001b[0m\u001b[0mfname\u001b[0m\u001b[0;34m,\u001b[0m \u001b[0;34m**\u001b[0m\u001b[0mkwargs\u001b[0m\u001b[0;34m)\u001b[0m\u001b[0;34m\u001b[0m\u001b[0;34m\u001b[0m\u001b[0m\n\u001b[0m",
      "\u001b[0;32m~/miniconda3/envs/spatialomics_MI/lib/python3.11/site-packages/tifffile/tifffile.py\u001b[0m in \u001b[0;36m?\u001b[0;34m(files, selection, aszarr, key, series, level, squeeze, maxworkers, mode, name, offset, size, pattern, axesorder, categories, imread, sort, container, chunkshape, dtype, axestiled, ioworkers, chunkmode, fillvalue, zattrs, multiscales, omexml, out, out_inplace, _multifile, _useframes, **kwargs)\u001b[0m\n\u001b[1;32m   1127\u001b[0m                     )\n\u001b[1;32m   1128\u001b[0m                     \u001b[0;32mif\u001b[0m \u001b[0mselection\u001b[0m \u001b[0;32mis\u001b[0m \u001b[0;32mNone\u001b[0m\u001b[0;34m:\u001b[0m\u001b[0;34m\u001b[0m\u001b[0;34m\u001b[0m\u001b[0m\n\u001b[1;32m   1129\u001b[0m                         \u001b[0;32mreturn\u001b[0m \u001b[0mstore\u001b[0m\u001b[0;34m\u001b[0m\u001b[0;34m\u001b[0m\u001b[0m\n\u001b[1;32m   1130\u001b[0m                     \u001b[0;32mreturn\u001b[0m \u001b[0mzarr_selection\u001b[0m\u001b[0;34m(\u001b[0m\u001b[0mstore\u001b[0m\u001b[0;34m,\u001b[0m \u001b[0mselection\u001b[0m\u001b[0;34m)\u001b[0m\u001b[0;34m\u001b[0m\u001b[0;34m\u001b[0m\u001b[0m\n\u001b[0;32m-> 1131\u001b[0;31m                 return tif.asarray(\n\u001b[0m\u001b[1;32m   1132\u001b[0m                     \u001b[0mkey\u001b[0m\u001b[0;34m=\u001b[0m\u001b[0mkey\u001b[0m\u001b[0;34m,\u001b[0m\u001b[0;34m\u001b[0m\u001b[0;34m\u001b[0m\u001b[0m\n\u001b[1;32m   1133\u001b[0m                     \u001b[0mseries\u001b[0m\u001b[0;34m=\u001b[0m\u001b[0mseries\u001b[0m\u001b[0;34m,\u001b[0m\u001b[0;34m\u001b[0m\u001b[0;34m\u001b[0m\u001b[0m\n\u001b[1;32m   1134\u001b[0m                     \u001b[0mlevel\u001b[0m\u001b[0;34m=\u001b[0m\u001b[0mlevel\u001b[0m\u001b[0;34m,\u001b[0m\u001b[0;34m\u001b[0m\u001b[0;34m\u001b[0m\u001b[0m\n",
      "\u001b[0;32m~/miniconda3/envs/spatialomics_MI/lib/python3.11/site-packages/tifffile/tifffile.py\u001b[0m in \u001b[0;36m?\u001b[0;34m(self, key, series, level, squeeze, out, maxworkers)\u001b[0m\n\u001b[1;32m   4312\u001b[0m         \u001b[0;32melif\u001b[0m \u001b[0mlen\u001b[0m\u001b[0;34m(\u001b[0m\u001b[0mpages\u001b[0m\u001b[0;34m)\u001b[0m \u001b[0;34m==\u001b[0m \u001b[0;36m1\u001b[0m\u001b[0;34m:\u001b[0m\u001b[0;34m\u001b[0m\u001b[0;34m\u001b[0m\u001b[0m\n\u001b[1;32m   4313\u001b[0m             \u001b[0mpage0\u001b[0m \u001b[0;34m=\u001b[0m \u001b[0mpages\u001b[0m\u001b[0;34m[\u001b[0m\u001b[0;36m0\u001b[0m\u001b[0;34m]\u001b[0m\u001b[0;34m\u001b[0m\u001b[0;34m\u001b[0m\u001b[0m\n\u001b[1;32m   4314\u001b[0m             \u001b[0;32mif\u001b[0m \u001b[0mpage0\u001b[0m \u001b[0;32mis\u001b[0m \u001b[0;32mNone\u001b[0m\u001b[0;34m:\u001b[0m\u001b[0;34m\u001b[0m\u001b[0;34m\u001b[0m\u001b[0m\n\u001b[1;32m   4315\u001b[0m                 \u001b[0;32mraise\u001b[0m \u001b[0mValueError\u001b[0m\u001b[0;34m(\u001b[0m\u001b[0;34m'page is None'\u001b[0m\u001b[0;34m)\u001b[0m\u001b[0;34m\u001b[0m\u001b[0;34m\u001b[0m\u001b[0m\n\u001b[0;32m-> 4316\u001b[0;31m             \u001b[0mresult\u001b[0m \u001b[0;34m=\u001b[0m \u001b[0mpage0\u001b[0m\u001b[0;34m.\u001b[0m\u001b[0masarray\u001b[0m\u001b[0;34m(\u001b[0m\u001b[0mout\u001b[0m\u001b[0;34m=\u001b[0m\u001b[0mout\u001b[0m\u001b[0;34m,\u001b[0m \u001b[0mmaxworkers\u001b[0m\u001b[0;34m=\u001b[0m\u001b[0mmaxworkers\u001b[0m\u001b[0;34m)\u001b[0m\u001b[0;34m\u001b[0m\u001b[0;34m\u001b[0m\u001b[0m\n\u001b[0m\u001b[1;32m   4317\u001b[0m         \u001b[0;32melse\u001b[0m\u001b[0;34m:\u001b[0m\u001b[0;34m\u001b[0m\u001b[0;34m\u001b[0m\u001b[0m\n\u001b[1;32m   4318\u001b[0m             \u001b[0mresult\u001b[0m \u001b[0;34m=\u001b[0m \u001b[0mstack_pages\u001b[0m\u001b[0;34m(\u001b[0m\u001b[0mpages\u001b[0m\u001b[0;34m,\u001b[0m \u001b[0mout\u001b[0m\u001b[0;34m=\u001b[0m\u001b[0mout\u001b[0m\u001b[0;34m,\u001b[0m \u001b[0mmaxworkers\u001b[0m\u001b[0;34m=\u001b[0m\u001b[0mmaxworkers\u001b[0m\u001b[0;34m)\u001b[0m\u001b[0;34m\u001b[0m\u001b[0;34m\u001b[0m\u001b[0m\n\u001b[1;32m   4319\u001b[0m \u001b[0;34m\u001b[0m\u001b[0m\n",
      "\u001b[0;32m~/miniconda3/envs/spatialomics_MI/lib/python3.11/site-packages/tifffile/tifffile.py\u001b[0m in \u001b[0;36m?\u001b[0;34m(self, out, squeeze, lock, maxworkers)\u001b[0m\n\u001b[1;32m   8986\u001b[0m                     ]\n\u001b[1;32m   8987\u001b[0m                 \u001b[0;31m# except IndexError:\u001b[0m\u001b[0;34m\u001b[0m\u001b[0;34m\u001b[0m\u001b[0m\n\u001b[1;32m   8988\u001b[0m                 \u001b[0;31m#     pass  # corrupted file, for example, with too many strips\u001b[0m\u001b[0;34m\u001b[0m\u001b[0;34m\u001b[0m\u001b[0m\n\u001b[1;32m   8989\u001b[0m \u001b[0;34m\u001b[0m\u001b[0m\n\u001b[0;32m-> 8990\u001b[0;31m             for _ in self.segments(\n\u001b[0m\u001b[1;32m   8991\u001b[0m                 \u001b[0mfunc\u001b[0m\u001b[0;34m=\u001b[0m\u001b[0mfunc\u001b[0m\u001b[0;34m,\u001b[0m\u001b[0;34m\u001b[0m\u001b[0;34m\u001b[0m\u001b[0m\n\u001b[1;32m   8992\u001b[0m                 \u001b[0mlock\u001b[0m\u001b[0;34m=\u001b[0m\u001b[0mlock\u001b[0m\u001b[0;34m,\u001b[0m\u001b[0;34m\u001b[0m\u001b[0;34m\u001b[0m\u001b[0m\n\u001b[1;32m   8993\u001b[0m                 \u001b[0mmaxworkers\u001b[0m\u001b[0;34m=\u001b[0m\u001b[0mmaxworkers\u001b[0m\u001b[0;34m,\u001b[0m\u001b[0;34m\u001b[0m\u001b[0;34m\u001b[0m\u001b[0m\n",
      "\u001b[0;32m~/miniconda3/envs/spatialomics_MI/lib/python3.11/site-packages/tifffile/tifffile.py\u001b[0m in \u001b[0;36m?\u001b[0;34m(self, lock, maxworkers, func, sort, _fullsize)\u001b[0m\n\u001b[1;32m   8793\u001b[0m             \u001b[0;31m# reduce memory overhead by processing chunks of up to\u001b[0m\u001b[0;34m\u001b[0m\u001b[0;34m\u001b[0m\u001b[0m\n\u001b[1;32m   8794\u001b[0m             \u001b[0;31m# ~256 MB of segments because ThreadPoolExecutor.map is not\u001b[0m\u001b[0;34m\u001b[0m\u001b[0;34m\u001b[0m\u001b[0m\n\u001b[1;32m   8795\u001b[0m             \u001b[0;31m# collecting iterables lazily\u001b[0m\u001b[0;34m\u001b[0m\u001b[0;34m\u001b[0m\u001b[0m\n\u001b[1;32m   8796\u001b[0m             \u001b[0;32mwith\u001b[0m \u001b[0mThreadPoolExecutor\u001b[0m\u001b[0;34m(\u001b[0m\u001b[0mmaxworkers\u001b[0m\u001b[0;34m)\u001b[0m \u001b[0;32mas\u001b[0m \u001b[0mexecutor\u001b[0m\u001b[0;34m:\u001b[0m\u001b[0;34m\u001b[0m\u001b[0;34m\u001b[0m\u001b[0m\n\u001b[0;32m-> 8797\u001b[0;31m                 for segments in fh.read_segments(\n\u001b[0m\u001b[1;32m   8798\u001b[0m                     \u001b[0mself\u001b[0m\u001b[0;34m.\u001b[0m\u001b[0mdataoffsets\u001b[0m\u001b[0;34m,\u001b[0m\u001b[0;34m\u001b[0m\u001b[0;34m\u001b[0m\u001b[0m\n\u001b[1;32m   8799\u001b[0m                     \u001b[0mself\u001b[0m\u001b[0;34m.\u001b[0m\u001b[0mdatabytecounts\u001b[0m\u001b[0;34m,\u001b[0m\u001b[0;34m\u001b[0m\u001b[0;34m\u001b[0m\u001b[0m\n\u001b[1;32m   8800\u001b[0m                     \u001b[0mlock\u001b[0m\u001b[0;34m=\u001b[0m\u001b[0mlock\u001b[0m\u001b[0;34m,\u001b[0m\u001b[0;34m\u001b[0m\u001b[0;34m\u001b[0m\u001b[0m\n",
      "\u001b[0;32m~/miniconda3/envs/spatialomics_MI/lib/python3.11/site-packages/tifffile/tifffile.py\u001b[0m in \u001b[0;36m?\u001b[0;34m(self, offsets, bytecounts, indices, sort, lock, buffersize, flat)\u001b[0m\n\u001b[1;32m  14522\u001b[0m                         \u001b[0mdata\u001b[0m \u001b[0;34m=\u001b[0m \u001b[0mread\u001b[0m\u001b[0;34m(\u001b[0m\u001b[0mbytecount\u001b[0m\u001b[0;34m)\u001b[0m\u001b[0;34m\u001b[0m\u001b[0;34m\u001b[0m\u001b[0m\n\u001b[1;32m  14523\u001b[0m                 \u001b[0mstart\u001b[0m \u001b[0;34m=\u001b[0m \u001b[0;36m0\u001b[0m\u001b[0;34m\u001b[0m\u001b[0;34m\u001b[0m\u001b[0m\n\u001b[1;32m  14524\u001b[0m                 \u001b[0mstop\u001b[0m \u001b[0;34m=\u001b[0m \u001b[0;36m0\u001b[0m\u001b[0;34m\u001b[0m\u001b[0;34m\u001b[0m\u001b[0m\n\u001b[1;32m  14525\u001b[0m                 \u001b[0mresult\u001b[0m \u001b[0;34m=\u001b[0m \u001b[0;34m[\u001b[0m\u001b[0;34m]\u001b[0m\u001b[0;34m\u001b[0m\u001b[0;34m\u001b[0m\u001b[0m\n\u001b[0;32m> 14526\u001b[0;31m                 \u001b[0;32mwhile\u001b[0m \u001b[0mj\u001b[0m \u001b[0;34m<\u001b[0m \u001b[0mi\u001b[0m\u001b[0;34m:\u001b[0m\u001b[0;34m\u001b[0m\u001b[0;34m\u001b[0m\u001b[0m\n\u001b[0m\u001b[1;32m  14527\u001b[0m                     \u001b[0mindex\u001b[0m\u001b[0;34m,\u001b[0m \u001b[0moffset\u001b[0m\u001b[0;34m,\u001b[0m \u001b[0mbytecount\u001b[0m \u001b[0;34m=\u001b[0m \u001b[0msegments\u001b[0m\u001b[0;34m[\u001b[0m\u001b[0mj\u001b[0m\u001b[0;34m]\u001b[0m\u001b[0;34m\u001b[0m\u001b[0;34m\u001b[0m\u001b[0m\n\u001b[1;32m  14528\u001b[0m                     \u001b[0;32mif\u001b[0m \u001b[0moffset\u001b[0m \u001b[0;34m>\u001b[0m \u001b[0;36m0\u001b[0m \u001b[0;32mand\u001b[0m \u001b[0mbytecount\u001b[0m \u001b[0;34m>\u001b[0m \u001b[0;36m0\u001b[0m\u001b[0;34m:\u001b[0m\u001b[0;34m\u001b[0m\u001b[0;34m\u001b[0m\u001b[0m\n\u001b[1;32m  14529\u001b[0m                         \u001b[0mstop\u001b[0m \u001b[0;34m+=\u001b[0m \u001b[0mbytecount\u001b[0m\u001b[0;34m\u001b[0m\u001b[0;34m\u001b[0m\u001b[0m\n",
      "\u001b[0;31mKeyboardInterrupt\u001b[0m: "
     ]
    },
    {
     "ename": "",
     "evalue": "",
     "output_type": "error",
     "traceback": [
      "\u001b[1;31mThe Kernel crashed while executing code in the the current cell or a previous cell. Please review the code in the cell(s) to identify a possible cause of the failure. Click <a href='https://aka.ms/vscodeJupyterKernelCrash'>here</a> for more info. View Jupyter <a href='command:jupyter.viewOutput'>log</a> for further details."
     ]
    }
   ],
   "source": [
    "mantis_dir = \"/Users/florian_wuennemann/1_Projects/MI_project/Lunaphore/pixie/mantis_channel_imgs\"\n",
    "\n",
    "contrast_limits_img = [[0, 65535],   # DAPI\n",
    "                                  [0, 18000],   # TNNT2\n",
    "                                  [0, 18000],   # ANKRD1\n",
    "                                  [0, 20000],   # PDGFRa\n",
    "                                  [0, 65535],   # CD31\n",
    "                                  [0, 26000],   # aSMA\n",
    "                                  [0, 10000],   # CD45\n",
    "                                  [0, 30000],   # CCR2\n",
    "                                  [0, 37000],   # TREM2\n",
    "                                  [0, 18000],   # CD68\n",
    "                                  [0, 37000]]  # MPO\n",
    "\n",
    "file_list = [\"DAPI.tif\",\"TNNT2.tif\",\"ANKRD1.tif\",\"PDGFRa.tif\",\"CD31.tif\",\n",
    "            \"aSMA.tif\",\"CD45.tif\",\"CCR2.tif\",\"TREM2.tif\",\"CD68.tif\",\"MPO.tif\"]\n",
    "# Load the first image to get the image shape\n",
    "sample_dir = \"24h_83\"\n",
    "first_image = io.imread(os.path.join(mantis_dir, sample_dir, file_list[0]))\n",
    "image_shape = (len(file_list),) + first_image.shape\n",
    "\n",
    "# Create an empty array to hold the stacked images\n",
    "stacked_images = np.zeros(image_shape, dtype=first_image.dtype)\n",
    "\n",
    "## Get roi for heart area\n",
    "full_heart_roi = pd.read_csv(os.path.join(mantis_dir,sample_dir, \"roi.csv\"),encoding = 'unicode_escape')\n",
    "\n",
    "# Iterate over all files in mantis_dir and stack them into the array\n",
    "for i, filename in enumerate(file_list):\n",
    "    print(filename)\n",
    "    image = io.imread(os.path.join(mantis_dir,sample_dir, filename))\n",
    "    stacked_images[i] = image\n",
    "\n",
    "plot_layers_napari(image = stacked_images,image_channel_axis = 0, image_channel_colors = comet_images_color, points_data = None,genes_of_interest = None,\n",
    "    roi = full_heart_roi, mask = None,pt_size=40,\n",
    "    output_path = \"../../output/seqIF/figure_3/\" + sample_dir + \"comet_image.24h_83.figure3.full_heart.png\",\n",
    "    scale_bar = True, font_size = 70 , scale = 2, scalebar_length = 500, \n",
    "    img_type = \"lunaphore\", roi_plot = None, box_edge_thickness = 70,\n",
    "    crop_out_path =  \"../../output/seqIF/figure_3/\", sample = sample_dir,\n",
    "    image_contrast_limits = contrast_limits_img, channel_names=channel_order)"
   ]
  },
  {
   "cell_type": "markdown",
   "metadata": {},
   "source": [
    "## Zoom ins"
   ]
  },
  {
   "cell_type": "code",
   "execution_count": 18,
   "metadata": {},
   "outputs": [],
   "source": [
    "## ROI blood vessel\n",
    "if stacked_images is not None:\n",
    "    img_scale = 5\n",
    "    scalebar_length = 10\n",
    "    font_size = 60\n",
    "\n",
    "    ## First roi\n",
    "    blood_vessel_roi = pd.read_csv(\"../../data/seqIF_regions_annotations/Figure3_regions/24h_83.vessel.csv\",encoding = 'unicode_escape')\n",
    "    plot_layers_napari(image = stacked_images,image_channel_axis = 0, image_channel_colors = comet_images_color, points_data = None,genes_of_interest = None,\n",
    "    roi = blood_vessel_roi, mask = None,pt_size=40,\n",
    "    output_path = \"../../output/seqIF/figure_3/\" + sample_dir + \"comet_image.24h_83.figure3.blood_vessel.png\",\n",
    "    scale_bar = True, font_size = 60, scale = img_scale, scalebar_length = scalebar_length, \n",
    "    img_type = \"blood_vessel_crop\",roi_plot = None, box_edge_thickness = 70,\n",
    "    crop_out_path =  \"../../output/seqIF/figure_3/\", sample = sample_dir,\n",
    "    image_contrast_limits = contrast_limits_img, channel_names=channel_order)\n",
    "\n",
    "        ## First roi\n",
    "    endo_roi = pd.read_csv(\"../../data/seqIF_regions_annotations/Figure3_regions/24h_83.endo.csv\",encoding = 'unicode_escape')\n",
    "    plot_layers_napari(image = stacked_images,image_channel_axis = 0, image_channel_colors = comet_images_color, points_data = None,genes_of_interest = None,\n",
    "    roi = endo_roi, mask = None,pt_size=40,\n",
    "    output_path = \"../../output/seqIF/figure_3/\" + sample_dir + \"comet_image.24h_83.figure3.endo.png\",\n",
    "    scale_bar = True,font_size = 60, scale = img_scale, scalebar_length = scalebar_length, \n",
    "    img_type = \"endo_crop\",roi_plot = None, box_edge_thickness = 70,\n",
    "    crop_out_path =  \"../../output/seqIF/figure_3/\", sample = sample_dir,\n",
    "    image_contrast_limits = contrast_limits_img, channel_names=channel_order)"
   ]
  },
  {
   "cell_type": "markdown",
   "metadata": {},
   "source": [
    "# Pixel maps"
   ]
  },
  {
   "cell_type": "code",
   "execution_count": 4,
   "metadata": {},
   "outputs": [
    {
     "data": {
      "text/html": [
       "<div>\n",
       "<style scoped>\n",
       "    .dataframe tbody tr th:only-of-type {\n",
       "        vertical-align: middle;\n",
       "    }\n",
       "\n",
       "    .dataframe tbody tr th {\n",
       "        vertical-align: top;\n",
       "    }\n",
       "\n",
       "    .dataframe thead th {\n",
       "        text-align: right;\n",
       "    }\n",
       "</style>\n",
       "<table border=\"1\" class=\"dataframe\">\n",
       "  <thead>\n",
       "    <tr style=\"text-align: right;\">\n",
       "      <th></th>\n",
       "      <th>region_id</th>\n",
       "      <th>region_name</th>\n",
       "    </tr>\n",
       "  </thead>\n",
       "  <tbody>\n",
       "    <tr>\n",
       "      <th>0</th>\n",
       "      <td>1</td>\n",
       "      <td>Ankrd1+</td>\n",
       "    </tr>\n",
       "    <tr>\n",
       "      <th>1</th>\n",
       "      <td>2</td>\n",
       "      <td>Mpo+</td>\n",
       "    </tr>\n",
       "    <tr>\n",
       "      <th>2</th>\n",
       "      <td>5</td>\n",
       "      <td>aSMA+</td>\n",
       "    </tr>\n",
       "    <tr>\n",
       "      <th>3</th>\n",
       "      <td>8</td>\n",
       "      <td>Pdgfra+</td>\n",
       "    </tr>\n",
       "    <tr>\n",
       "      <th>4</th>\n",
       "      <td>11</td>\n",
       "      <td>Cd45+</td>\n",
       "    </tr>\n",
       "    <tr>\n",
       "      <th>5</th>\n",
       "      <td>12</td>\n",
       "      <td>Ccr2+</td>\n",
       "    </tr>\n",
       "    <tr>\n",
       "      <th>6</th>\n",
       "      <td>17</td>\n",
       "      <td>Trem2+</td>\n",
       "    </tr>\n",
       "    <tr>\n",
       "      <th>7</th>\n",
       "      <td>18</td>\n",
       "      <td>Cd31+</td>\n",
       "    </tr>\n",
       "    <tr>\n",
       "      <th>8</th>\n",
       "      <td>20</td>\n",
       "      <td>Tnnt2+</td>\n",
       "    </tr>\n",
       "    <tr>\n",
       "      <th>9</th>\n",
       "      <td>24</td>\n",
       "      <td>Cd68+</td>\n",
       "    </tr>\n",
       "    <tr>\n",
       "      <th>10</th>\n",
       "      <td>30</td>\n",
       "      <td>background</td>\n",
       "    </tr>\n",
       "    <tr>\n",
       "      <th>11</th>\n",
       "      <td>31</td>\n",
       "      <td>31</td>\n",
       "    </tr>\n",
       "  </tbody>\n",
       "</table>\n",
       "</div>"
      ],
      "text/plain": [
       "    region_id region_name\n",
       "0           1     Ankrd1+\n",
       "1           2        Mpo+\n",
       "2           5       aSMA+\n",
       "3           8     Pdgfra+\n",
       "4          11       Cd45+\n",
       "5          12       Ccr2+\n",
       "6          17      Trem2+\n",
       "7          18       Cd31+\n",
       "8          20      Tnnt2+\n",
       "9          24       Cd68+\n",
       "10         30  background\n",
       "11         31          31"
      ]
     },
     "execution_count": 4,
     "metadata": {},
     "output_type": "execute_result"
    }
   ],
   "source": [
    "# Assign each individual label in new_mask the corresponding color value from the color table\n",
    "pixel_dir = '/Users/florian_wuennemann/1_Projects/MI_project/Lunaphore/pixie/masked_subset/subset_0.05_wseg'\n",
    "sample_folder = pixel_dir + \"/\" + \"Control_14\" + \"/\"\n",
    "pixel_categories = pd.read_csv(sample_folder + \"population_pixel_mask.csv\")\n",
    "color_palette_use = pixel_maps_color[1:pixel_categories.shape[0]+1]\n",
    "color_dict = {0: 'black'}\n",
    "for i,region_id in enumerate(pixel_categories['region_id']):\n",
    "    if pixel_categories['region_name'][i] == \"background\":\n",
    "        color_dict[region_id] = \"black\"\n",
    "    else:\n",
    "        color_dict[region_id] = color_palette_use[i]\n",
    "pixel_categories"
   ]
  },
  {
   "cell_type": "code",
   "execution_count": 5,
   "metadata": {},
   "outputs": [],
   "source": [
    "## Count pixel categories\n",
    "def count_pixel_clusters(image, sample_ID,pixel_categories):\n",
    "    # Get unique intensity values and their counts\n",
    "    unique, counts = np.unique(image, return_counts=True)\n",
    "    pixel_cluster = pixel_categories['region_name'].to_numpy()\n",
    "    pixel_cluster = pixel_cluster.astype(str)\n",
    "    pixel_cluster = np.insert(pixel_cluster, 0, values=\"background\")\n",
    "\n",
    "    # Create a table with the counts for each intensity value\n",
    "    table = pd.DataFrame({'Intensity': unique, \"Pixel_cluster\": pixel_cluster, 'Count': counts, 'Sample_ID': sample_ID})\n",
    "    return table"
   ]
  },
  {
   "cell_type": "code",
   "execution_count": 7,
   "metadata": {},
   "outputs": [
    {
     "name": "stderr",
     "output_type": "stream",
     "text": [
      "24-Aug-23 15:26:38 - bfio.backends - WARNING  - Java backend is not available. This could be due to a missing dependency (jpype).\n"
     ]
    },
    {
     "name": "stdout",
     "output_type": "stream",
     "text": [
      "Control_14\n",
      "Control_13\n",
      "Control_12\n",
      "4h_97\n",
      "24h_83\n",
      "4h_96\n",
      "24h_86\n",
      "48h_79\n",
      "48h_76\n"
     ]
    }
   ],
   "source": [
    "viewer = napari.Viewer()\n",
    "for folder in os.listdir(pixel_dir):\n",
    "    if os.path.isdir(os.path.join(pixel_dir, folder)) and folder != \"napari_screenshots\":\n",
    "        print(folder)\n",
    "        # Do something with the folder here\n",
    "        sample_folder = pixel_dir + \"/\" + folder + \"/\"\n",
    "        pixel_img = tifffile.TiffFile(sample_folder + \"population_pixel_mask.tiff\").asarray()\n",
    "        viewer.add_labels(pixel_img, visible=False, name=folder, opacity = 1, color = color_dict)"
   ]
  },
  {
   "cell_type": "code",
   "execution_count": 6,
   "metadata": {},
   "outputs": [
    {
     "data": {
      "image/png": "[encoded data removed]",
      "text/plain": [
       "<Figure size 400x200 with 1 Axes>"
      ]
     },
     "metadata": {},
     "output_type": "display_data"
    }
   ],
   "source": [
    "#### Generate heatmap for pixel cluster colors\n",
    "## Create a new figure and a subplot (which contains the legend)\n",
    "fig, ax = plt.subplots(figsize=(4, 2))\n",
    "\n",
    "# # We will use a dummy scatter plot with square markers to create the legend\n",
    "for (i, label) in enumerate(pixel_categories['region_name']):\n",
    "    if label != 'background':\n",
    "        ax.scatter([], [], color=color_palette_use[i], label=label + \" : \" + str(pixel_categories['region_id'][i]), marker='s', s=400)\n",
    "\n",
    "# Create the legend\n",
    "legend = ax.legend(loc='center', title='', fontsize='large', frameon=False, labelspacing=1, ncol=2)\n",
    "\n",
    "# Hide the axes\n",
    "ax.axis('off')\n",
    "\n",
    "# Save the figure as a PDF file\n",
    "output_path = \"/Users/florian_wuennemann/1_Projects/MI_project/Lunaphore/pixie/masked_subset/subset_0.05_wseg/napari_screenshots/pixel_cluster_legend.pdf\"\n",
    "fig.savefig(output_path)"
   ]
  },
  {
   "cell_type": "code",
   "execution_count": 18,
   "metadata": {},
   "outputs": [
    {
     "name": "stdout",
     "output_type": "stream",
     "text": [
      "Control_14\n",
      "Control_13\n",
      "Control_12\n",
      "4h_97\n",
      "24h_83\n",
      "4h_96\n",
      "24h_86\n",
      "48h_79\n",
      "48h_76\n"
     ]
    }
   ],
   "source": [
    "## Iterate over all FOVs\n",
    "roi_dir = \"/Users/florian_wuennemann/1_Projects/MI_project/Lunaphore/pixie/masked_subset/heart_region_rois\"\n",
    "\n",
    "## Create an empty DataFrame to store the data\n",
    "all_pixel_counts = pd.DataFrame()\n",
    "\n",
    "for folder in os.listdir(pixel_dir):\n",
    "    if os.path.isdir(os.path.join(pixel_dir, folder)) and folder != \"napari_screenshots\":\n",
    "        print(folder)\n",
    "        # Do something with the folder here\n",
    "        sample_folder = pixel_dir + \"/\" + folder + \"/\"\n",
    "        pixel_img = tifffile.TiffFile(sample_folder + \"population_pixel_mask.tiff\").asarray()\n",
    "        ## Let's save a copy as 8bit of the original image\n",
    "        outdir = \"/Users/florian_wuennemann/1_Projects/MI_project/Lunaphore/pixie/masked_subset/subset_0.05_wseg/napari_screenshots/\"\n",
    "        outdir_pixel_counts = \"/Users/florian_wuennemann/1_Projects/MI_project/Lunaphore/pixie/masked_subset/subset_0.05_wseg/\"\n",
    "        ## Get roi for heart area\n",
    "        roi = pd.read_csv(os.path.join(roi_dir, folder+\"_heart.csv\"),encoding = 'unicode_escape')\n",
    "        outdir_screen = outdir + folder +\".pixel_map.png\"\n",
    "        pixel_counts = count_pixel_clusters(pixel_img,folder,pixel_categories)\n",
    "        #pixel_counts.to_csv(outdir_pixel_counts + folder+ \".pixel_cluster_counts.csv\", index=False)\n",
    "        all_pixel_counts = pd.concat([all_pixel_counts, pixel_counts], ignore_index=True) ## Concatenate the data to the main DataFrame\n",
    "        # plot_pixie_maps(pixel_image = pixel_img, sample = folder,mask_color = color_dict,\n",
    "        # scale = 5, screenshot_path = outdir_screen,crop_out_path = outdir, roi = roi)\n",
    "## Write the data to a CSV file\n",
    "all_pixel_counts.to_csv(outdir_pixel_counts + \"pixel_counts.all_samples.csv\", index=False)"
   ]
  },
  {
   "cell_type": "code",
   "execution_count": 19,
   "metadata": {},
   "outputs": [
    {
     "data": {
      "text/plain": [
       "<Figure size 1500x1000 with 0 Axes>"
      ]
     },
     "metadata": {},
     "output_type": "display_data"
    },
    {
     "data": {
      "image/png": "[encoded data removed]",
      "text/plain": [
       "<Figure size 1500x1000 with 1 Axes>"
      ]
     },
     "metadata": {},
     "output_type": "display_data"
    },
    {
     "name": "stderr",
     "output_type": "stream",
     "text": [
      "2023-08-24 14:55:14.308 python[39378:1880502] +[CATransaction synchronize] called within transaction\n",
      "2023-08-24 14:55:17.574 python[39378:1880502] +[CATransaction synchronize] called within transaction\n",
      "2023-08-24 14:55:17.838 python[39378:1880502] Warning: Window move completed without beginning\n"
     ]
    }
   ],
   "source": [
    "# Make a plot representing the proportion of different pixel clusters using the data in\n",
    "# Aggregate any duplicate entries by summing their counts\n",
    "aggregated_data = all_pixel_counts.groupby(['Pixel_cluster', 'Sample_ID'])['Count'].sum().reset_index()\n",
    "\n",
    "# Pivot the aggregated data\n",
    "pivot_data_count = aggregated_data.pivot(index='Pixel_cluster', columns='Sample_ID', values='Count')\n",
    "\n",
    "# Calculate the total count for each Sample_ID\n",
    "total_counts = pivot_data_count.sum()\n",
    "\n",
    "# Calculate the proportions\n",
    "pivot_data = pivot_data_count.divide(total_counts)\n",
    "\n",
    "# Remove the 'background' row from the pivoted data\n",
    "pivot_data_without_background = pivot_data.drop('background', axis=0)\n",
    "\n",
    "# Recalculate the total proportion excluding 'background' for each sample\n",
    "total_without_background = 1 - pivot_data.loc['background']\n",
    "\n",
    "# Rescale the proportions by dividing by the new total for each sample\n",
    "rescaled_data = pivot_data_without_background.divide(total_without_background)\n",
    "\n",
    "# Plot the rescaled proportions in a stacked bar chart\n",
    "plt.figure(figsize=(15, 10))\n",
    "rescaled_data.T.plot(kind='bar', stacked=True, figsize=(15, 10), colormap='tab20')\n",
    "\n",
    "# Set title, labels, and legend\n",
    "plt.title('Rescaled Proportion of Pixel clusters per Sample_ID (excluding background)')\n",
    "plt.ylabel('Proportion')\n",
    "plt.xlabel('Sample ID')\n",
    "plt.legend(title='Pixel Cluster', bbox_to_anchor=(1.05, 1), loc='upper left')\n",
    "\n",
    "# Display the plot\n",
    "plt.tight_layout()\n",
    "plt.show()\n"
   ]
  },
  {
   "cell_type": "markdown",
   "metadata": {},
   "source": [
    "# Cell cluster maps"
   ]
  },
  {
   "cell_type": "code",
   "execution_count": 5,
   "metadata": {},
   "outputs": [
    {
     "data": {
      "text/html": [
       "<div>\n",
       "<style scoped>\n",
       "    .dataframe tbody tr th:only-of-type {\n",
       "        vertical-align: middle;\n",
       "    }\n",
       "\n",
       "    .dataframe tbody tr th {\n",
       "        vertical-align: top;\n",
       "    }\n",
       "\n",
       "    .dataframe thead th {\n",
       "        text-align: right;\n",
       "    }\n",
       "</style>\n",
       "<table border=\"1\" class=\"dataframe\">\n",
       "  <thead>\n",
       "    <tr style=\"text-align: right;\">\n",
       "      <th></th>\n",
       "      <th>region_id</th>\n",
       "      <th>region_name</th>\n",
       "    </tr>\n",
       "  </thead>\n",
       "  <tbody>\n",
       "    <tr>\n",
       "      <th>0</th>\n",
       "      <td>1</td>\n",
       "      <td>Fibroblasts</td>\n",
       "    </tr>\n",
       "    <tr>\n",
       "      <th>1</th>\n",
       "      <td>2</td>\n",
       "      <td>Neutrophils</td>\n",
       "    </tr>\n",
       "    <tr>\n",
       "      <th>2</th>\n",
       "      <td>3</td>\n",
       "      <td>background</td>\n",
       "    </tr>\n",
       "    <tr>\n",
       "      <th>3</th>\n",
       "      <td>4</td>\n",
       "      <td>Mono / Macros Ccr2+</td>\n",
       "    </tr>\n",
       "    <tr>\n",
       "      <th>4</th>\n",
       "      <td>7</td>\n",
       "      <td>Smooth muscle cells</td>\n",
       "    </tr>\n",
       "    <tr>\n",
       "      <th>5</th>\n",
       "      <td>8</td>\n",
       "      <td>Macrophages Trem2+</td>\n",
       "    </tr>\n",
       "    <tr>\n",
       "      <th>6</th>\n",
       "      <td>9</td>\n",
       "      <td>Cardiomyocytes Ankrd1+</td>\n",
       "    </tr>\n",
       "    <tr>\n",
       "      <th>7</th>\n",
       "      <td>10</td>\n",
       "      <td>Endothelial cells</td>\n",
       "    </tr>\n",
       "    <tr>\n",
       "      <th>8</th>\n",
       "      <td>13</td>\n",
       "      <td>Other Leukocytes</td>\n",
       "    </tr>\n",
       "    <tr>\n",
       "      <th>9</th>\n",
       "      <td>19</td>\n",
       "      <td>Cardiomyocytes</td>\n",
       "    </tr>\n",
       "    <tr>\n",
       "      <th>10</th>\n",
       "      <td>34</td>\n",
       "      <td>out_of_mask</td>\n",
       "    </tr>\n",
       "    <tr>\n",
       "      <th>11</th>\n",
       "      <td>35</td>\n",
       "      <td>Macrophages Trem2-</td>\n",
       "    </tr>\n",
       "  </tbody>\n",
       "</table>\n",
       "</div>"
      ],
      "text/plain": [
       "    region_id             region_name\n",
       "0           1             Fibroblasts\n",
       "1           2             Neutrophils\n",
       "2           3              background\n",
       "3           4     Mono / Macros Ccr2+\n",
       "4           7     Smooth muscle cells\n",
       "5           8      Macrophages Trem2+\n",
       "6           9  Cardiomyocytes Ankrd1+\n",
       "7          10       Endothelial cells\n",
       "8          13        Other Leukocytes\n",
       "9          19          Cardiomyocytes\n",
       "10         34             out_of_mask\n",
       "11         35      Macrophages Trem2-"
      ]
     },
     "execution_count": 5,
     "metadata": {},
     "output_type": "execute_result"
    }
   ],
   "source": [
    "# Assign each individual label in new_mask the corresponding color value from the color table\n",
    "cell_directory = '/Users/florian_wuennemann/1_Projects/MI_project/Lunaphore/pixie/masked_subset/cell_masks_0.05'\n",
    "sample_folder = cell_directory + \"/\" + \"Control_14\" + \"/\"\n",
    "cell_categories = pd.read_csv(sample_folder + \"population_cell_mask.csv\")\n",
    "\n",
    "\n",
    "## Define color palette\n",
    "channel_order = [\"DAPI\",\n",
    "                 \"TNNT2\",\"ANKRD1\",\"PDGFRa\",\"CD31\",\"aSMA\",\n",
    "                 \"CD45\",\"CCR2\",\"TREM2\",\"CD68\",\"MPO\"]\n",
    "#color_palette_use = cell_cluster_color\n",
    "color_palette_use = [glasbey[6], # Fibroblasts\n",
    "                     glasbey[5], # Neutrophils\n",
    "                     \"black\", # background\n",
    "                    glasbey[2], # Ccr2+ macrophages\n",
    "                    glasbey[0], # Smooth muscle cells\n",
    "                    glasbey[4], # Macrophages Trem2+\n",
    "                    glasbey[7], # Cardiomyocytes Ankrd1+\n",
    "                    colorblind[3], # Endothelial cells\n",
    "                    glasbey[1], # Other Leukocytes\n",
    "                    glasbey[10], # Cardiomyocytes\n",
    "                    \"black\", # out_of_mask\n",
    "                    \"magenta\"] # Macrophages Trem2-\n",
    "\n",
    "\n",
    "\n",
    "\n",
    "color_dict = {0: 'black'}\n",
    "for i,region_id in enumerate(cell_categories['region_id']):\n",
    "    if cell_categories['region_name'][i] == \"background\":\n",
    "        color_dict[region_id] = \"black\"\n",
    "    else:\n",
    "        color_dict[region_id] = color_palette_use[i]\n",
    "cell_categories\n",
    "# translate colors in color_dict from rgb to hex\n",
    "# for i,color in enumerate(color_palette_use):\n",
    "#     if color != \"black\":\n",
    "#         print(i,colors.to_hex(color))"
   ]
  },
  {
   "cell_type": "code",
   "execution_count": 29,
   "metadata": {},
   "outputs": [
    {
     "name": "stdout",
     "output_type": "stream",
     "text": [
      "Control_14\n",
      "4h_97\n",
      "24h_86\n",
      "48h_79\n"
     ]
    }
   ],
   "source": [
    "## Iterate over all FOVs\n",
    "directory = '/Users/florian_wuennemann/1_Projects/MI_project/Lunaphore/pixie/masked_subset/cell_masks_0.05'\n",
    "roi_dir = \"/Users/florian_wuennemann/1_Projects/MI_project/Lunaphore/pixie/masked_subset/heart_region_rois\"\n",
    "\n",
    "for folder in os.listdir(directory):\n",
    "    if os.path.isdir(os.path.join(directory, folder)) and folder != \"napari_screenshots\":\n",
    "        if folder in [\"Control_14\",\"4h_97\",\"24h_86\",\"48h_79\"]:\n",
    "            print(folder)\n",
    "            # Do something with the folder here\n",
    "            roi = pd.read_csv(os.path.join(roi_dir,folder + \"_heart.csv\"),encoding = 'unicode_escape')\n",
    "            sample_folder = directory + \"/\" + folder + \"/\"\n",
    "            cell_cluster_img = io.imread(sample_folder + \"population_cell_mask.tiff\")\n",
    "            outdir = \"/Users/florian_wuennemann/1_Projects/MI_project/Lunaphore/pixie/masked_subset/cell_masks_0.05/napari_screenshots/\"\n",
    "            outdir_screen = outdir + folder +\".cell_clusters.png\"\n",
    "            #cell_mask = tifffile.TiffFile(sample_folder + \"cell_segmentation.tiff\").asarray()\n",
    "            #boundaries = find_boundaries(cell_mask, mode='thin')\n",
    "            plot_pixie_maps(pixel_image = cell_cluster_img, sample = folder, mask_color = color_dict,\n",
    "            scale = 5, screenshot_path = outdir_screen, crop_out_path = outdir, roi= roi)"
   ]
  },
  {
   "cell_type": "code",
   "execution_count": 9,
   "metadata": {},
   "outputs": [
    {
     "name": "stdout",
     "output_type": "stream",
     "text": [
      "48h_79\n",
      "48h_76\n"
     ]
    }
   ],
   "source": [
    "## Show specific time points / samples\n",
    "directory = '/Users/florian_wuennemann/1_Projects/MI_project/Lunaphore/pixie/masked_subset/cell_masks_0.05'\n",
    "roi_dir = \"/Users/florian_wuennemann/1_Projects/MI_project/Lunaphore/pixie/masked_subset/heart_region_rois\"\n",
    "\n",
    "for folder in os.listdir(directory):\n",
    "    if os.path.isdir(os.path.join(directory, folder)) and folder != \"napari_screenshots\":\n",
    "        if folder in [\"48h_79\",\"48h_76\"]:\n",
    "            print(folder)\n",
    "            # Do something with the folder here\n",
    "            roi = pd.read_csv(os.path.join(roi_dir,folder + \"_heart.csv\"),encoding = 'unicode_escape')\n",
    "            sample_folder = directory + \"/\" + folder + \"/\"\n",
    "            cell_cluster_img = io.imread(sample_folder + \"population_cell_mask.tiff\")\n",
    "            outdir = \"/Users/florian_wuennemann/1_Projects/MI_project/Lunaphore/pixie/masked_subset/cell_masks_0.05/napari_screenshots/\"\n",
    "            outdir_screen = outdir + folder +\".cell_clusters.png\"\n",
    "            #cell_mask = tifffile.TiffFile(sample_folder + \"cell_segmentation.tiff\").asarray()\n",
    "            #boundaries = find_boundaries(cell_mask, mode='thin')\n",
    "            plot_pixie_maps(pixel_image = cell_cluster_img, sample = folder, mask_color = color_dict,\n",
    "            scale = 5, screenshot_path = outdir_screen, crop_out_path = outdir, roi= roi)"
   ]
  },
  {
   "cell_type": "code",
   "execution_count": 6,
   "metadata": {},
   "outputs": [
    {
     "data": {
      "image/png": "[encoded data removed]",
      "text/plain": [
       "<Figure size 400x200 with 1 Axes>"
      ]
     },
     "metadata": {},
     "output_type": "display_data"
    }
   ],
   "source": [
    "# #### Generate heatmap for pixel cluster colors\n",
    "# ## Create a new figure and a subplot (which contains the legend)\n",
    "# fig, ax = plt.subplots(figsize=(4, 2))\n",
    "\n",
    "# # # We will use a dummy scatter plot with square markers to create the legend\n",
    "# for (i, label) in enumerate(cell_categories['region_name']):\n",
    "#     if label != 'background':\n",
    "#         ax.scatter([], [], color=color_palette_use[i], label=str(label) + \" : \" + str(cell_categories['region_id'][i]), marker='s', s=400)\n",
    "\n",
    "# # Create the legend\n",
    "# legend = ax.legend(loc='center', title='', fontsize='large', frameon=False, labelspacing=1, ncol=2)\n",
    "\n",
    "# # Hide the axes\n",
    "# ax.axis('off')\n",
    "\n",
    "# # Save the figure as a PDF file\n",
    "# output_path = \"/Users/florian_wuennemann/1_Projects/MI_project/Lunaphore/pixie/masked_subset/cell_masks_0.05/cell_cluster_legend.pdf\"\n",
    "# fig.savefig(output_path)"
   ]
  },
  {
   "cell_type": "code",
   "execution_count": 5,
   "metadata": {},
   "outputs": [
    {
     "name": "stdout",
     "output_type": "stream",
     "text": [
      "Control_14\n",
      "4h_97\n",
      "24h_86\n",
      "48h_79\n"
     ]
    }
   ],
   "source": [
    "# ## cluster labels with masks on top\n",
    "# viewer = napari.Viewer()\n",
    "# for folder in os.listdir(cell_directory):\n",
    "#     if os.path.isdir(os.path.join(cell_directory, folder)) and folder != \"napari_screenshots\":\n",
    "#         if folder in [\"Control_14\",\"4h_97\",\"24h_86\",\"48h_79\"]:\n",
    "#             print(folder)\n",
    "#             # Do something with the folder here\n",
    "#             sample_folder = cell_directory + \"/\" + folder + \"/\"\n",
    "#             pixel_img = tifffile.TiffFile(sample_folder + \"population_cell_mask.tiff\").asarray()\n",
    "#             cell_mask = tifffile.TiffFile(sample_folder + \"cell_segmentation.tiff\").asarray()\n",
    "#             boundaries = find_boundaries(cell_mask, mode='thin')\n",
    "#             viewer.add_labels(pixel_img, visible=False, name=folder, opacity = 1, color = color_dict)\n",
    "#             viewer.add_labels(boundaries, visible=False, name=folder + \"_mask\", opacity = 1,color={0:'transparent', 1:(1,1,1)})"
   ]
  },
  {
   "cell_type": "code",
   "execution_count": null,
   "metadata": {},
   "outputs": [],
   "source": [
    "# ## Iterate over all FOVs\n",
    "# directory = '/Users/florian_wuennemann/1_Projects/MI_project/Lunaphore/pixie/masked_subset/cell_masks_0.05'\n",
    "# sample_folder = directory + \"/\" + \"Control_12\" + \"/\"\n",
    "# pixel_categories = pd.read_csv(sample_folder + \"population_cell_mask.csv\")\n",
    "# color_palette_use = sns.color_palette(cc.glasbey, n_colors=pixel_categories.shape[0]+1)[1:]\n",
    "\n",
    "# # # Create a new figure and a subplot (which contains the legend)\n",
    "# fig, ax = plt.subplots(figsize=(6, 2))\n",
    "\n",
    "# # # We will use a dummy scatter plot with square markers to create the legend\n",
    "# for (i, label) in enumerate(pixel_categories['region_name']):\n",
    "#     if label != 'background':\n",
    "#         ax.scatter([], [], color=color_palette_use[i], label=label, marker='s', s=400)\n",
    "\n",
    "# # Create the legend\n",
    "# legend = ax.legend(loc='center', title='', fontsize='large', frameon=False, labelspacing=1, ncol=2)\n",
    "\n",
    "# # Hide the axes\n",
    "# ax.axis('off')\n",
    "\n",
    "# # Display the updated figure with square markers\n",
    "# plt.show()\n",
    "\n",
    "# # Save the figure as a PDF file\n",
    "# output_path = \"/Users/florian_wuennemann/1_Projects/MI_project/Lunaphore/pixie/masked_subset/cell_masks_0.05/napari_screenshots/pixel_cluster_legend.pdf\"\n",
    "# fig.savefig(output_path)\n",
    "\n",
    "# output_path"
   ]
  },
  {
   "cell_type": "markdown",
   "metadata": {},
   "source": [
    "## Plots to highlight myeloid cell infiltration"
   ]
  },
  {
   "cell_type": "code",
   "execution_count": 27,
   "metadata": {},
   "outputs": [
    {
     "name": "stdout",
     "output_type": "stream",
     "text": [
      "Control_14\n",
      "4h_97\n",
      "24h_86\n",
      "48h_79\n"
     ]
    }
   ],
   "source": [
    "# #color_palette_use = cell_cluster_color\n",
    "# color_palette_use = [\"grey\", # Fibroblasts\n",
    "#                      glasbey[5], # Neutrophils\n",
    "#                      \"black\", # background\n",
    "#                     glasbey[2], # Ccr2+ macrophages\n",
    "#                     \"grey\", # Smooth muscle cells\n",
    "#                     \"grey\", # Macrophages Trem2+\n",
    "#                     glasbey[7], # Cardiomyocytes Ankrd1+\n",
    "#                     \"grey\", # Endothelial cells\n",
    "#                     \"grey\", # Other Leukocytes\n",
    "#                     \"grey\", # Cardiomyocytes\n",
    "#                     \"black\", # out_of_mask\n",
    "#                     \"magenta\"] # Macrophages Trem2-\n",
    "\n",
    "# color_dict = {0: 'black'}\n",
    "# for i,region_id in enumerate(cell_categories['region_id']):\n",
    "#     if cell_categories['region_name'][i] == \"background\":\n",
    "#         color_dict[region_id] = \"black\"\n",
    "#     else:\n",
    "#         color_dict[region_id] = color_palette_use[i]\n",
    "# color_dict\n",
    "\n",
    "# ## Iterate over all FOVs\n",
    "# directory = '/Users/florian_wuennemann/1_Projects/MI_project/Lunaphore/pixie/masked_subset/cell_masks_0.05'\n",
    "# roi_dir = \"/Users/florian_wuennemann/1_Projects/MI_project/Lunaphore/pixie/masked_subset/heart_region_rois\"\n",
    "\n",
    "# for folder in os.listdir(directory):\n",
    "#     if os.path.isdir(os.path.join(directory, folder)) and folder != \"napari_screenshots\":\n",
    "#         if folder in [\"Control_14\",\"4h_97\",\"24h_86\",\"48h_79\"]:\n",
    "#             print(folder)\n",
    "#             # Do something with the folder here\n",
    "#             roi = pd.read_csv(os.path.join(roi_dir,folder + \"_heart.csv\"),encoding = 'unicode_escape')\n",
    "#             sample_folder = directory + \"/\" + folder + \"/\"\n",
    "#             cell_cluster_img = io.imread(sample_folder + \"population_cell_mask.tiff\")\n",
    "#             outdir = \"/Users/florian_wuennemann/1_Projects/MI_project/Lunaphore/pixie/masked_subset/cell_masks_0.05/napari_screenshots/\"\n",
    "#             outdir_screen = outdir + folder +\".myeloid_cells_highlight.png\"\n",
    "#             #cell_mask = tifffile.TiffFile(sample_folder + \"cell_segmentation.tiff\").asarray()\n",
    "#             #boundaries = find_boundaries(cell_mask, mode='thin')\n",
    "#             plot_pixie_maps(pixel_image = cell_cluster_img, sample = folder, mask_color = color_dict,\n",
    "#             scale = 5, screenshot_path = outdir_screen, crop_out_path = outdir, roi= roi)"
   ]
  }
 ],
 "metadata": {
  "kernelspec": {
   "display_name": "spatialomics_MI",
   "language": "python",
   "name": "python3"
  },
  "language_info": {
   "codemirror_mode": {
    "name": "ipython",
    "version": 3
   },
   "file_extension": ".py",
   "mimetype": "text/x-python",
   "name": "python",
   "nbconvert_exporter": "python",
   "pygments_lexer": "ipython3",
   "version": "3.11.4"
  },
  "orig_nbformat": 4
 },
 "nbformat": 4,
 "nbformat_minor": 2
}
