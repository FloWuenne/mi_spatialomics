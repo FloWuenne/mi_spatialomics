{
 "cells": [
  {
   "cell_type": "markdown",
   "metadata": {},
   "source": [
    "# Ccr2 infiltration screenshots"
   ]
  },
  {
   "cell_type": "code",
   "execution_count": 1,
   "metadata": {},
   "outputs": [],
   "source": [
    "import sys\n",
    "sys.path.append('..')\n",
    "from spatialMI_functions import plot_layers_napari, crop_black_margins, plot_pixie_maps, crop, crop_mask, crop_black_margins\n",
    "import napari\n",
    "import skimage.io as io\n",
    "import os\n",
    "import numpy as np\n",
    "import pandas as pd\n",
    "import tifffile\n",
    "from skimage.segmentation import find_boundaries\n",
    "import seaborn as sns\n",
    "import colorcet as cc\n",
    "\n",
    "import warnings\n",
    "warnings.filterwarnings(\"ignore\")"
   ]
  },
  {
   "cell_type": "markdown",
   "metadata": {},
   "source": [
    "## Setup"
   ]
  },
  {
   "cell_type": "code",
   "execution_count": 48,
   "metadata": {},
   "outputs": [],
   "source": [
    "contrast_limits_img = [ [0, 65535],   # DAPI\n",
    "                        [0, 65535],   # CD31\n",
    "                        [0, 30000],   # CCR2\n",
    "                        [0, 37000]]  # MPO\n",
    "\n",
    "## Regions from 24h samples with infiltration\n",
    "file_list = [\"DAPI.tif\",\"CD31.tif\",\"CCR2.tif\",\"MPO.tif\"]\n",
    "\n",
    "colorblind = sns.color_palette(\"colorblind\")\n",
    "glasbey = sns.color_palette(cc.glasbey)\n",
    "channel_order = [\"DAPI\",\"Cd31\",\"Ccr2\",\"Mpo\"]\n",
    "comet_images_color = [\"cyan\",colorblind[3],glasbey[2],\"magenta\"]\n",
    "\n",
    "font_size = 250\n",
    "scale_bar_length = 20"
   ]
  },
  {
   "cell_type": "markdown",
   "metadata": {},
   "source": [
    "## ROI 1 - 4h"
   ]
  },
  {
   "cell_type": "markdown",
   "metadata": {},
   "source": [
    "### IF image"
   ]
  },
  {
   "cell_type": "code",
   "execution_count": 50,
   "metadata": {},
   "outputs": [
    {
     "name": "stdout",
     "output_type": "stream",
     "text": [
      "DAPI.tif\n",
      "CD31.tif\n",
      "CCR2.tif\n",
      "MPO.tif\n"
     ]
    }
   ],
   "source": [
    "data_dir = \"/Volumes/Luna_heart/Florian_MI/pixie/mantis\"\n",
    "sample_name = \"4h_97\"\n",
    "roi = pd.read_csv(\"../../data/seqIF_regions_annotations/Figure3_regions/4h_94.infiltration_region_1.close_zoom.csv\",encoding = 'unicode_escape')\n",
    "# Load the first image to get the image shape\n",
    "first_image = io.imread(os.path.join(data_dir, sample_name, file_list[0]))\n",
    "image_shape = (len(file_list),) + first_image.shape\n",
    "\n",
    "# Create an empty array to hold the stacked images\n",
    "stacked_images = np.zeros(image_shape, dtype=first_image.dtype)\n",
    "\n",
    "# Iterate over all files in mantis_dir and stack them into the array\n",
    "for i, filename in enumerate(file_list):\n",
    "    print(filename)\n",
    "    image = io.imread(os.path.join(data_dir,sample_name, filename))\n",
    "    stacked_images[i] = image\n",
    "\n",
    "#### ROI 1 - 4h\n",
    "plot_layers_napari(image = stacked_images,image_channel_axis = 0, image_channel_colors = comet_images_color, \n",
    "    points_data = None,genes_of_interest = None,\n",
    "    roi = roi, mask = None,pt_size=40,\n",
    "    output_path = \"../../output/seqIF/figure3_zoomins/\" + sample_name + \"infiltration_1.figure3.png\",\n",
    "    scale_bar = True, font_size = font_size, scale = 5, scalebar_length = scale_bar_length, \n",
    "    img_type = \"seqIF\",roi_plot = None, box_edge_thickness = 70,\n",
    "    crop_out_path =  \"../../output/seqIF/figure3_zoomins/\", sample = sample_name,\n",
    "    image_contrast_limits = contrast_limits_img, channel_names=channel_order)"
   ]
  },
  {
   "cell_type": "markdown",
   "metadata": {},
   "source": [
    "### Cell cluster image"
   ]
  },
  {
   "cell_type": "code",
   "execution_count": null,
   "metadata": {},
   "outputs": [],
   "source": [
    "cell_categories"
   ]
  },
  {
   "cell_type": "code",
   "execution_count": 29,
   "metadata": {},
   "outputs": [],
   "source": [
    "## ROI 1 - 4h \n",
    "## Cell cluster image with mask\n",
    "cell_directory = '/Users/florian_wuennemann/1_Projects/MI_project/Lunaphore/pixie/masked_subset/cell_masks_0.05'\n",
    "\n",
    "sample_name = \"4h_97\"\n",
    "roi = pd.read_csv(\"../../data/seqIF_regions_annotations/Figure3_regions/4h_94.infiltration_region_1.close_zoom.csv\",encoding = 'unicode_escape')\n",
    "sample_folder = cell_directory + \"/\" + sample_name + \"/\"\n",
    "cell_categories = pd.read_csv(sample_folder + \"population_cell_mask.csv\")\n",
    "\n",
    "color_dict = {0: 'black'}\n",
    "for i,region_id in enumerate(cell_categories['region_id']):\n",
    "    if cell_categories['region_name'][i] == \"background\" or cell_categories['region_name'][i] == \"out_of_mask\":\n",
    "        color_dict[region_id] = \"black\"\n",
    "    elif cell_categories['region_name'][i] == \"Endothelial cells\":\n",
    "        color_dict[region_id] = colorblind[3]\n",
    "    elif cell_categories['region_name'][i] == \"Neutrophils\":\n",
    "        color_dict[region_id] = glasbey[5]\n",
    "    elif cell_categories['region_name'][i] == \"Mono / Macros Ccr2+\":\n",
    "        color_dict[region_id] = glasbey[2]\n",
    "    else:\n",
    "        color_dict[region_id] = \"grey\"\n",
    "\n",
    "viewer = napari.Viewer()\n",
    "# Do something with the folder here\n",
    "pixel_img = tifffile.TiffFile(sample_folder + \"population_cell_mask.tiff\").asarray()\n",
    "image_view = crop_mask(roi, pixel_img)\n",
    "cell_mask = tifffile.TiffFile(sample_folder + \"cell_segmentation.tiff\").asarray()\n",
    "mask_view = crop_mask(roi,cell_mask)\n",
    "boundaries = find_boundaries(mask_view, mode='thin')\n",
    "\n",
    "img_name = \"../../output/seqIF/figure3_zoomins/\"+sample_name+\".figure3_cell_mask.4h.png\"\n",
    "crop_name = \"../../output/seqIF/figure3_zoomins/\"+sample_name+\".figure3_cell_mask.crop.4h.png\"\n",
    "viewer.add_labels(image_view, visible=True, name=sample_name, opacity = 1, color = color_dict)\n",
    "viewer.add_labels(boundaries, visible=True, name=sample_name + \"_mask\", opacity = 1,color={0:'transparent', 1:(1,1,1)})\n",
    "viewer.screenshot(path=img_name,\n",
    "                      scale=5)\n",
    "crop_black_margins(img_name, crop_name)"
   ]
  },
  {
   "cell_type": "markdown",
   "metadata": {},
   "source": [
    "## ROI 2"
   ]
  },
  {
   "cell_type": "markdown",
   "metadata": {},
   "source": [
    "### IF image"
   ]
  },
  {
   "cell_type": "code",
   "execution_count": 12,
   "metadata": {},
   "outputs": [
    {
     "name": "stdout",
     "output_type": "stream",
     "text": [
      "DAPI.tif\n",
      "CD31.tif\n",
      "CCR2.tif\n",
      "MPO.tif\n"
     ]
    }
   ],
   "source": [
    "## ROI 2 - 24h\n",
    "data_dir = \"/Users/florian_wuennemann/1_Projects/MI_project/Lunaphore/pixie/mantis_channel_imgs\"\n",
    "sample_name = \"24h_83\"\n",
    "roi = pd.read_csv(\"../../data/seqIF_regions_annotations/Figure3_regions/24h_83.infiltration_region_1.close_zoom.csv\",encoding = 'unicode_escape')\n",
    "# Load the first image to get the image shape\n",
    "first_image = io.imread(os.path.join(data_dir, sample_name, file_list[0]))\n",
    "image_shape = (len(file_list),) + first_image.shape\n",
    "\n",
    "# Create an empty array to hold the stacked images\n",
    "stacked_images = np.zeros(image_shape, dtype=first_image.dtype)\n",
    "\n",
    "# Iterate over all files in mantis_dir and stack them into the array\n",
    "for i, filename in enumerate(file_list):\n",
    "    print(filename)\n",
    "    image = io.imread(os.path.join(data_dir,sample_name, filename))\n",
    "    stacked_images[i] = image\n",
    "\n",
    "plot_layers_napari(image = stacked_images,image_channel_axis = 0, image_channel_colors = comet_images_color, \n",
    "    points_data = None,genes_of_interest = None,\n",
    "    roi = roi, mask = None,pt_size=40,\n",
    "    output_path = \"../../output/seqIF/figure3_zoomins/\" + sample_name + \"infiltration_1.figure3.png\",\n",
    "    scale_bar = True, font_size = font_size, scale = 5, scalebar_length = scale_bar_length, \n",
    "    img_type = \"seqIF\",roi_plot = None, box_edge_thickness = 70,\n",
    "    crop_out_path =  \"../../output/seqIF/figure3_zoomins/\", sample = sample_name,\n",
    "    image_contrast_limits = contrast_limits_img, channel_names=channel_order)"
   ]
  },
  {
   "cell_type": "markdown",
   "metadata": {},
   "source": [
    "### Cell cluster image"
   ]
  },
  {
   "cell_type": "code",
   "execution_count": 30,
   "metadata": {},
   "outputs": [],
   "source": [
    "## ROI 1 - 24h \n",
    "## Cell cluster image with mask\n",
    "cell_directory = '/Users/florian_wuennemann/1_Projects/MI_project/Lunaphore/pixie/masked_subset/cell_masks_0.05'\n",
    "\n",
    "sample_name = \"24h_83\"\n",
    "roi = pd.read_csv(\"../../data/seqIF_regions_annotations/Figure3_regions/24h_83.infiltration_region_1.close_zoom.csv\",encoding = 'unicode_escape')\n",
    "sample_folder = cell_directory + \"/\" + sample_name + \"/\"\n",
    "cell_categories = pd.read_csv(sample_folder + \"population_cell_mask.csv\")\n",
    "\n",
    "color_dict = {0: 'black'}\n",
    "for i,region_id in enumerate(cell_categories['region_id']):\n",
    "    if cell_categories['region_name'][i] == \"background\" or cell_categories['region_name'][i] == \"out_of_mask\":\n",
    "        color_dict[region_id] = \"black\"\n",
    "    elif cell_categories['region_name'][i] == \"Endothelial cells\":\n",
    "        color_dict[region_id] = colorblind[3]\n",
    "    elif cell_categories['region_name'][i] == \"Neutrophils\":\n",
    "        color_dict[region_id] = glasbey[5]\n",
    "    elif cell_categories['region_name'][i] == \"Mono / Macros Ccr2+\":\n",
    "        color_dict[region_id] = glasbey[2]\n",
    "    else:\n",
    "        color_dict[region_id] = \"grey\"\n",
    "\n",
    "viewer = napari.Viewer()\n",
    "# Do something with the folder here\n",
    "pixel_img = tifffile.TiffFile(sample_folder + \"population_cell_mask.tiff\").asarray()\n",
    "image_view = crop_mask(roi, pixel_img)\n",
    "cell_mask = tifffile.TiffFile(sample_folder + \"cell_segmentation.tiff\").asarray()\n",
    "mask_view = crop_mask(roi,cell_mask)\n",
    "boundaries = find_boundaries(mask_view, mode='thin')\n",
    "\n",
    "img_name = \"../../output/seqIF/figure3_zoomins/\"+sample_name+\".figure3_cell_mask.24h.png\"\n",
    "crop_name = \"../../output/seqIF/figure3_zoomins/\"+sample_name+\".figure3_cell_mask.24h.crop.png\"\n",
    "viewer.add_labels(image_view, visible=True, name=sample_name, opacity = 1, color = color_dict)\n",
    "viewer.add_labels(boundaries, visible=True, name=sample_name + \"_mask\", opacity = 1,color={0:'transparent', 1:(1,1,1)})\n",
    "viewer.screenshot(path=img_name,\n",
    "                      scale=5)\n",
    "crop_black_margins(img_name, crop_name)"
   ]
  },
  {
   "cell_type": "markdown",
   "metadata": {},
   "source": [
    "## ROI 3 - 48h"
   ]
  },
  {
   "cell_type": "markdown",
   "metadata": {},
   "source": [
    "### IF image"
   ]
  },
  {
   "cell_type": "code",
   "execution_count": 35,
   "metadata": {},
   "outputs": [
    {
     "ename": "FileNotFoundError",
     "evalue": "[Errno 2] No such file or directory: '/Volumes/Luna_heart/Florian_MI/pixie/mantis/48h_79/DAPI.tif'",
     "output_type": "error",
     "traceback": [
      "\u001b[0;31m---------------------------------------------------------------------------\u001b[0m",
      "\u001b[0;31mFileNotFoundError\u001b[0m                         Traceback (most recent call last)",
      "\u001b[0;32m/var/folders/ph/m6mhj3s541799cykzbp3dx0m0000gn/T/ipykernel_57272/3744603779.py\u001b[0m in \u001b[0;36m?\u001b[0;34m()\u001b[0m\n\u001b[1;32m      2\u001b[0m \u001b[0msample_name\u001b[0m \u001b[0;34m=\u001b[0m \u001b[0;34m\"48h_79\"\u001b[0m\u001b[0;34m\u001b[0m\u001b[0;34m\u001b[0m\u001b[0m\n\u001b[1;32m      3\u001b[0m \u001b[0mdata_dir\u001b[0m \u001b[0;34m=\u001b[0m \u001b[0;34m\"/Volumes/Luna_heart/Florian_MI/pixie/mantis\"\u001b[0m\u001b[0;34m\u001b[0m\u001b[0;34m\u001b[0m\u001b[0m\n\u001b[1;32m      4\u001b[0m \u001b[0mroi\u001b[0m \u001b[0;34m=\u001b[0m \u001b[0mpd\u001b[0m\u001b[0;34m.\u001b[0m\u001b[0mread_csv\u001b[0m\u001b[0;34m(\u001b[0m\u001b[0;34m\"../../data/seqIF_regions_annotations/Figure3_regions/48h_79.infiltration_region_1.close_zoom.csv\"\u001b[0m\u001b[0;34m,\u001b[0m\u001b[0mencoding\u001b[0m \u001b[0;34m=\u001b[0m \u001b[0;34m'unicode_escape'\u001b[0m\u001b[0;34m)\u001b[0m\u001b[0;34m\u001b[0m\u001b[0;34m\u001b[0m\u001b[0m\n\u001b[1;32m      5\u001b[0m \u001b[0;31m# Load the first image to get the image shape\u001b[0m\u001b[0;34m\u001b[0m\u001b[0;34m\u001b[0m\u001b[0m\n\u001b[0;32m----> 6\u001b[0;31m \u001b[0mfirst_image\u001b[0m \u001b[0;34m=\u001b[0m \u001b[0mio\u001b[0m\u001b[0;34m.\u001b[0m\u001b[0mimread\u001b[0m\u001b[0;34m(\u001b[0m\u001b[0mos\u001b[0m\u001b[0;34m.\u001b[0m\u001b[0mpath\u001b[0m\u001b[0;34m.\u001b[0m\u001b[0mjoin\u001b[0m\u001b[0;34m(\u001b[0m\u001b[0mdata_dir\u001b[0m\u001b[0;34m,\u001b[0m \u001b[0msample_name\u001b[0m\u001b[0;34m,\u001b[0m \u001b[0mfile_list\u001b[0m\u001b[0;34m[\u001b[0m\u001b[0;36m0\u001b[0m\u001b[0;34m]\u001b[0m\u001b[0;34m)\u001b[0m\u001b[0;34m)\u001b[0m\u001b[0;34m\u001b[0m\u001b[0;34m\u001b[0m\u001b[0m\n\u001b[0m\u001b[1;32m      7\u001b[0m \u001b[0mfirst_image\u001b[0m \u001b[0;34m=\u001b[0m \u001b[0mnp\u001b[0m\u001b[0;34m.\u001b[0m\u001b[0mrot90\u001b[0m\u001b[0;34m(\u001b[0m\u001b[0mfirst_image\u001b[0m\u001b[0;34m,\u001b[0m\u001b[0;36m3\u001b[0m\u001b[0;34m)\u001b[0m\u001b[0;34m\u001b[0m\u001b[0;34m\u001b[0m\u001b[0m\n\u001b[1;32m      8\u001b[0m \u001b[0mimage_shape\u001b[0m \u001b[0;34m=\u001b[0m \u001b[0;34m(\u001b[0m\u001b[0mlen\u001b[0m\u001b[0;34m(\u001b[0m\u001b[0mfile_list\u001b[0m\u001b[0;34m)\u001b[0m\u001b[0;34m,\u001b[0m\u001b[0;34m)\u001b[0m \u001b[0;34m+\u001b[0m \u001b[0mfirst_image\u001b[0m\u001b[0;34m.\u001b[0m\u001b[0mshape\u001b[0m\u001b[0;34m\u001b[0m\u001b[0;34m\u001b[0m\u001b[0m\n\u001b[1;32m      9\u001b[0m \u001b[0;34m\u001b[0m\u001b[0m\n",
      "\u001b[0;32m~/miniconda3/envs/spatialomics_MI/lib/python3.11/site-packages/skimage/io/_io.py\u001b[0m in \u001b[0;36m?\u001b[0;34m(fname, as_gray, plugin, **plugin_args)\u001b[0m\n\u001b[1;32m     49\u001b[0m         \u001b[0;32mif\u001b[0m \u001b[0mfname\u001b[0m\u001b[0;34m.\u001b[0m\u001b[0mlower\u001b[0m\u001b[0;34m(\u001b[0m\u001b[0;34m)\u001b[0m\u001b[0;34m.\u001b[0m\u001b[0mendswith\u001b[0m\u001b[0;34m(\u001b[0m\u001b[0;34m(\u001b[0m\u001b[0;34m'.tiff'\u001b[0m\u001b[0;34m,\u001b[0m \u001b[0;34m'.tif'\u001b[0m\u001b[0;34m)\u001b[0m\u001b[0;34m)\u001b[0m\u001b[0;34m:\u001b[0m\u001b[0;34m\u001b[0m\u001b[0;34m\u001b[0m\u001b[0m\n\u001b[1;32m     50\u001b[0m             \u001b[0mplugin\u001b[0m \u001b[0;34m=\u001b[0m \u001b[0;34m'tifffile'\u001b[0m\u001b[0;34m\u001b[0m\u001b[0;34m\u001b[0m\u001b[0m\n\u001b[1;32m     51\u001b[0m \u001b[0;34m\u001b[0m\u001b[0m\n\u001b[1;32m     52\u001b[0m     \u001b[0;32mwith\u001b[0m \u001b[0mfile_or_url_context\u001b[0m\u001b[0;34m(\u001b[0m\u001b[0mfname\u001b[0m\u001b[0;34m)\u001b[0m \u001b[0;32mas\u001b[0m \u001b[0mfname\u001b[0m\u001b[0;34m:\u001b[0m\u001b[0;34m\u001b[0m\u001b[0;34m\u001b[0m\u001b[0m\n\u001b[0;32m---> 53\u001b[0;31m         \u001b[0mimg\u001b[0m \u001b[0;34m=\u001b[0m \u001b[0mcall_plugin\u001b[0m\u001b[0;34m(\u001b[0m\u001b[0;34m'imread'\u001b[0m\u001b[0;34m,\u001b[0m \u001b[0mfname\u001b[0m\u001b[0;34m,\u001b[0m \u001b[0mplugin\u001b[0m\u001b[0;34m=\u001b[0m\u001b[0mplugin\u001b[0m\u001b[0;34m,\u001b[0m \u001b[0;34m**\u001b[0m\u001b[0mplugin_args\u001b[0m\u001b[0;34m)\u001b[0m\u001b[0;34m\u001b[0m\u001b[0;34m\u001b[0m\u001b[0m\n\u001b[0m\u001b[1;32m     54\u001b[0m \u001b[0;34m\u001b[0m\u001b[0m\n\u001b[1;32m     55\u001b[0m     \u001b[0;32mif\u001b[0m \u001b[0;32mnot\u001b[0m \u001b[0mhasattr\u001b[0m\u001b[0;34m(\u001b[0m\u001b[0mimg\u001b[0m\u001b[0;34m,\u001b[0m \u001b[0;34m'ndim'\u001b[0m\u001b[0;34m)\u001b[0m\u001b[0;34m:\u001b[0m\u001b[0;34m\u001b[0m\u001b[0;34m\u001b[0m\u001b[0m\n\u001b[1;32m     56\u001b[0m         \u001b[0;32mreturn\u001b[0m \u001b[0mimg\u001b[0m\u001b[0;34m\u001b[0m\u001b[0;34m\u001b[0m\u001b[0m\n",
      "\u001b[0;32m~/miniconda3/envs/spatialomics_MI/lib/python3.11/site-packages/skimage/io/manage_plugins.py\u001b[0m in \u001b[0;36m?\u001b[0;34m(kind, *args, **kwargs)\u001b[0m\n\u001b[1;32m    201\u001b[0m             \u001b[0mfunc\u001b[0m \u001b[0;34m=\u001b[0m \u001b[0;34m[\u001b[0m\u001b[0mf\u001b[0m \u001b[0;32mfor\u001b[0m \u001b[0;34m(\u001b[0m\u001b[0mp\u001b[0m\u001b[0;34m,\u001b[0m \u001b[0mf\u001b[0m\u001b[0;34m)\u001b[0m \u001b[0;32min\u001b[0m \u001b[0mplugin_funcs\u001b[0m \u001b[0;32mif\u001b[0m \u001b[0mp\u001b[0m \u001b[0;34m==\u001b[0m \u001b[0mplugin\u001b[0m\u001b[0;34m]\u001b[0m\u001b[0;34m[\u001b[0m\u001b[0;36m0\u001b[0m\u001b[0;34m]\u001b[0m\u001b[0;34m\u001b[0m\u001b[0;34m\u001b[0m\u001b[0m\n\u001b[1;32m    202\u001b[0m         \u001b[0;32mexcept\u001b[0m \u001b[0mIndexError\u001b[0m\u001b[0;34m:\u001b[0m\u001b[0;34m\u001b[0m\u001b[0;34m\u001b[0m\u001b[0m\n\u001b[1;32m    203\u001b[0m             \u001b[0;32mraise\u001b[0m \u001b[0mRuntimeError\u001b[0m\u001b[0;34m(\u001b[0m\u001b[0;34mf'Could not find the plugin \"{plugin}\" for {kind}.'\u001b[0m\u001b[0;34m)\u001b[0m\u001b[0;34m\u001b[0m\u001b[0;34m\u001b[0m\u001b[0m\n\u001b[1;32m    204\u001b[0m \u001b[0;34m\u001b[0m\u001b[0m\n\u001b[0;32m--> 205\u001b[0;31m     \u001b[0;32mreturn\u001b[0m \u001b[0mfunc\u001b[0m\u001b[0;34m(\u001b[0m\u001b[0;34m*\u001b[0m\u001b[0margs\u001b[0m\u001b[0;34m,\u001b[0m \u001b[0;34m**\u001b[0m\u001b[0mkwargs\u001b[0m\u001b[0;34m)\u001b[0m\u001b[0;34m\u001b[0m\u001b[0;34m\u001b[0m\u001b[0m\n\u001b[0m",
      "\u001b[0;32m~/miniconda3/envs/spatialomics_MI/lib/python3.11/site-packages/skimage/io/_plugins/tifffile_plugin.py\u001b[0m in \u001b[0;36m?\u001b[0;34m(fname, **kwargs)\u001b[0m\n\u001b[1;32m     70\u001b[0m     \"\"\"\n\u001b[1;32m     71\u001b[0m     \u001b[0;32mif\u001b[0m \u001b[0;34m'img_num'\u001b[0m \u001b[0;32min\u001b[0m \u001b[0mkwargs\u001b[0m\u001b[0;34m:\u001b[0m\u001b[0;34m\u001b[0m\u001b[0;34m\u001b[0m\u001b[0m\n\u001b[1;32m     72\u001b[0m         \u001b[0mkwargs\u001b[0m\u001b[0;34m[\u001b[0m\u001b[0;34m'key'\u001b[0m\u001b[0;34m]\u001b[0m \u001b[0;34m=\u001b[0m \u001b[0mkwargs\u001b[0m\u001b[0;34m.\u001b[0m\u001b[0mpop\u001b[0m\u001b[0;34m(\u001b[0m\u001b[0;34m'img_num'\u001b[0m\u001b[0;34m)\u001b[0m\u001b[0;34m\u001b[0m\u001b[0;34m\u001b[0m\u001b[0m\n\u001b[1;32m     73\u001b[0m \u001b[0;34m\u001b[0m\u001b[0m\n\u001b[0;32m---> 74\u001b[0;31m     \u001b[0;32mreturn\u001b[0m \u001b[0mtifffile_imread\u001b[0m\u001b[0;34m(\u001b[0m\u001b[0mfname\u001b[0m\u001b[0;34m,\u001b[0m \u001b[0;34m**\u001b[0m\u001b[0mkwargs\u001b[0m\u001b[0;34m)\u001b[0m\u001b[0;34m\u001b[0m\u001b[0;34m\u001b[0m\u001b[0m\n\u001b[0m",
      "\u001b[0;32m~/miniconda3/envs/spatialomics_MI/lib/python3.11/site-packages/tifffile/tifffile.py\u001b[0m in \u001b[0;36m?\u001b[0;34m(files, selection, aszarr, key, series, level, squeeze, maxworkers, mode, name, offset, size, pattern, axesorder, categories, imread, sort, container, chunkshape, dtype, axestiled, ioworkers, chunkmode, fillvalue, zattrs, multiscales, omexml, out, out_inplace, _multifile, _useframes, **kwargs)\u001b[0m\n\u001b[1;32m   1100\u001b[0m \u001b[0;34m\u001b[0m\u001b[0m\n\u001b[1;32m   1101\u001b[0m         if isinstance(files, str) or not isinstance(\n\u001b[1;32m   1102\u001b[0m             \u001b[0mfiles\u001b[0m\u001b[0;34m,\u001b[0m \u001b[0mcollections\u001b[0m\u001b[0;34m.\u001b[0m\u001b[0mabc\u001b[0m\u001b[0;34m.\u001b[0m\u001b[0mSequence\u001b[0m\u001b[0;34m\u001b[0m\u001b[0;34m\u001b[0m\u001b[0m\n\u001b[1;32m   1103\u001b[0m         ):\n\u001b[0;32m-> 1104\u001b[0;31m             with TiffFile(\n\u001b[0m\u001b[1;32m   1105\u001b[0m                 \u001b[0mfiles\u001b[0m\u001b[0;34m,\u001b[0m\u001b[0;34m\u001b[0m\u001b[0;34m\u001b[0m\u001b[0m\n\u001b[1;32m   1106\u001b[0m                 \u001b[0mmode\u001b[0m\u001b[0;34m=\u001b[0m\u001b[0mmode\u001b[0m\u001b[0;34m,\u001b[0m\u001b[0;34m\u001b[0m\u001b[0;34m\u001b[0m\u001b[0m\n\u001b[1;32m   1107\u001b[0m                 \u001b[0mname\u001b[0m\u001b[0;34m=\u001b[0m\u001b[0mname\u001b[0m\u001b[0;34m,\u001b[0m\u001b[0;34m\u001b[0m\u001b[0;34m\u001b[0m\u001b[0m\n",
      "\u001b[0;32m~/miniconda3/envs/spatialomics_MI/lib/python3.11/site-packages/tifffile/tifffile.py\u001b[0m in \u001b[0;36m?\u001b[0;34m(self, file, mode, name, offset, size, omexml, _multifile, _useframes, _parent, **is_flags)\u001b[0m\n\u001b[1;32m   4041\u001b[0m \u001b[0;34m\u001b[0m\u001b[0m\n\u001b[1;32m   4042\u001b[0m         \u001b[0;32mif\u001b[0m \u001b[0mmode\u001b[0m \u001b[0;32mnot\u001b[0m \u001b[0;32min\u001b[0m \u001b[0;34m{\u001b[0m\u001b[0;32mNone\u001b[0m\u001b[0;34m,\u001b[0m \u001b[0;34m'r'\u001b[0m\u001b[0;34m,\u001b[0m \u001b[0;34m'r+'\u001b[0m\u001b[0;34m,\u001b[0m \u001b[0;34m'rb'\u001b[0m\u001b[0;34m,\u001b[0m \u001b[0;34m'r+b'\u001b[0m\u001b[0;34m}\u001b[0m\u001b[0;34m:\u001b[0m\u001b[0;34m\u001b[0m\u001b[0;34m\u001b[0m\u001b[0m\n\u001b[1;32m   4043\u001b[0m             \u001b[0;32mraise\u001b[0m \u001b[0mValueError\u001b[0m\u001b[0;34m(\u001b[0m\u001b[0;34mf'invalid mode {mode!r}'\u001b[0m\u001b[0;34m)\u001b[0m\u001b[0;34m\u001b[0m\u001b[0;34m\u001b[0m\u001b[0m\n\u001b[1;32m   4044\u001b[0m \u001b[0;34m\u001b[0m\u001b[0m\n\u001b[0;32m-> 4045\u001b[0;31m         \u001b[0mfh\u001b[0m \u001b[0;34m=\u001b[0m \u001b[0mFileHandle\u001b[0m\u001b[0;34m(\u001b[0m\u001b[0mfile\u001b[0m\u001b[0;34m,\u001b[0m \u001b[0mmode\u001b[0m\u001b[0;34m=\u001b[0m\u001b[0mmode\u001b[0m\u001b[0;34m,\u001b[0m \u001b[0mname\u001b[0m\u001b[0;34m=\u001b[0m\u001b[0mname\u001b[0m\u001b[0;34m,\u001b[0m \u001b[0moffset\u001b[0m\u001b[0;34m=\u001b[0m\u001b[0moffset\u001b[0m\u001b[0;34m,\u001b[0m \u001b[0msize\u001b[0m\u001b[0;34m=\u001b[0m\u001b[0msize\u001b[0m\u001b[0;34m)\u001b[0m\u001b[0;34m\u001b[0m\u001b[0;34m\u001b[0m\u001b[0m\n\u001b[0m\u001b[1;32m   4046\u001b[0m         \u001b[0mself\u001b[0m\u001b[0;34m.\u001b[0m\u001b[0m_fh\u001b[0m \u001b[0;34m=\u001b[0m \u001b[0mfh\u001b[0m\u001b[0;34m\u001b[0m\u001b[0;34m\u001b[0m\u001b[0m\n\u001b[1;32m   4047\u001b[0m         \u001b[0mself\u001b[0m\u001b[0;34m.\u001b[0m\u001b[0m_multifile\u001b[0m \u001b[0;34m=\u001b[0m \u001b[0;32mTrue\u001b[0m \u001b[0;32mif\u001b[0m \u001b[0m_multifile\u001b[0m \u001b[0;32mis\u001b[0m \u001b[0;32mNone\u001b[0m \u001b[0;32melse\u001b[0m \u001b[0mbool\u001b[0m\u001b[0;34m(\u001b[0m\u001b[0m_multifile\u001b[0m\u001b[0;34m)\u001b[0m\u001b[0;34m\u001b[0m\u001b[0;34m\u001b[0m\u001b[0m\n\u001b[1;32m   4048\u001b[0m         \u001b[0mself\u001b[0m\u001b[0;34m.\u001b[0m\u001b[0m_files\u001b[0m \u001b[0;34m=\u001b[0m \u001b[0;34m{\u001b[0m\u001b[0mfh\u001b[0m\u001b[0;34m.\u001b[0m\u001b[0mname\u001b[0m\u001b[0;34m:\u001b[0m \u001b[0mself\u001b[0m\u001b[0;34m}\u001b[0m\u001b[0;34m\u001b[0m\u001b[0;34m\u001b[0m\u001b[0m\n",
      "\u001b[0;32m~/miniconda3/envs/spatialomics_MI/lib/python3.11/site-packages/tifffile/tifffile.py\u001b[0m in \u001b[0;36m?\u001b[0;34m(self, file, mode, name, offset, size)\u001b[0m\n\u001b[1;32m  14023\u001b[0m         \u001b[0mself\u001b[0m\u001b[0;34m.\u001b[0m\u001b[0m_offset\u001b[0m \u001b[0;34m=\u001b[0m \u001b[0;34m-\u001b[0m\u001b[0;36m1\u001b[0m \u001b[0;32mif\u001b[0m \u001b[0moffset\u001b[0m \u001b[0;32mis\u001b[0m \u001b[0;32mNone\u001b[0m \u001b[0;32melse\u001b[0m \u001b[0moffset\u001b[0m\u001b[0;34m\u001b[0m\u001b[0;34m\u001b[0m\u001b[0m\n\u001b[1;32m  14024\u001b[0m         \u001b[0mself\u001b[0m\u001b[0;34m.\u001b[0m\u001b[0m_size\u001b[0m \u001b[0;34m=\u001b[0m \u001b[0;34m-\u001b[0m\u001b[0;36m1\u001b[0m \u001b[0;32mif\u001b[0m \u001b[0msize\u001b[0m \u001b[0;32mis\u001b[0m \u001b[0;32mNone\u001b[0m \u001b[0;32melse\u001b[0m \u001b[0msize\u001b[0m\u001b[0;34m\u001b[0m\u001b[0;34m\u001b[0m\u001b[0m\n\u001b[1;32m  14025\u001b[0m         \u001b[0mself\u001b[0m\u001b[0;34m.\u001b[0m\u001b[0m_close\u001b[0m \u001b[0;34m=\u001b[0m \u001b[0;32mTrue\u001b[0m\u001b[0;34m\u001b[0m\u001b[0;34m\u001b[0m\u001b[0m\n\u001b[1;32m  14026\u001b[0m         \u001b[0mself\u001b[0m\u001b[0;34m.\u001b[0m\u001b[0m_lock\u001b[0m \u001b[0;34m=\u001b[0m \u001b[0mNullContext\u001b[0m\u001b[0;34m(\u001b[0m\u001b[0;34m)\u001b[0m\u001b[0;34m\u001b[0m\u001b[0;34m\u001b[0m\u001b[0m\n\u001b[0;32m> 14027\u001b[0;31m         \u001b[0mself\u001b[0m\u001b[0;34m.\u001b[0m\u001b[0mopen\u001b[0m\u001b[0;34m(\u001b[0m\u001b[0;34m)\u001b[0m\u001b[0;34m\u001b[0m\u001b[0;34m\u001b[0m\u001b[0m\n\u001b[0m\u001b[1;32m  14028\u001b[0m         \u001b[0;32massert\u001b[0m \u001b[0mself\u001b[0m\u001b[0;34m.\u001b[0m\u001b[0m_fh\u001b[0m \u001b[0;32mis\u001b[0m \u001b[0;32mnot\u001b[0m \u001b[0;32mNone\u001b[0m\u001b[0;34m\u001b[0m\u001b[0;34m\u001b[0m\u001b[0m\n",
      "\u001b[0;32m~/miniconda3/envs/spatialomics_MI/lib/python3.11/site-packages/tifffile/tifffile.py\u001b[0m in \u001b[0;36m?\u001b[0;34m(self)\u001b[0m\n\u001b[1;32m  14038\u001b[0m         \u001b[0;32mif\u001b[0m \u001b[0misinstance\u001b[0m\u001b[0;34m(\u001b[0m\u001b[0mself\u001b[0m\u001b[0;34m.\u001b[0m\u001b[0m_file\u001b[0m\u001b[0;34m,\u001b[0m \u001b[0mstr\u001b[0m\u001b[0;34m)\u001b[0m\u001b[0;34m:\u001b[0m\u001b[0;34m\u001b[0m\u001b[0;34m\u001b[0m\u001b[0m\n\u001b[1;32m  14039\u001b[0m             \u001b[0;31m# file name\u001b[0m\u001b[0;34m\u001b[0m\u001b[0;34m\u001b[0m\u001b[0m\n\u001b[1;32m  14040\u001b[0m             \u001b[0mself\u001b[0m\u001b[0;34m.\u001b[0m\u001b[0m_file\u001b[0m \u001b[0;34m=\u001b[0m \u001b[0mos\u001b[0m\u001b[0;34m.\u001b[0m\u001b[0mpath\u001b[0m\u001b[0;34m.\u001b[0m\u001b[0mrealpath\u001b[0m\u001b[0;34m(\u001b[0m\u001b[0mself\u001b[0m\u001b[0;34m.\u001b[0m\u001b[0m_file\u001b[0m\u001b[0;34m)\u001b[0m\u001b[0;34m\u001b[0m\u001b[0;34m\u001b[0m\u001b[0m\n\u001b[1;32m  14041\u001b[0m             \u001b[0mself\u001b[0m\u001b[0;34m.\u001b[0m\u001b[0m_dir\u001b[0m\u001b[0;34m,\u001b[0m \u001b[0mself\u001b[0m\u001b[0;34m.\u001b[0m\u001b[0m_name\u001b[0m \u001b[0;34m=\u001b[0m \u001b[0mos\u001b[0m\u001b[0;34m.\u001b[0m\u001b[0mpath\u001b[0m\u001b[0;34m.\u001b[0m\u001b[0msplit\u001b[0m\u001b[0;34m(\u001b[0m\u001b[0mself\u001b[0m\u001b[0;34m.\u001b[0m\u001b[0m_file\u001b[0m\u001b[0;34m)\u001b[0m\u001b[0;34m\u001b[0m\u001b[0;34m\u001b[0m\u001b[0m\n\u001b[0;32m> 14042\u001b[0;31m             self._fh = open(\n\u001b[0m\u001b[1;32m  14043\u001b[0m                 \u001b[0mself\u001b[0m\u001b[0;34m.\u001b[0m\u001b[0m_file\u001b[0m\u001b[0;34m,\u001b[0m \u001b[0mself\u001b[0m\u001b[0;34m.\u001b[0m\u001b[0m_mode\u001b[0m\u001b[0;34m,\u001b[0m \u001b[0mencoding\u001b[0m\u001b[0;34m=\u001b[0m\u001b[0;32mNone\u001b[0m\u001b[0;34m\u001b[0m\u001b[0;34m\u001b[0m\u001b[0m\n\u001b[1;32m  14044\u001b[0m             )  # type: ignore\n\u001b[1;32m  14045\u001b[0m             \u001b[0mself\u001b[0m\u001b[0;34m.\u001b[0m\u001b[0m_close\u001b[0m \u001b[0;34m=\u001b[0m \u001b[0;32mTrue\u001b[0m\u001b[0;34m\u001b[0m\u001b[0;34m\u001b[0m\u001b[0m\n",
      "\u001b[0;31mFileNotFoundError\u001b[0m: [Errno 2] No such file or directory: '/Volumes/Luna_heart/Florian_MI/pixie/mantis/48h_79/DAPI.tif'"
     ]
    }
   ],
   "source": [
    "## ROI 3 - 48h\n",
    "sample_name = \"48_79\"\n",
    "data_dir = \"/Volumes/Luna_heart/Florian_MI/pixie/mantis\"\n",
    "roi = pd.read_csv(\"../../data/seqIF_regions_annotations/Figure3_regions/48h_79.infiltration_region_1.close_zoom.csv\",encoding = 'unicode_escape')\n",
    "# Load the first image to get the image shape\n",
    "first_image = io.imread(os.path.join(data_dir, sample_name, file_list[0]))\n",
    "first_image = np.rot90(first_image,3)\n",
    "image_shape = (len(file_list),) + first_image.shape\n",
    "\n",
    "# Create an empty array to hold the stacked images\n",
    "stacked_images = np.zeros(image_shape, dtype=first_image.dtype)\n",
    "\n",
    "# Iterate over all files in mantis_dir and stack them into the array\n",
    "for i, filename in enumerate(file_list):\n",
    "    print(filename)\n",
    "    image = io.imread(os.path.join(data_dir,sample_name, filename))\n",
    "    ## rotate image by 180 degrees\n",
    "    image = np.rot90(image,3)\n",
    "    stacked_images[i] = image\n",
    "\n",
    "plot_layers_napari(image = stacked_images,image_channel_axis = 0, image_channel_colors = comet_images_color, \n",
    "    points_data = None,genes_of_interest = None,\n",
    "    roi = roi, mask = None,pt_size=40,\n",
    "    output_path = \"../../output/seqIF/figure3_zoomins/\" + sample_name + \"infiltration_1.figure3.png\",\n",
    "    scale_bar = True, font_size = font_size, scale = 5, scalebar_length = scale_bar_length, \n",
    "    img_type = \"seqIF\",roi_plot = None, box_edge_thickness = 70,\n",
    "    crop_out_path =  \"../../output/seqIF/figure3_zoomins/\", sample = sample_name,\n",
    "    image_contrast_limits = contrast_limits_img, channel_names=channel_order)"
   ]
  },
  {
   "cell_type": "markdown",
   "metadata": {},
   "source": [
    "## Cell clusters"
   ]
  },
  {
   "cell_type": "code",
   "execution_count": 40,
   "metadata": {},
   "outputs": [
    {
     "data": {
      "text/plain": [
       "array([[[  0,   0,   0, 255],\n",
       "        [  0,   0,   0, 255],\n",
       "        [  0,   0,   0, 255],\n",
       "        ...,\n",
       "        [  0,   0,   0, 255],\n",
       "        [  0,   0,   0, 255],\n",
       "        [  0,   0,   0, 255]],\n",
       "\n",
       "       [[  0,   0,   0, 255],\n",
       "        [  0,   0,   0, 255],\n",
       "        [  0,   0,   0, 255],\n",
       "        ...,\n",
       "        [  0,   0,   0, 255],\n",
       "        [  0,   0,   0, 255],\n",
       "        [  0,   0,   0, 255]],\n",
       "\n",
       "       [[  0,   0,   0, 255],\n",
       "        [  0,   0,   0, 255],\n",
       "        [  0,   0,   0, 255],\n",
       "        ...,\n",
       "        [  0,   0,   0, 255],\n",
       "        [  0,   0,   0, 255],\n",
       "        [  0,   0,   0, 255]],\n",
       "\n",
       "       ...,\n",
       "\n",
       "       [[  0,   0,   0, 255],\n",
       "        [  0,   0,   0, 255],\n",
       "        [  0,   0,   0, 255],\n",
       "        ...,\n",
       "        [  0,   0,   0, 255],\n",
       "        [  0,   0,   0, 255],\n",
       "        [  0,   0,   0, 255]],\n",
       "\n",
       "       [[  0,   0,   0, 255],\n",
       "        [  0,   0,   0, 255],\n",
       "        [  0,   0,   0, 255],\n",
       "        ...,\n",
       "        [  0,   0,   0, 255],\n",
       "        [  0,   0,   0, 255],\n",
       "        [  0,   0,   0, 255]],\n",
       "\n",
       "       [[  0,   0,   0, 255],\n",
       "        [  0,   0,   0, 255],\n",
       "        [  0,   0,   0, 255],\n",
       "        ...,\n",
       "        [  0,   0,   0, 255],\n",
       "        [  0,   0,   0, 255],\n",
       "        [  0,   0,   0, 255]]], dtype=uint8)"
      ]
     },
     "execution_count": 40,
     "metadata": {},
     "output_type": "execute_result"
    }
   ],
   "source": [
    "## ROI 1 - 24h \n",
    "## Cell cluster image with mask\n",
    "cell_directory = '/Users/florian_wuennemann/1_Projects/MI_project/Lunaphore/pixie/masked_subset/cell_masks_0.05'\n",
    "\n",
    "sample_name = \"48h_79\"\n",
    "roi = pd.read_csv(\"../../data/seqIF_regions_annotations/Figure3_regions/48h_79.infiltration_region_1.close_zoom.csv\",encoding = 'unicode_escape')\n",
    "sample_folder = cell_directory + \"/\" + sample_name + \"/\"\n",
    "cell_categories = pd.read_csv(sample_folder + \"population_cell_mask.csv\")\n",
    "\n",
    "color_dict = {0: 'black'}\n",
    "for i,region_id in enumerate(cell_categories['region_id']):\n",
    "    if cell_categories['region_name'][i] == \"background\" or cell_categories['region_name'][i] == \"out_of_mask\":\n",
    "        color_dict[region_id] = \"black\"\n",
    "    elif cell_categories['region_name'][i] == \"Endothelial cells\":\n",
    "        color_dict[region_id] = colorblind[3]\n",
    "    elif cell_categories['region_name'][i] == \"Neutrophils\":\n",
    "        color_dict[region_id] = glasbey[5]\n",
    "    elif cell_categories['region_name'][i] == \"Mono / Macros Ccr2+\":\n",
    "        color_dict[region_id] = glasbey[2]\n",
    "    else:\n",
    "        color_dict[region_id] = \"grey\"\n",
    "\n",
    "viewer = napari.Viewer()\n",
    "# Do something with the folder here\n",
    "pixel_img = tifffile.TiffFile(sample_folder + \"population_cell_mask.tiff\").asarray()\n",
    "pixel_img = np.rot90(pixel_img,3)\n",
    "image_view = crop_mask(roi, pixel_img)\n",
    "cell_mask = tifffile.TiffFile(sample_folder + \"cell_segmentation.tiff\").asarray()\n",
    "cell_mask = np.rot90(cell_mask,3)\n",
    "mask_view = crop_mask(roi,cell_mask)\n",
    "boundaries = find_boundaries(mask_view, mode='thin')\n",
    "\n",
    "img_name = \"../../output/seqIF/figure3_zoomins/\"+sample_name+\".figure3_cell_mask.48h.png\"\n",
    "crop_name = \"../../output/seqIF/figure3_zoomins/\"+sample_name+\".figure3_cell_mask.48h.crop.png\"\n",
    "viewer.add_labels(image_view, visible=True, name=sample_name, opacity = 1, color = color_dict)\n",
    "viewer.add_labels(boundaries, visible=True, name=sample_name + \"_mask\", opacity = 1,color={0:'transparent', 1:(1,1,1)})\n",
    "viewer.screenshot(path=img_name,\n",
    "                      scale=5)\n",
    "#crop_black_margins(img_name, crop_name)"
   ]
  },
  {
   "cell_type": "code",
   "execution_count": 47,
   "metadata": {},
   "outputs": [
    {
     "data": {
      "text/plain": [
       "'#d55e00'"
      ]
     },
     "execution_count": 47,
     "metadata": {},
     "output_type": "execute_result"
    }
   ],
   "source": [
    "from matplotlib import colors\n",
    "colors.to_hex(colorblind[3])"
   ]
  },
  {
   "cell_type": "code",
   "execution_count": 13,
   "metadata": {},
   "outputs": [
    {
     "data": {
      "text/html": [
       "<div>\n",
       "<style scoped>\n",
       "    .dataframe tbody tr th:only-of-type {\n",
       "        vertical-align: middle;\n",
       "    }\n",
       "\n",
       "    .dataframe tbody tr th {\n",
       "        vertical-align: top;\n",
       "    }\n",
       "\n",
       "    .dataframe thead th {\n",
       "        text-align: right;\n",
       "    }\n",
       "</style>\n",
       "<table border=\"1\" class=\"dataframe\">\n",
       "  <thead>\n",
       "    <tr style=\"text-align: right;\">\n",
       "      <th></th>\n",
       "      <th>region_id</th>\n",
       "      <th>region_name</th>\n",
       "    </tr>\n",
       "  </thead>\n",
       "  <tbody>\n",
       "    <tr>\n",
       "      <th>0</th>\n",
       "      <td>1</td>\n",
       "      <td>Fibroblasts</td>\n",
       "    </tr>\n",
       "    <tr>\n",
       "      <th>1</th>\n",
       "      <td>2</td>\n",
       "      <td>Neutrophils</td>\n",
       "    </tr>\n",
       "    <tr>\n",
       "      <th>2</th>\n",
       "      <td>3</td>\n",
       "      <td>background</td>\n",
       "    </tr>\n",
       "    <tr>\n",
       "      <th>3</th>\n",
       "      <td>4</td>\n",
       "      <td>Mono / Macros Ccr2+</td>\n",
       "    </tr>\n",
       "    <tr>\n",
       "      <th>4</th>\n",
       "      <td>7</td>\n",
       "      <td>Smooth muscle cells</td>\n",
       "    </tr>\n",
       "    <tr>\n",
       "      <th>5</th>\n",
       "      <td>8</td>\n",
       "      <td>Macrophages Trem2+</td>\n",
       "    </tr>\n",
       "    <tr>\n",
       "      <th>6</th>\n",
       "      <td>9</td>\n",
       "      <td>Cardiomyocytes Ankrd1+</td>\n",
       "    </tr>\n",
       "    <tr>\n",
       "      <th>7</th>\n",
       "      <td>10</td>\n",
       "      <td>Endothelial cells</td>\n",
       "    </tr>\n",
       "    <tr>\n",
       "      <th>8</th>\n",
       "      <td>13</td>\n",
       "      <td>Other Leukocytes</td>\n",
       "    </tr>\n",
       "    <tr>\n",
       "      <th>9</th>\n",
       "      <td>19</td>\n",
       "      <td>Cardiomyocytes</td>\n",
       "    </tr>\n",
       "    <tr>\n",
       "      <th>10</th>\n",
       "      <td>34</td>\n",
       "      <td>out_of_mask</td>\n",
       "    </tr>\n",
       "    <tr>\n",
       "      <th>11</th>\n",
       "      <td>35</td>\n",
       "      <td>Macrophages Trem2-</td>\n",
       "    </tr>\n",
       "  </tbody>\n",
       "</table>\n",
       "</div>"
      ],
      "text/plain": [
       "    region_id             region_name\n",
       "0           1             Fibroblasts\n",
       "1           2             Neutrophils\n",
       "2           3              background\n",
       "3           4     Mono / Macros Ccr2+\n",
       "4           7     Smooth muscle cells\n",
       "5           8      Macrophages Trem2+\n",
       "6           9  Cardiomyocytes Ankrd1+\n",
       "7          10       Endothelial cells\n",
       "8          13        Other Leukocytes\n",
       "9          19          Cardiomyocytes\n",
       "10         34             out_of_mask\n",
       "11         35      Macrophages Trem2-"
      ]
     },
     "execution_count": 13,
     "metadata": {},
     "output_type": "execute_result"
    },
    {
     "name": "stderr",
     "output_type": "stream",
     "text": [
      "2023-08-26 13:08:21.697 python[37612:3331301] +[CATransaction synchronize] called within transaction\n"
     ]
    }
   ],
   "source": [
    "cell_categories"
   ]
  }
 ],
 "metadata": {
  "kernelspec": {
   "display_name": "spatialomics_MI",
   "language": "python",
   "name": "python3"
  },
  "language_info": {
   "codemirror_mode": {
    "name": "ipython",
    "version": 3
   },
   "file_extension": ".py",
   "mimetype": "text/x-python",
   "name": "python",
   "nbconvert_exporter": "python",
   "pygments_lexer": "ipython3",
   "version": "3.11.4"
  },
  "orig_nbformat": 4
 },
 "nbformat": 4,
 "nbformat_minor": 2
}
