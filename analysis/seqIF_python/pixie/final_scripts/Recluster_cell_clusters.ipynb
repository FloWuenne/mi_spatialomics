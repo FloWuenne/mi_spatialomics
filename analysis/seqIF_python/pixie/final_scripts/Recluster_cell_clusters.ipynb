{
 "cells": [
  {
   "cell_type": "markdown",
   "id": "bce31da0-5f5f-4b35-9b08-ede57379f277",
   "metadata": {},
   "source": [
    "# Merge metaclusters from pixie - Pixel level analysis\n",
    "\n",
    "This very small Jupyter Notebook is supposed to be run, after the first step of pixel clustering has been run on the entire dataset. \n",
    "\n",
    "The user can manually merge metaclusters and rename them. After finishing this notebook, make sure to run XXX to apply the updated clusters to your pixel values and generate pixel maps."
   ]
  },
  {
   "cell_type": "code",
   "execution_count": 4,
   "id": "9e653144-8fb1-4ea1-8699-edd6770536f3",
   "metadata": {
    "tags": []
   },
   "outputs": [],
   "source": [
    "# import required packages\n",
    "import json\n",
    "import os\n",
    "from datetime import datetime as dt\n",
    "\n",
    "import feather\n",
    "import matplotlib.pyplot as plt\n",
    "import pandas as pd\n",
    "from alpineer import load_utils\n",
    "from matplotlib import rc_file_defaults\n",
    "\n",
    "from ark.phenotyping import (cell_cluster_utils, cell_meta_clustering,\n",
    "                             cell_som_clustering, weighted_channel_comp)\n",
    "from ark.utils import data_utils, example_dataset, plot_utils\n",
    "from ark.utils.metacluster_remap_gui import (MetaClusterGui,\n",
    "                                             colormap_helper,\n",
    "                                             metaclusterdata_from_files)\n",
    "\n",
    "# explicitly set cell_cluster_prefix to override datetime default\n",
    "base_dir = \"/gpfs/bwfor/work/ws/hd_gr294-mi_lunaphore_mcmicro/pixie_subset\"\n",
    "cell_cluster_prefix = \"cell_clustering_0.05\"\n",
    "pixel_cluster_col = \"pixel_meta_cluster_rename\"\n",
    "\n",
    "if cell_cluster_prefix is None:\n",
    "    cell_cluster_prefix = dt.now().strftime('%Y-%m-%dT%H:%M:%S')\n",
    "\n",
    "# define the base output cell folder\n",
    "cell_output_dir = '%s_cell_output_dir' % cell_cluster_prefix\n",
    "if not os.path.exists(os.path.join(base_dir, \"pixie\", cell_output_dir)):\n",
    "    os.mkdir(os.path.join(base_dir, \"pixie\", cell_output_dir))\n",
    "    \n",
    "# define the paths to cell clustering files, explicitly set the variables to use custom names\n",
    "cell_som_weights_name = os.path.join(\"pixie\", cell_output_dir, 'cell_som_weights.feather')\n",
    "cluster_counts_name = os.path.join(\"pixie\", cell_output_dir, 'cluster_counts.feather')\n",
    "cluster_counts_size_norm_name = os.path.join(\"pixie\", cell_output_dir, 'cluster_counts_size_norm.feather')\n",
    "weighted_cell_channel_name = os.path.join(\"pixie\", cell_output_dir, 'weighted_cell_channel.feather')\n",
    "cell_som_cluster_count_avg_name = os.path.join(\"pixie\", cell_output_dir, 'cell_som_cluster_count_avg.csv')\n",
    "cell_meta_cluster_count_avg_name = os.path.join(\"pixie\", cell_output_dir, 'cell_meta_cluster_count_avg.csv')\n",
    "cell_som_cluster_channel_avg_name = os.path.join(\"pixie\", cell_output_dir, 'cell_som_cluster_channel_avg.csv')\n",
    "cell_meta_cluster_channel_avg_name = os.path.join(\"pixie\", cell_output_dir, 'cell_meta_cluster_channel_avg.csv')\n",
    "cell_meta_cluster_remap_name = os.path.join(\"pixie\", cell_output_dir, 'cell_meta_cluster_mapping.csv')"
   ]
  },
  {
   "cell_type": "code",
   "execution_count": 6,
   "id": "402decc1-2f8b-4161-81f1-3203ed0c336d",
   "metadata": {
    "tags": []
   },
   "outputs": [
    {
     "data": {
      "application/vnd.jupyter.widget-view+json": {
       "model_id": "94d318a7c49d4a30b3962ab3ea0c036d",
       "version_major": 2,
       "version_minor": 0
      },
      "text/plain": [
       "VBox(children=(Output(), HBox(children=(HBox(children=(FloatSlider(value=3.0, description='Max Zscore:', max=1…"
      ]
     },
     "metadata": {},
     "output_type": "display_data"
    }
   ],
   "source": [
    "%matplotlib widget\n",
    "rc_file_defaults()\n",
    "plt.ion()\n",
    "\n",
    "cell_mcd = metaclusterdata_from_files(\n",
    "    os.path.join(base_dir, cell_som_cluster_count_avg_name),\n",
    "    cluster_type='cell',\n",
    "    prefix_trim=pixel_cluster_col + '_'\n",
    ")\n",
    "cell_mcd.output_mapping_filename = os.path.join(base_dir, cell_meta_cluster_remap_name)\n",
    "cell_mcg = MetaClusterGui(cell_mcd, width=17)"
   ]
  },
  {
   "cell_type": "code",
   "execution_count": null,
   "id": "90350545-8612-4299-833d-ed92821ee1c4",
   "metadata": {},
   "outputs": [],
   "source": []
  }
 ],
 "metadata": {
  "kernelspec": {
   "display_name": "Python 3 (ipykernel)",
   "language": "python",
   "name": "python3"
  },
  "language_info": {
   "codemirror_mode": {
    "name": "ipython",
    "version": 3
   },
   "file_extension": ".py",
   "mimetype": "text/x-python",
   "name": "python",
   "nbconvert_exporter": "python",
   "pygments_lexer": "ipython3",
   "version": "3.9.13"
  }
 },
 "nbformat": 4,
 "nbformat_minor": 5
}
