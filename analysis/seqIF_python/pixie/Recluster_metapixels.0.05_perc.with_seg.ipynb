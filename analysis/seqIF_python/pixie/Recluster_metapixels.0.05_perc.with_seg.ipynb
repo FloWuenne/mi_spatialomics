{
 "cells": [
  {
   "cell_type": "markdown",
   "id": "bce31da0-5f5f-4b35-9b08-ede57379f277",
   "metadata": {},
   "source": [
    "# Merge metaclusters from pixie - Pixel level analysis\n",
    "\n",
    "This very small Jupyter Notebook is supposed to be run, after the first step of pixel clustering has been run on the entire dataset. \n",
    "\n",
    "The user can manually merge metaclusters and rename them. After finishing this notebook, make sure to run XXX to apply the updated clusters to your pixel values and generate pixel maps."
   ]
  },
  {
   "cell_type": "code",
   "execution_count": 1,
   "id": "9e653144-8fb1-4ea1-8699-edd6770536f3",
   "metadata": {
    "tags": []
   },
   "outputs": [],
   "source": [
    "import os\n",
    "from alpineer import io_utils, load_utils\n",
    "from matplotlib import rc_file_defaults\n",
    "import matplotlib.pyplot as plt\n",
    "from ark.phenotyping import (pixel_cluster_utils, pixel_meta_clustering,\n",
    "                                 pixel_som_clustering, pixie_preprocessing)\n",
    "from ark.utils.metacluster_remap_gui import (MetaClusterGui,\n",
    "                                             colormap_helper,\n",
    "                                             metaclusterdata_from_files)\n",
    "\n",
    "\n",
    "base_dir =  \"/gpfs/bwfor/work/ws/hd_gr294-mi_lunaphore_mcmicro/pixie_subset\"\n",
    "tiff_dir = os.path.join(base_dir, \"image_data\")\n",
    "pixel_cluster_prefix = \"lunaphore_pixel_masked_0.05_wseg\"\n",
    "pixel_output_dir = os.path.join(\"pixie\", \"%s_pixel_output_dir\" % pixel_cluster_prefix)\n",
    "pc_chan_avg_som_cluster_name = os.path.join(pixel_output_dir, 'pixel_channel_avg_som_cluster.csv')\n",
    "pixel_meta_cluster_remap_name = os.path.join(pixel_output_dir, 'pixel_meta_cluster_mapping.csv')\n",
    "\n",
    "batch_size = 5\n",
    "multiprocess = False\n",
    "pixel_data_dir = os.path.join(pixel_output_dir, 'pixel_mat_data')\n",
    "channels = [\"ANKRD1\", \"aSMA\", \"CCR2\", \"CD31\", \"CD45\", \"CD68\", \"MPO\",\"PDGFRa\", \"TNNT2\", \"TREM2\"]\n",
    "fovs = io_utils.list_folders(tiff_dir)"
   ]
  },
  {
   "cell_type": "code",
   "execution_count": 3,
   "id": "402decc1-2f8b-4161-81f1-3203ed0c336d",
   "metadata": {
    "tags": []
   },
   "outputs": [
    {
     "data": {
      "application/vnd.jupyter.widget-view+json": {
       "model_id": "22de267745494fb9ac807dc8697989b0",
       "version_major": 2,
       "version_minor": 0
      },
      "text/plain": [
       "VBox(children=(Output(), HBox(children=(HBox(children=(FloatSlider(value=3.0, description='Max Zscore:', max=1…"
      ]
     },
     "metadata": {},
     "output_type": "display_data"
    }
   ],
   "source": [
    "%matplotlib widget\n",
    "rc_file_defaults()\n",
    "plt.ion()\n",
    "\n",
    "pixel_mcd = metaclusterdata_from_files(\n",
    "    os.path.join(base_dir, pc_chan_avg_som_cluster_name),\n",
    "    cluster_type='pixel'\n",
    ")\n",
    "pixel_mcd.output_mapping_filename = os.path.join(base_dir, pixel_meta_cluster_remap_name)\n",
    "pixel_mcg = MetaClusterGui(pixel_mcd, width=17)"
   ]
  },
  {
   "cell_type": "code",
   "execution_count": null,
   "id": "91752f5c-4f77-4093-a585-7c0e079d2b00",
   "metadata": {},
   "outputs": [],
   "source": []
  }
 ],
 "metadata": {
  "kernelspec": {
   "display_name": "Python 3 (ipykernel)",
   "language": "python",
   "name": "python3"
  },
  "language_info": {
   "codemirror_mode": {
    "name": "ipython",
    "version": 3
   },
   "file_extension": ".py",
   "mimetype": "text/x-python",
   "name": "python",
   "nbconvert_exporter": "python",
   "pygments_lexer": "ipython3",
   "version": "3.9.13"
  }
 },
 "nbformat": 4,
 "nbformat_minor": 5
}
