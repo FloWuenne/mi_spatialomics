{
 "cells": [
  {
   "cell_type": "markdown",
   "id": "00a8b010",
   "metadata": {},
   "source": [
    "# This is the notebook for cell filtering and lumen distance calculations"
   ]
  },
  {
   "cell_type": "markdown",
   "id": "09ad8b3e",
   "metadata": {},
   "source": [
    "## Cell annotation, filtering and lumen distance calculations"
   ]
  },
  {
   "cell_type": "code",
   "execution_count": 12,
   "id": "c4b4946d",
   "metadata": {},
   "outputs": [],
   "source": [
    "import pandas as pd\n",
    "import numpy as np\n",
    "import tifffile\n",
    "import dask.array as da\n",
    "from dask.array.image import imread\n",
    "import os\n",
    "import seaborn as sns\n",
    "import matplotlib.pyplot as plt\n",
    "from scipy.ndimage import binary_dilation\n",
    "import copy\n",
    "from scipy.ndimage import distance_transform_edt\n",
    "import matplotlib.pyplot as plt\n",
    "\n",
    "class SamplePaths:\n",
    "    def __init__(self, sample):\n",
    "        self.sample = sample\n",
    "        self.sample_final_name = sample_list_final[sample_list.index(sample)]\n",
    "        self.image_path = image_path_list[sample_list.index(sample)]\n",
    "\n",
    "        #self.segmentation_mask_path = f'/Users/kbestak/Documents/kbestak/phd/heart_manuscript_revision/labeled_masks/segmentation/cellpose_lunaphore/{sample}_clahe.ome_cp_masks.tif'\n",
    "        self.reannotated_regions_path = f'/Users/kbestak/Documents/kbestak/phd/heart_manuscript_revision/labeled_masks/reannotated/masks/{sample}_regions.tif'\n",
    "        self.reannotated_endocardium_path = f'/Users/kbestak/Documents/kbestak/phd/heart_manuscript_revision/labeled_masks/reannotated/masks/{sample}_endocardium.tif'\n",
    "        #self.injury_mask_path = f'/Users/kbestak/Documents/kbestak/phd/heart_manuscript_revision/labeled_masks/region_masks/{sample}_injury.tif'\n",
    "        self.markers_path = f'/Users/kbestak/Documents/kbestak/phd/heart_manuscript_revision/marker_files/AF_corrected/{sample}_markers.csv'\n",
    "        self.markers = pd.read_csv(self.markers_path)\n",
    "\n",
    "sample_list = [\"Control_12\", \"Control_13\", \"Control_14\", \"4h_96\", \"4h_97\", \"24h_83\", \"24h_86\", \"48h_76\", \"48h_79\"]\n",
    "\n",
    "sample_matching = pd.read_csv('/Users/kbestak/Documents/kbestak/phd/heart_manuscript_revision/sample_name_matching.csv')\n",
    "sample_list_final = [sample_matching.loc[sample_matching['sample_kb'] == sample, 'sample_final'].values[0] for sample in sample_list]\n",
    "image_path_list = [sample_matching.loc[sample_matching['sample_kb'] == sample, 'image_path'].values[0] for sample in sample_list]\n",
    "region_matching = pd.read_csv('/Users/kbestak/Documents/kbestak/phd/heart_manuscript_revision/region_matching.csv')"
   ]
  },
  {
   "cell_type": "code",
   "execution_count": 13,
   "id": "9a19b8af",
   "metadata": {},
   "outputs": [],
   "source": [
    "cell_data = pd.read_csv('/Users/kbestak/Documents/kbestak/phd/heart_manuscript_revision/cell_table_size_normalized_cell_labels.csv') # Pixie output - file on Synapse\n",
    "\n",
    "lumen_distance_binsize = 80 # in pixels\n",
    "minimum_cell_size = 120 # exact value in micrometers as used in Molecular Cartography data processing 200 * 0.138 / 0.23 = 120 (200 px * 0.138 um/px (MC pixel size) / 0.23 um/px (COMET PA pixel size)= 120 um)\n",
    "maximum_cell_size = 120000 # exact value in micrometers as used in Molecular Cartography data processing\n"
   ]
  },
  {
   "cell_type": "code",
   "execution_count": 14,
   "id": "54315e4c",
   "metadata": {},
   "outputs": [],
   "source": [
    "cell_data['timepoint'] = cell_data['fov'].str.split('_').str[0] # adds timepont column\n",
    "\n",
    "# initialize values for new columns\n",
    "cell_data['region'] = -1\n",
    "cell_data['region_name'] = 'unknown'\n",
    "\n",
    "cell_data['refined_cell_type'] = 'unknown'\n",
    "cell_data['final_cell_type'] = 'unknown'\n",
    "\n",
    "cell_data['endocardial_annotation'] = False\n",
    "cell_data['exclude_annotation'] = False\n",
    "cell_data['artefact'] = False\n",
    "\n",
    "cell_data['distance_from_lumen'] = -1\n",
    "cell_data['lumen_bin'] = -1\n",
    "\n",
    "cell_data['size_filter'] = False"
   ]
  },
  {
   "cell_type": "code",
   "execution_count": 15,
   "id": "142f6f78",
   "metadata": {},
   "outputs": [
    {
     "name": "stdout",
     "output_type": "stream",
     "text": [
      "/Users/kbestak/Documents/kbestak/phd/heart_manuscript_revision/labeled_masks/reannotated/masks/Control_12_regions.tif\n"
     ]
    },
    {
     "name": "stderr",
     "output_type": "stream",
     "text": [
      "/var/folders/l7/tt9m66c9577c9x90t8n3xc6m0000gn/T/ipykernel_16714/2575622954.py:8: FutureWarning: Setting an item of incompatible dtype is deprecated and will raise in a future error of pandas. Value '[9483.96842045 9469.18581505 9445.49082896 ... 6333.97521309 6341.02554797\n",
      " 6359.60887162]' has dtype incompatible with int64, please explicitly cast to a compatible dtype first.\n",
      "  cell_data.loc[cell_data['fov'] == sample, 'distance_from_lumen'] = distance_from_lumen[cell_data.loc[cell_data['fov'] == sample, 'Y_centroid'].astype(int), cell_data.loc[cell_data['fov'] == sample, 'X_centroid'].astype(int)]\n",
      "/var/folders/l7/tt9m66c9577c9x90t8n3xc6m0000gn/T/ipykernel_16714/2575622954.py:11: FutureWarning: Setting an item of incompatible dtype is deprecated and will raise in a future error of pandas. Value '[0 0 0 ... 0 0 0]' has dtype incompatible with bool, please explicitly cast to a compatible dtype first.\n",
      "  cell_data.loc[cell_data['fov'] == sample, 'endocardial_annotation'] = reannotated_endocardium[cell_data.loc[cell_data['fov'] == sample, 'Y_centroid'].astype(int), cell_data.loc[cell_data['fov'] == sample, 'X_centroid'].astype(int)]\n"
     ]
    },
    {
     "name": "stdout",
     "output_type": "stream",
     "text": [
      "/Users/kbestak/Documents/kbestak/phd/heart_manuscript_revision/labeled_masks/reannotated/masks/Control_13_regions.tif\n",
      "/Users/kbestak/Documents/kbestak/phd/heart_manuscript_revision/labeled_masks/reannotated/masks/Control_14_regions.tif\n",
      "/Users/kbestak/Documents/kbestak/phd/heart_manuscript_revision/labeled_masks/reannotated/masks/4h_96_regions.tif\n",
      "/Users/kbestak/Documents/kbestak/phd/heart_manuscript_revision/labeled_masks/reannotated/masks/4h_97_regions.tif\n",
      "/Users/kbestak/Documents/kbestak/phd/heart_manuscript_revision/labeled_masks/reannotated/masks/24h_83_regions.tif\n",
      "/Users/kbestak/Documents/kbestak/phd/heart_manuscript_revision/labeled_masks/reannotated/masks/24h_86_regions.tif\n",
      "/Users/kbestak/Documents/kbestak/phd/heart_manuscript_revision/labeled_masks/reannotated/masks/48h_76_regions.tif\n",
      "/Users/kbestak/Documents/kbestak/phd/heart_manuscript_revision/labeled_masks/reannotated/masks/48h_79_regions.tif\n"
     ]
    }
   ],
   "source": [
    "for sample in sample_list:\n",
    "    sample_paths = SamplePaths(sample)\n",
    "    print(sample_paths.reannotated_regions_path)\n",
    "    reannotated_regions = tifffile.imread(sample_paths.reannotated_regions_path)\n",
    "    cell_data.loc[cell_data['fov'] == sample, 'region'] = reannotated_regions[cell_data.loc[cell_data['fov'] == sample, 'Y_centroid'].astype(int), cell_data.loc[cell_data['fov'] == sample, 'X_centroid'].astype(int)]\n",
    "\n",
    "    distance_from_lumen = distance_transform_edt(reannotated_regions != 1)\n",
    "    cell_data.loc[cell_data['fov'] == sample, 'distance_from_lumen'] = distance_from_lumen[cell_data.loc[cell_data['fov'] == sample, 'Y_centroid'].astype(int), cell_data.loc[cell_data['fov'] == sample, 'X_centroid'].astype(int)]\n",
    "\n",
    "    reannotated_endocardium = tifffile.imread(sample_paths.reannotated_endocardium_path)\n",
    "    cell_data.loc[cell_data['fov'] == sample, 'endocardial_annotation'] = reannotated_endocardium[cell_data.loc[cell_data['fov'] == sample, 'Y_centroid'].astype(int), cell_data.loc[cell_data['fov'] == sample, 'X_centroid'].astype(int)]"
   ]
  },
  {
   "cell_type": "code",
   "execution_count": 23,
   "id": "23ad7e46",
   "metadata": {},
   "outputs": [],
   "source": [
    "cell_data['region_name'] = cell_data['region'].map(region_matching.set_index('region_id')['region_name']) # match region names to region ids\n",
    "\n",
    "cell_data['refined_cell_type'] = cell_data['cell_meta_cluster']\n",
    "cell_data.loc[(cell_data['endocardial_annotation']>0) & (cell_data['cell_meta_cluster'] == 'Endothelial cells'), 'refined_cell_type'] = 'Endocardial cells' # all cells is in the endocardial annotation and classified as \"Endothelial cells\", are renamed to \"Endocardial cells\" in the \"refined_cell_type\" column\n",
    "\n",
    "max_distance = cell_data['distance_from_lumen'].max()\n",
    "next_multiple_of_80 = (np.ceil(max_distance / lumen_distance_binsize) * lumen_distance_binsize) # get maximum lumen bin value possible\n",
    "bin_edges = np.arange(0, next_multiple_of_80 + lumen_distance_binsize, lumen_distance_binsize)\n",
    "cell_data['lumen_bin'] = pd.cut(cell_data['distance_from_lumen'], bins=bin_edges, labels=range(1, len(bin_edges))) # assign lumen bin based on lumen_distance_binsize\n",
    "\n",
    "cell_data.loc[cell_data.region_name.isin(['background', 'lumen', 'ignore']), 'exclude_annotation'] = True # if region_name is background, lumen or ignore, cells should be excluded]\n",
    "cell_data.loc[cell_data.cell_meta_cluster.isin(['out_of_mask', 'background']), 'exclude_annotation'] = True\n",
    "\n",
    "cell_data['size_filter'] = np.logical_or(cell_data['cell_size'] < minimum_cell_size, cell_data['cell_size'] > maximum_cell_size) # exclude cells below min and above max filter\n",
    "\n",
    "artefacts = cell_data[(cell_data['Eccentricity'] > 0.9) & (cell_data['Solidity'] < 0.9) & (cell_data['cell_size'] < 500)].index.values # exclude cells with high eccentricity, low solidity and small size\n",
    "artefacts = np.concatenate((artefacts, cell_data[(cell_data['Solidity'] < 0.1)].index.values)) # additionally exclude cells with very low solidity\n",
    "artefacts = np.unique(artefacts)\n",
    "cell_data.loc[artefacts, 'artefact'] = True\n",
    "\n",
    "cell_data['final_cell_type'] = cell_data['refined_cell_type']\n",
    "cell_data.loc[cell_data['exclude_annotation'], 'final_cell_type'] = 'exclude'\n",
    "cell_data.loc[cell_data['size_filter'], 'final_cell_type'] = 'exclude'\n",
    "cell_data.loc[cell_data['artefact'], 'final_cell_type'] = 'exclude'\n",
    "cell_data['distance_from_lumen'] = cell_data['distance_from_lumen'].round(2)\n",
    "\n",
    "cell_data.to_csv('/Users/kbestak/Documents/kbestak/phd/heart_manuscript_revision/cell_table_final.csv', index=False)"
   ]
  }
 ],
 "metadata": {
  "kernelspec": {
   "display_name": "artecorr",
   "language": "python",
   "name": "python3"
  },
  "language_info": {
   "codemirror_mode": {
    "name": "ipython",
    "version": 3
   },
   "file_extension": ".py",
   "mimetype": "text/x-python",
   "name": "python",
   "nbconvert_exporter": "python",
   "pygments_lexer": "ipython3",
   "version": "3.9.18"
  }
 },
 "nbformat": 4,
 "nbformat_minor": 5
}
