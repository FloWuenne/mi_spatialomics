{
 "cells": [
  {
   "cell_type": "markdown",
   "metadata": {},
   "source": [
    "# Generate SeqIF images via napari"
   ]
  },
  {
   "cell_type": "code",
   "execution_count": null,
   "metadata": {},
   "outputs": [],
   "source": [
    "# just installing napari, geopandas and tifffile should be enough to import everything\n",
    "import pandas as pd\n",
    "import napari\n",
    "import skimage.io\n",
    "import geopandas as gp\n",
    "from shapely.geometry import Polygon\n",
    "import distinctipy\n",
    "import seaborn as sns\n",
    "import numpy as np\n",
    "from PIL import Image, ImageDraw, ImageFont\n",
    "import sys\n",
    "from skimage.segmentation import find_boundaries\n",
    "sys.path.append(\"../\")\n",
    "from spatialMI_functions import plot_layers_napari, crop_black_margins, add_scalebar, crop_coords"
   ]
  },
  {
   "cell_type": "code",
   "execution_count": null,
   "metadata": {},
   "outputs": [],
   "source": [
    "sample = \"sample_2d_r1_s1\"\n",
    "colors = [\"#fc6b09\",\"#0090ad\",\"#cadb2b\",\"#cb2027\",\"#029e88\", \"#e18d9a\"]\n",
    "\n",
    "# napari_screenshot = '../../output/molkart/molkart_figure1_images/'+sample+'.napari_screen.full_image.png'\n",
    "# roi = pd.read_csv(\"../../data/molkart_tissue_regions_rois/\"+sample+\".figure_1_roi.csv\")\n",
    "\n",
    "## image\n",
    "img_dir = \"../../../results/nf-core_molkart/stack/\"\n",
    "img_stack=  skimage.io.imread(img_dir+sample+\"_stack.ome.tif\")\n",
    "xmax, ymax = img_stack[[0]].shape[2], img_stack[[1]].shape[1]\n",
    "\n",
    "## segmentation mask\n",
    "img_dir = \"../../../results/nf-core_molkart/filtered_masks/\"\n",
    "mask = skimage.io.imread(img_dir+sample+\"_cellpose_filtered.tif\")\n",
    "\n",
    "## Spots\n",
    "spots = pd.read_csv('../../../results/nf-core_molkart/mindagap/'+sample+\"_\"+sample+'.spots_markedDups.txt', delimiter='\\t', header=None)\n",
    "# Please name the columns of spots X,Y,Z and gene\n",
    "spots.columns = ['x', 'y', 'z', 'gene_target']\n",
    "# Filter out gene with the name Duplicated\n",
    "spots = spots[spots.gene_target != \"Duplicated\"]\n",
    "\n",
    "## ROI for zoom in\n",
    "roi = pd.read_csv(\"../../annotations/molkart/Figure1_regions/\"+sample+\".zoom_in.csv\")\n",
    "\n",
    "## Output\n",
    "outdir = \"../../output/molkart/figure1_images/\""
   ]
  }
 ],
 "metadata": {
  "kernelspec": {
   "display_name": "spatialomics_MI",
   "language": "python",
   "name": "python3"
  },
  "language_info": {
   "codemirror_mode": {
    "name": "ipython",
    "version": 3
   },
   "file_extension": ".py",
   "mimetype": "text/x-python",
   "name": "python",
   "nbconvert_exporter": "python",
   "pygments_lexer": "ipython3",
   "version": "3.11.4"
  }
 },
 "nbformat": 4,
 "nbformat_minor": 2
}
