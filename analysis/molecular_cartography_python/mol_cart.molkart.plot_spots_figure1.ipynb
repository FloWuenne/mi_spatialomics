{
 "cells": [
  {
   "cell_type": "markdown",
   "metadata": {},
   "source": [
    "# Plot select markers from Molecular Cartography\n",
    "\n",
    "This script will produce plots for Molecular Cartography data used in Figure 1"
   ]
  },
  {
   "cell_type": "code",
   "execution_count": 1,
   "metadata": {},
   "outputs": [],
   "source": [
    "# just installing napari, geopandas and tifffile should be enough to import everything\n",
    "import pandas as pd\n",
    "import napari\n",
    "from tifffile.tifffile import imread\n",
    "import geopandas as gp\n",
    "from shapely.geometry import Polygon\n",
    "import distinctipy\n",
    "import seaborn as sns\n",
    "import numpy as np\n",
    "from PIL import Image, ImageDraw, ImageFont\n",
    "from spatialMI_functions import plot_layers_napari, crop_black_margins"
   ]
  },
  {
   "cell_type": "markdown",
   "metadata": {},
   "source": [
    "# Create images from RNA spots using Napari"
   ]
  },
  {
   "cell_type": "markdown",
   "metadata": {},
   "source": [
    "## Full tissue images"
   ]
  },
  {
   "cell_type": "code",
   "execution_count": 6,
   "metadata": {},
   "outputs": [
    {
     "name": "stderr",
     "output_type": "stream",
     "text": [
      "/Users/florian_wuennemann/miniconda3/envs/spatialomics_MI/lib/python3.11/site-packages/PIL/Image.py:3157: DecompressionBombWarning: Image size (99825000 pixels) exceeds limit of 89478485 pixels, could be decompression bomb DOS attack.\n",
      "  warnings.warn(\n",
      "/Users/florian_wuennemann/miniconda3/envs/spatialomics_MI/lib/python3.11/site-packages/PIL/Image.py:3157: DecompressionBombWarning: Image size (99825000 pixels) exceeds limit of 89478485 pixels, could be decompression bomb DOS attack.\n",
      "  warnings.warn(\n",
      "/Users/florian_wuennemann/miniconda3/envs/spatialomics_MI/lib/python3.11/site-packages/PIL/Image.py:3157: DecompressionBombWarning: Image size (99825000 pixels) exceeds limit of 89478485 pixels, could be decompression bomb DOS attack.\n",
      "  warnings.warn(\n",
      "/Users/florian_wuennemann/miniconda3/envs/spatialomics_MI/lib/python3.11/site-packages/PIL/Image.py:3157: DecompressionBombWarning: Image size (99825000 pixels) exceeds limit of 89478485 pixels, could be decompression bomb DOS attack.\n",
      "  warnings.warn(\n"
     ]
    }
   ],
   "source": [
    "genes_of_interest = [\"Nppa\",\"Nppb\", \"Acta2\",\"Lyz2\",\"Col1a1\", \"Pecam1\"]\n",
    "samples = [\"sample_control_r1_s1\",\"sample_4h_r1_s1\",\"sample_2d_r1_s1\",\"sample_4d_r1_s1\"]\n",
    "#samples = [\"sample_control_r1_s1\"]\n",
    "colors = [\"#fc6b09\",\"#0090ad\",\"#cadb2b\",\"#cb2027\",\"#029e88\", \"#e18d9a\"]\n",
    "\n",
    "for sample in samples:\n",
    "    napari_screenshot = '../../output/molkart_figure1_images/'+sample+'.napari_screen.full_image.png'\n",
    "    #crop_screenshot = \"../../output/molkart_figure1_images/\"+sample+\".napari_screen.full_image.cropped.png\"\n",
    "    #napari_layer = '../../output/molkart_figure1_images/'+sample+'.napari_screen.full_layer.tif'\n",
    "    #image = imread('../../../data|/molcart_AB_stains/'+sample+'.DAPI.tiff')\n",
    "    roi = pd.read_csv(\"../../data/molkart_tissue_regions_rois/\"+sample+\".figure_1_roi.csv\")\n",
    "    \n",
    "    points =   pd.read_csv('../../../data/nf_molkart_results/dedup_spots/'+sample+'.spots_markedDups.txt', delimiter='\\t', header=None)\n",
    "    viewer = plot_layers_napari(points_data = points,genes_of_interest = genes_of_interest, image= None, roi = None, mask = None, color_palette= colors,pt_size=40,\n",
    "                                output_path = napari_screenshot, scale_bar = True, font_size = 375, scale = 5, scalebar_length = 500,\n",
    "                                img_type = \"full_image\",roi_plot = roi, box_edge_thickness = 80, \n",
    "                                crop_out_path =  \"../../output/molkart_figure1_images/\", sample = sample)"
   ]
  },
  {
   "cell_type": "code",
   "execution_count": 38,
   "metadata": {},
   "outputs": [
    {
     "data": {
      "text/plain": [
       "array([[12500,  6700],\n",
       "       [12500,  8200],\n",
       "       [14000,  8200],\n",
       "       [14000,  6700]])"
      ]
     },
     "execution_count": 38,
     "metadata": {},
     "output_type": "execute_result"
    }
   ],
   "source": [
    "roi_array = roi.iloc[:, -2:].to_numpy()\n",
    "roi_array"
   ]
  },
  {
   "cell_type": "markdown",
   "metadata": {},
   "source": [
    "sample_control_r1_s1 0.7147718174539631\n",
    "sample_4h_r1_s1 1.1093731761410062\n",
    "sample_2d_r1_s1 0.889396140278066\n",
    "sample_4d_r1_s1 0.7782331275613426"
   ]
  },
  {
   "cell_type": "code",
   "execution_count": 19,
   "metadata": {},
   "outputs": [
    {
     "data": {
      "image/png": "[encoded data removed]",
      "text/plain": [
       "<Figure size 800x800 with 1 Axes>"
      ]
     },
     "metadata": {},
     "output_type": "display_data"
    }
   ],
   "source": [
    "## Let's visualize the colors we used for plotting our RNA spots\n",
    "distinctipy.color_swatch(colors)"
   ]
  },
  {
   "cell_type": "markdown",
   "metadata": {},
   "source": [
    "## ROIs for each sample"
   ]
  },
  {
   "cell_type": "code",
   "execution_count": 9,
   "metadata": {},
   "outputs": [
    {
     "name": "stdout",
     "output_type": "stream",
     "text": [
      "sample_control_r1_s1 1.0\n",
      "sample_4h_r1_s1 1.1079881656804733\n",
      "sample_2d_r1_s1 1.0067159167226327\n",
      "sample_4d_r1_s1 1.0\n"
     ]
    }
   ],
   "source": [
    "genes_of_interest = [\"Nppa\",\"Nppb\", \"Acta2\",\"Lyz2\",\"Col1a1\", \"Pecam1\"]\n",
    "samples = [\"sample_control_r1_s1\",\"sample_4h_r1_s1\",\"sample_2d_r1_s1\",\"sample_4d_r1_s1\"]\n",
    "#samples = [\"sample_4d_r1_s1\"]\n",
    "colors = [\"#fc6b09\",\"#0090ad\",\"#cadb2b\",\"#cb2027\",\"#029e88\", \"#e18d9a\"]\n",
    "\n",
    "for sample in samples:\n",
    "    napari_screenshot = '../../output/molkart_figure1_images/'+sample+'.napari_screen.roi_image.png'\n",
    "    roi = pd.read_csv(\"../../data/molkart_tissue_regions_rois/\"+sample+\".figure_1_roi.csv\")\n",
    "    points =   pd.read_csv('../../../data/nf_molkart_results/dedup_spots/'+sample+'.spots_markedDups.txt', delimiter='\\t', header=None)\n",
    "    viewer = plot_points_napari(points_data = points,genes_of_interest = genes_of_interest, image= None, roi = roi, mask = None, color_palette= colors,pt_size=20,\n",
    "                                output_path = napari_screenshot, scale_bar = True, font_size = 240, scale = 5, scalebar_length = 50,\n",
    "                                img_type = \"roi\", crop_out_path =  \"../../output/molkart_figure1_images/\")"
   ]
  },
  {
   "cell_type": "markdown",
   "metadata": {},
   "source": [
    "# Create images for segmentation masks"
   ]
  },
  {
   "cell_type": "code",
   "execution_count": 7,
   "metadata": {},
   "outputs": [],
   "source": [
    "import pandas as pd\n",
    "import numpy as np\n",
    "import matplotlib.pyplot as plt\n",
    "import seaborn as sns\n",
    "import skimage.io as io\n",
    "\n",
    "\n",
    "samples = [\"sample_control_r1_s1\",\"sample_4h_r1_s1\",\"sample_2d_r1_s1\",\"sample_4d_r1_s1\"]\n",
    "img_dir = \"../../../data/nf_molkart_results/preprocess/\"\n",
    "mask_dir = \"../../../data/nf_molkart_results/retained_masks/\""
   ]
  },
  {
   "cell_type": "code",
   "execution_count": 11,
   "metadata": {},
   "outputs": [
    {
     "name": "stderr",
     "output_type": "stream",
     "text": [
      "Context leak detected, msgtracer returned -1\n",
      "/Users/florian_wuennemann/miniconda3/envs/spatialomics_MI/lib/python3.11/site-packages/PIL/Image.py:3157: DecompressionBombWarning: Image size (97102500 pixels) exceeds limit of 89478485 pixels, could be decompression bomb DOS attack.\n",
      "  warnings.warn(\n",
      "/Users/florian_wuennemann/miniconda3/envs/spatialomics_MI/lib/python3.11/site-packages/PIL/Image.py:3157: DecompressionBombWarning: Image size (97102500 pixels) exceeds limit of 89478485 pixels, could be decompression bomb DOS attack.\n",
      "  warnings.warn(\n"
     ]
    }
   ],
   "source": [
    "sample = \"sample_control_r1_s1\"\n",
    "dapi_wga = io.imread(img_dir + sample +\".stack.clahe.tiff\")\n",
    "roi = pd.read_csv(\"../../data/molkart_tissue_regions_rois/\"+sample+\".segmentation_figure_1_roi.csv\")\n",
    "\n",
    "## Full DAPI + WGA image\n",
    "plot_layers_napari(image = dapi_wga,image_channel_axis = 0, image_channel_colors = [\"cyan\",\"magenta\"], points_data = None,genes_of_interest = None,\n",
    "    roi = None, mask = None,pt_size=40,\n",
    "    output_path = \"../../output/molkart_segmentation_images/sample_control_r1_s1.DAPI_WGA.tif\",\n",
    "    scale_bar = True, font_size = 400, scale = 5, scalebar_length = 500, \n",
    "    img_type = \"DAPI_WGA\",roi_plot = roi, box_edge_thickness = 70,\n",
    "    crop_out_path =  \"../../output/molkart_segmentation_images/\", sample = sample)\n",
    "\n",
    "## Crop of DAPI + WGA image\n",
    "plot_layers_napari(image = dapi_wga,image_channel_axis = 0, image_channel_colors = [\"cyan\",\"magenta\"], points_data = None,genes_of_interest = None,\n",
    "    roi = roi, mask = None,pt_size=40,\n",
    "    output_path = \"../../output/molkart_segmentation_images/sample_control_r1_s1.DAPI_WGA.roi.tif\",\n",
    "    scale_bar = True, font_size = 700, scale = 5, scalebar_length = 50, \n",
    "    img_type = \"DAPI_WGA_roi\",roi_plot = None, box_edge_thickness = 70,\n",
    "    crop_out_path =  \"../../output/molkart_segmentation_images/\", sample = sample)\n"
   ]
  },
  {
   "cell_type": "code",
   "execution_count": 10,
   "metadata": {},
   "outputs": [
    {
     "name": "stderr",
     "output_type": "stream",
     "text": [
      "/Users/florian_wuennemann/miniconda3/envs/spatialomics_MI/lib/python3.11/site-packages/PIL/Image.py:3157: DecompressionBombWarning: Image size (99825000 pixels) exceeds limit of 89478485 pixels, could be decompression bomb DOS attack.\n",
      "  warnings.warn(\n",
      "/Users/florian_wuennemann/miniconda3/envs/spatialomics_MI/lib/python3.11/site-packages/PIL/Image.py:3157: DecompressionBombWarning: Image size (101227500 pixels) exceeds limit of 89478485 pixels, could be decompression bomb DOS attack.\n",
      "  warnings.warn(\n"
     ]
    }
   ],
   "source": [
    "## Full mask\n",
    "sample = \"sample_control_r1_s1\"\n",
    "mask = io.imread(mask_dir + \"sample_control_r1_s1_cellpose.retained_masks.tif\").astype(np.int16)\n",
    "roi = pd.read_csv(\"../../data/molkart_tissue_regions_rois/\"+sample+\".segmentation_figure_1_roi.csv\")\n",
    "\n",
    "plot_layers_napari(image = None,image_channel_axis = 0, image_channel_colors = [\"cyan\",\"magenta\"], points_data = None,genes_of_interest = None,\n",
    "    roi = None, mask = mask,pt_size=40,output_path = \"../../output/molkart_segmentation_images/sample_control_r1_s1.cellpose_full_image.outline.tif\",\n",
    "    scale_bar = False, font_size = 160,\n",
    "    scale = 5, scalebar_length = 500, img_type = \"cellpose_mask\",roi_plot = roi, box_edge_thickness = 70,\n",
    "    crop_out_path =  \"../../output/molkart_segmentation_images/\", sample = sample, outline_mask = False)\n",
    "\n",
    "## Crop of mask\n",
    "plot_layers_napari(image = None,image_channel_axis = 0, image_channel_colors = [\"cyan\",\"magenta\"], points_data = None,genes_of_interest = None,\n",
    "    roi = roi, mask = mask,pt_size=40,\n",
    "    output_path = \"../../output/molkart_segmentation_images/sample_control_r1_s1.cellpose_full_image.roi.outline.tif\",\n",
    "    scale_bar = False, font_size = 400, \n",
    "    scale = 5, scalebar_length = 50, img_type = \"cellpose_mask_roi\",roi_plot = None, box_edge_thickness = 70,\n",
    "    crop_out_path =  \"../../output/molkart_segmentation_images/\", sample = sample, outline_mask = False)\n"
   ]
  },
  {
   "cell_type": "markdown",
   "metadata": {},
   "source": [
    "## Additional code to color mask by annotation"
   ]
  },
  {
   "cell_type": "code",
   "execution_count": null,
   "metadata": {},
   "outputs": [],
   "source": [
    "# Create a napari viewer\n",
    "viewer = napari.Viewer()\n",
    "viewer.add_labels(mask)\n",
    "viewer.screenshot(path = \"../../output/molkart_segmentation_images/mask.tif\", \n",
    "                      scale = 2)"
   ]
  },
  {
   "cell_type": "code",
   "execution_count": 68,
   "metadata": {},
   "outputs": [
    {
     "data": {
      "text/plain": [
       "<Labels layer 'new_mask' at 0x3063d8510>"
      ]
     },
     "execution_count": 68,
     "metadata": {},
     "output_type": "execute_result"
    }
   ],
   "source": [
    "# Load the labeled image mask\n",
    "\n",
    "mask = io.imread(mask_dir + \"sample_control_r1_s1_cellpose.retained_masks.tif\").astype(np.int16)\n",
    "\n",
    "# Get the unique labels in the mask and their corresponding indices\n",
    "unique_labels, label_indices = np.unique(mask, return_inverse=True)\n",
    "\n",
    "# Assign a random label between 1 and 8 to each unique label index\n",
    "new_categories = np.zeros(len(unique_labels), dtype=int)\n",
    "new_categories[1:] = np.random.randint(1, 9, size=len(unique_labels)-1)\n",
    "\n",
    "# Assign Category 0 to Label 0\n",
    "new_categories[unique_labels == 0] = 0\n",
    "\n",
    "# Create a new table with the Label and Category columns\n",
    "category_table = pd.DataFrame({'Label': unique_labels, 'Category': new_categories})\n",
    "\n",
    "# Assign a random label between 1 and 8 to each unique label index\n",
    "new_labels = np.zeros(len(unique_labels), dtype=int)\n",
    "new_labels[1:] = np.random.randint(1, 9, size=len(unique_labels)-1)\n",
    "\n",
    "# Use np.take() to apply the new labels to the mask\n",
    "new_mask = np.take(new_labels, label_indices).reshape(mask.shape)\n",
    "\n",
    "# Create a table with a single entry per category in new_mask, and assign each entry a color from the colorblind palette in the seaborn package\n",
    "categories = np.unique(new_mask)\n",
    "colors = sns.color_palette('colorblind', len(categories))\n",
    "color_table = pd.DataFrame({'Category': categories, 'Color': colors})\n",
    "\n",
    "# Assign each individual label in new_mask the corresponding color value from the color table\n",
    "color_dict = {0: 'black'}\n",
    "for i, label in enumerate(categories[1:]):\n",
    "    color_dict[label] = color_table.loc[color_table['Category'] == label, 'Color'].values[0]\n",
    "\n",
    "# Create a napari viewer\n",
    "viewer = napari.Viewer()\n",
    "\n",
    "# Add the new mask to the viewer\n",
    "viewer.add_labels(new_mask, color = color_dict)\n"
   ]
  },
  {
   "cell_type": "code",
   "execution_count": null,
   "metadata": {},
   "outputs": [],
   "source": [
    "# Create a napari viewer\n",
    "viewer = napari.Viewer()\n",
    "\n",
    "# Add the new mask to the viewer\n",
    "viewer.add_labels(mask, name = \"segmentation\")"
   ]
  },
  {
   "cell_type": "code",
   "execution_count": null,
   "metadata": {},
   "outputs": [],
   "source": [
    "create_colored_mask(mask_path = mask_dir + \"sample_control_r1_s1_cellpose.retained_masks.tif\", category_table = category_table, color_palette = \"deep\") "
   ]
  },
  {
   "cell_type": "code",
   "execution_count": 63,
   "metadata": {},
   "outputs": [],
   "source": [
    "import numpy as np\n",
    "import cv2\n",
    "from skimage.segmentation import find_boundaries\n",
    "\n",
    "def create_grey_mask(mask):\n",
    "    # Erode the mask by 2 pixels to create a 2 pixel black outline around all labels\n",
    "    kernel = np.ones((3, 3), np.uint8)\n",
    "    eroded_mask = cv2.erode(mask, kernel, iterations=2)\n",
    "\n",
    "    # Find the boundaries of each label\n",
    "    boundaries = find_boundaries(eroded_mask, mode='inner')\n",
    "\n",
    "    return boundaries"
   ]
  },
  {
   "cell_type": "code",
   "execution_count": 18,
   "metadata": {},
   "outputs": [
    {
     "data": {
      "text/plain": [
       "<Image layer 'boundaries_mask' at 0x17ed23650>"
      ]
     },
     "execution_count": 18,
     "metadata": {},
     "output_type": "execute_result"
    }
   ],
   "source": [
    "import numpy as np\n",
    "from skimage.segmentation import find_boundaries\n",
    "import napari\n",
    "\n",
    "def create_boundaries(mask):\n",
    "    # Find the boundaries of each label\n",
    "    boundaries = find_boundaries(mask, mode='thick')\n",
    "\n",
    "    return boundaries\n",
    "\n",
    "def create_grey_mask(mask):\n",
    "    # Create a new mask with all labels colored grey\n",
    "    grey_mask = np.zeros_like(mask)\n",
    "    grey_mask[mask > 0] = 128\n",
    "\n",
    "    return grey_mask\n",
    "\n",
    "boundaries_mask = create_boundaries(mask)\n",
    "# Add the new mask to the viewer\n",
    "# Create a napari viewer\n",
    "viewer = napari.Viewer()\n",
    "viewer.add_image(boundaries_mask,colormap='gray', contrast_limits=[0, 1])"
   ]
  }
 ],
 "metadata": {
  "kernelspec": {
   "display_name": "spatialomics_MI",
   "language": "python",
   "name": "python3"
  },
  "language_info": {
   "codemirror_mode": {
    "name": "ipython",
    "version": 3
   },
   "file_extension": ".py",
   "mimetype": "text/x-python",
   "name": "python",
   "nbconvert_exporter": "python",
   "pygments_lexer": "ipython3",
   "version": "3.11.4"
  },
  "orig_nbformat": 4
 },
 "nbformat": 4,
 "nbformat_minor": 2
}
