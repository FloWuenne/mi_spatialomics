{
 "cells": [
  {
   "cell_type": "markdown",
   "metadata": {},
   "source": [
    "# Use Napari to plot tissue images for Figure 1 (DAPI + WGA, segmentation masks, spots)\n",
    "\n",
    "We will use napari with manually annotated ROIs to generate plots for zoom-ins of DAPI+WGA stacks, segmentation masks as well as spots."
   ]
  },
  {
   "cell_type": "code",
   "execution_count": 126,
   "metadata": {},
   "outputs": [
    {
     "data": {
      "image/png": "[encoded data removed]",
      "text/plain": [
       "<Figure size 10000x100 with 1 Axes>"
      ]
     },
     "metadata": {},
     "output_type": "display_data"
    }
   ],
   "source": [
    "# just installing napari, geopandas and tifffile should be enough to import everything\n",
    "import pandas as pd\n",
    "import napari\n",
    "import skimage.io\n",
    "import geopandas as gp\n",
    "from shapely.geometry import Polygon\n",
    "import distinctipy\n",
    "import seaborn as sns\n",
    "import numpy as np\n",
    "from PIL import Image, ImageDraw, ImageFont\n",
    "import sys\n",
    "from skimage.segmentation import find_boundaries\n",
    "sys.path.append(\"../\")\n",
    "from spatialMI_functions import plot_layers_napari, crop_black_margins, add_scalebar, crop_coords\n",
    "\n",
    "# Get a list of distinct colors\n",
    "colors = distinctipy.get_colors(100)\n",
    "sns.palplot(colors)"
   ]
  },
  {
   "cell_type": "markdown",
   "metadata": {},
   "source": [
    "## Generate full sized image of DAPI + WGA with ROI region highlighted"
   ]
  },
  {
   "cell_type": "code",
   "execution_count": null,
   "metadata": {},
   "outputs": [],
   "source": [
    "sample = \"sample_2d_r1_s1\"\n",
    "colors = [\"#fc6b09\",\"#0090ad\",\"#cadb2b\",\"#cb2027\",\"#029e88\", \"#e18d9a\"]\n",
    "\n",
    "# napari_screenshot = '../../output/molkart/molkart_figure1_images/'+sample+'.napari_screen.full_image.png'\n",
    "# roi = pd.read_csv(\"../../data/molkart_tissue_regions_rois/\"+sample+\".figure_1_roi.csv\")\n",
    "\n",
    "## image\n",
    "img_dir = \"../../../results/nf-core_molkart/stack/\"\n",
    "img_stack=  skimage.io.imread(img_dir+sample+\"_stack.ome.tif\")\n",
    "xmax, ymax = img_stack[[0]].shape[2], img_stack[[1]].shape[1]\n",
    "\n",
    "## segmentation mask\n",
    "img_dir = \"../../../results/nf-core_molkart/filtered_masks/\"\n",
    "mask = skimage.io.imread(img_dir+sample+\"_cellpose_filtered.tif\")\n",
    "\n",
    "## Spots\n",
    "spots = pd.read_csv('../../../results/nf-core_molkart/mindagap/'+sample+\"_\"+sample+'.spots_markedDups.txt', delimiter='\\t', header=None)\n",
    "# Please name the columns of spots X,Y,Z and gene\n",
    "spots.columns = ['x', 'y', 'z', 'gene_target']\n",
    "# Filter out gene with the name Duplicated\n",
    "spots = spots[spots.gene != \"Duplicated\"]\n",
    "\n",
    "## ROI for zoom in\n",
    "roi = pd.read_csv(\"../../annotations/molkart/Figure1_regions/\"+sample+\".zoom_in.csv\")\n",
    "\n",
    "## Output\n",
    "outdir = \"../../output/molkart/figure1_images/\""
   ]
  },
  {
   "cell_type": "code",
   "execution_count": 89,
   "metadata": {},
   "outputs": [
    {
     "name": "stderr",
     "output_type": "stream",
     "text": [
      "/Users/florian_wuennemann/miniconda3/envs/spatialomics_MI/lib/python3.11/site-packages/napari/_vispy/layers/image.py:274: UserWarning: data shape (19296, 17152) exceeds GL_MAX_TEXTURE_SIZE 16384 in at least one axis and will be downsampled. Rendering is currently in 2D mode.\n",
      "  warnings.warn(\n",
      "/Users/florian_wuennemann/miniconda3/envs/spatialomics_MI/lib/python3.11/site-packages/napari/_vispy/layers/image.py:274: UserWarning: data shape (19296, 17152) exceeds GL_MAX_TEXTURE_SIZE 16384 in at least one axis and will be downsampled. Rendering is currently in 2D mode.\n",
      "  warnings.warn(\n",
      "/Users/florian_wuennemann/miniconda3/envs/spatialomics_MI/lib/python3.11/site-packages/napari/_vispy/layers/image.py:274: UserWarning: data shape (19296, 17152) exceeds GL_MAX_TEXTURE_SIZE 16384 in at least one axis and will be downsampled. Rendering is currently in 2D mode.\n",
      "  warnings.warn(\n",
      "/Users/florian_wuennemann/miniconda3/envs/spatialomics_MI/lib/python3.11/site-packages/napari/_vispy/layers/image.py:274: UserWarning: data shape (19296, 17152) exceeds GL_MAX_TEXTURE_SIZE 16384 in at least one axis and will be downsampled. Rendering is currently in 2D mode.\n",
      "  warnings.warn(\n"
     ]
    }
   ],
   "source": [
    "## Generate \n",
    "viewer = napari.view_image(img_stack, channel_axis = 0,\n",
    "                           name=[\"nuclei\", \"membrane\"],\n",
    "                           colormap=[\"cyan\", \"magenta\"],\n",
    "                           contrast_limits=[[1000, 65535], [1000, 65535]],)\n",
    "\n",
    "# viewer.add_labels(mask)\n",
    "\n",
    "roi_array = [roi.iloc[:, -2:].to_numpy()]\n",
    "viewer.add_shapes(roi_array, shape_type=['polygon'],\n",
    "                  edge_color='white', edge_width=40, face_color=\"transparent\", opacity=1)\n",
    "full_screenshot = outdir+sample+\".dapi_wga.full_image.wborder.png\"\n",
    "viewer.screenshot(path=full_screenshot, scale=3)\n",
    "\n",
    "crop_screenshot = outdir+sample+\".dapi_wga.full_image.clean.png\"\n",
    "crop_black_margins(full_screenshot, crop_screenshot)\n",
    "\n",
    "# crop_scalebar = outdir+sample+\".dapi_wga.full_image.clean.png\"\n",
    "# add_scalebar(crop_screenshot, ymax,\n",
    "#              scalebar_length_um=10,\n",
    "#              corner=\"bottom right\", image_with_scalebar_path=crop_scalebar, font_size=200)"
   ]
  },
  {
   "cell_type": "markdown",
   "metadata": {},
   "source": [
    "## Plot full spots image"
   ]
  },
  {
   "cell_type": "code",
   "execution_count": 127,
   "metadata": {},
   "outputs": [],
   "source": [
    "points_data = spots\n",
    "gdf = gp.GeoDataFrame(\n",
    "    points_data, geometry=gp.points_from_xy(\n",
    "        points_data.x, points_data.y)\n",
    "        )\n",
    "# Loading the polygon in x and y since that is how you gave the data, but napari saves in y, x order unless you rearranged dim order\n",
    "polygon = Polygon(roi.iloc[:, :-3:-1].to_numpy())\n",
    "poly_gpd = gp.GeoDataFrame(index=[0], geometry=[polygon])\n",
    "\n",
    "# Basically fastest way to get all points within a polygon.\n",
    "subset_points = gp.sjoin(gdf, poly_gpd, predicate='within')\n",
    "points_view = gdf\n",
    "xmax, ymax = points_view[\"x\"].max(), points_view[\"y\"].max()\n",
    "\n",
    "points_view = points_view.sort_values(by='gene_target')\n",
    "points_view['cell_id'] = points_view.index\n",
    "\n",
    "# We use the gene target code, which is an integer as for the color cycle it is not accepted to have a string. However, with text we can still see the gene target\n",
    "## create a dictionary with gene_target as key and integers from 0 to X as values\n",
    "gene_target_dict = {k: v for v, k in enumerate(points_view['gene_target'].unique())}\n",
    "points_props = {'cell_id': points_view['cell_id'].to_numpy(),\n",
    "                # Fill the gene_target column with values for each gene stored in the dictionary\n",
    "                'gene_target': points_view['gene_target'].map(gene_target_dict).to_numpy()\n",
    "}\n",
    "\n",
    "viewer = napari.Viewer()\n",
    "viewer.add_points(points_view[['y', 'x']].to_numpy(),\n",
    "                  properties=points_props,\n",
    "                  face_color='gene_target',\n",
    "                  face_color_cycle=colors,\n",
    "                  size=20,\n",
    "                  edge_width_is_relative=False)\n",
    "\n",
    "roi_array = [roi.iloc[:, -2:].to_numpy()]\n",
    "viewer.add_shapes(roi_array, shape_type=['polygon'],\n",
    "                  edge_color='white', edge_width=40, face_color=\"transparent\", opacity=1)\n",
    "\n",
    "full_screenshot = outdir+sample+\".spots.full.wborder.png\"\n",
    "viewer.screenshot(path=full_screenshot, scale=3)\n",
    "\n",
    "crop_screenshot = outdir+sample+\".spots.full.clean.png\"\n",
    "crop_black_margins(full_screenshot, crop_screenshot)"
   ]
  },
  {
   "cell_type": "markdown",
   "metadata": {},
   "source": [
    "## Plot zoom in of DAPI + WGA"
   ]
  },
  {
   "cell_type": "code",
   "execution_count": 30,
   "metadata": {},
   "outputs": [
    {
     "data": {
      "text/plain": [
       "array([[[ 9947, 10486,  8572, ..., 17240, 16395, 16725],\n",
       "        [10132, 10068,  9392, ..., 15671, 18423, 15695],\n",
       "        [10317,  9650, 11399, ..., 16444, 16182, 16508],\n",
       "        ...,\n",
       "        [  265,   897,   265, ..., 31025, 36251, 39022],\n",
       "        [  265,   265,   265, ..., 28970, 35305, 38403],\n",
       "        [  265,   265,   265, ..., 27606, 32405, 36572]],\n",
       "\n",
       "       [[12116, 14300, 13536, ..., 14469, 13162, 16066],\n",
       "        [11083, 11915, 13367, ..., 13584, 13540, 15390],\n",
       "        [10427, 10870, 11179, ..., 12104, 13331, 14509],\n",
       "        ...,\n",
       "        [ 2284,  2284,  2284, ..., 32884, 31448, 29361],\n",
       "        [ 2284,  1652,  2284, ..., 33825, 31166, 30933],\n",
       "        [ 2284,  2284,  2284, ..., 30527, 29047, 31890]]], dtype=uint16)"
      ]
     },
     "execution_count": 30,
     "metadata": {},
     "output_type": "execute_result"
    }
   ],
   "source": [
    "bbox = roi.iloc[:, -2:].to_numpy()\n",
    "# Using coordinates from bbox to crop the image\n",
    "crop = img_stack[:, int(bbox[0, 0]):int(bbox[2, 0]), int(bbox[0, 1]): int(bbox[2, 1])]\n",
    "crop\n",
    "# xmax, ymax = image_view[[0]].shape[2], image_view[[0]].shape[1]"
   ]
  },
  {
   "cell_type": "code",
   "execution_count": 35,
   "metadata": {},
   "outputs": [
    {
     "data": {
      "text/plain": [
       "'../../output/molkart/figure1_images/sample_2d_r1_s1.dapi_wga.zoom.clean.png'"
      ]
     },
     "execution_count": 35,
     "metadata": {},
     "output_type": "execute_result"
    }
   ],
   "source": [
    "## Generate \n",
    "## Crop img_stack to roi, be aware that img_stack is a 2 channel image, so both channels need to be cropped to the same size\n",
    "viewer = napari.view_image(crop, channel_axis = 0,\n",
    "                           name=[\"nuclei\", \"membrane\"],\n",
    "                           colormap=[\"cyan\", \"magenta\"],\n",
    "                           contrast_limits=[[1000, 65535], [1000, 65535]],)\n",
    "\n",
    "roi_array = [roi.iloc[:, -2:].to_numpy()]\n",
    "viewer.add_shapes(roi_array, shape_type=['polygon'],\n",
    "                  edge_color='white', edge_width=40, face_color=\"transparent\", opacity=1)\n",
    "full_screenshot = outdir+sample+\".dapi_wga.zoom.wborder.png\"\n",
    "viewer.screenshot(path=full_screenshot, scale=3)\n",
    "\n",
    "crop_screenshot = outdir+sample+\".dapi_wga.zoom.cropped.png\"\n",
    "crop_black_margins(full_screenshot, crop_screenshot)\n",
    "\n",
    "crop_scalebar = outdir+sample+\".dapi_wga.zoom.clean.png\"\n",
    "add_scalebar(crop_screenshot, ymax,\n",
    "             scalebar_length_um=10,\n",
    "             corner=\"bottom right\", image_with_scalebar_path=crop_scalebar, font_size=150)"
   ]
  },
  {
   "cell_type": "markdown",
   "metadata": {},
   "source": [
    "## Plot Mask on top of zoom in"
   ]
  },
  {
   "cell_type": "code",
   "execution_count": 90,
   "metadata": {},
   "outputs": [],
   "source": [
    "mask_crop = mask[int(bbox[0, 0]):int(bbox[2, 0]), int(bbox[0, 1]): int(bbox[2, 1])]\n",
    "viewer = napari.view_image(crop, channel_axis = 0,\n",
    "                           name=[\"nuclei\", \"membrane\"],\n",
    "                           colormap=[\"cyan\", \"magenta\"],\n",
    "                           contrast_limits=[[1000, 65535], [1000, 65535]],)\n",
    "boundaries = find_boundaries(mask_crop, mode='thick')\n",
    "viewer.add_labels(boundaries, visible=True, opacity = 1,color={0:'transparent', 1:(1,1,1)})\n",
    "\n",
    "full_screenshot = outdir+sample+\".dapi_wga.zoom.wborder.png\"\n",
    "viewer.screenshot(path=full_screenshot, scale=3)\n",
    "\n",
    "crop_screenshot = outdir+sample+\".dapi_wga.zoom.clean.png\"\n",
    "crop_black_margins(full_screenshot, crop_screenshot)\n",
    "\n",
    "# crop_scalebar = outdir+sample+\".dapi_wga.zoom.clean.png\"\n",
    "# add_scalebar(crop_screenshot, ymax,\n",
    "#              scalebar_length_um=20,\n",
    "#              corner=\"bottom right\", image_with_scalebar_path=crop_scalebar, font_size=200)"
   ]
  },
  {
   "cell_type": "markdown",
   "metadata": {},
   "source": [
    "## Plot only mask"
   ]
  },
  {
   "cell_type": "code",
   "execution_count": 129,
   "metadata": {},
   "outputs": [
    {
     "name": "stderr",
     "output_type": "stream",
     "text": [
      "Context leak detected, msgtracer returned -1\n"
     ]
    }
   ],
   "source": [
    "viewer = napari.Viewer()\n",
    "viewer.add_labels(mask_crop)\n",
    "\n",
    "full_screenshot = outdir+sample+\".mask.zoom.wborder.png\"\n",
    "viewer.screenshot(path=full_screenshot, scale=3)\n",
    "\n",
    "crop_screenshot = outdir+sample+\".mask.zoom.clean.png\"\n",
    "crop_black_margins(full_screenshot, crop_screenshot)"
   ]
  },
  {
   "cell_type": "markdown",
   "metadata": {},
   "source": [
    "## Plot spots in zoom-in"
   ]
  },
  {
   "cell_type": "code",
   "execution_count": 104,
   "metadata": {},
   "outputs": [],
   "source": [
    "points_data = spots\n",
    "gdf = gp.GeoDataFrame(\n",
    "    points_data, geometry=gp.points_from_xy(\n",
    "        points_data.x, points_data.y)\n",
    "        )\n",
    "# Loading the polygon in x and y since that is how you gave the data, but napari saves in y, x order unless you rearranged dim order\n",
    "polygon = Polygon(roi.iloc[:, :-3:-1].to_numpy())\n",
    "poly_gpd = gp.GeoDataFrame(index=[0], geometry=[polygon])\n",
    "\n",
    "# Basically fastest way to get all points within a polygon.\n",
    "subset_points = gp.sjoin(gdf, poly_gpd, predicate='within')\n",
    "points_view = crop_coords(roi, subset_points)\n",
    "xmax, ymax = points_view[\"x\"].max(), points_view[\"y\"].max()\n",
    "\n",
    "points_view = points_view.sort_values(by='gene_target')\n",
    "points_view['cell_id'] = points_view.index\n",
    "\n",
    "# We use the gene target code, which is an integer as for the color cycle it is not accepted to have a string. However, with text we can still see the gene target\n",
    "## create a dictionary with gene_target as key and integers from 0 to X as values\n",
    "gene_target_dict = {k: v for v, k in enumerate(points_view['gene_target'].unique())}\n",
    "points_props = {'cell_id': points_view['cell_id'].to_numpy(),\n",
    "                # Fill the gene_target column with values for each gene stored in the dictionary\n",
    "                'gene_target': points_view['gene_target'].map(gene_target_dict).to_numpy()\n",
    "}\n",
    "\n",
    "viewer = napari.Viewer()\n",
    "boundaries = find_boundaries(mask_crop, mode='thick')\n",
    "viewer.add_labels(boundaries, visible=True, opacity = 1,color={0:'transparent', 1:(1,1,1)})\n",
    "viewer.add_points(points_view[['y', 'x']].to_numpy(),\n",
    "                  properties=points_props,\n",
    "                  face_color='gene_target',\n",
    "                  face_color_cycle=colors,\n",
    "                  size=3,\n",
    "                  edge_width_is_relative=False)\n",
    "\n",
    "full_screenshot = outdir+sample+\".spots.zoom.wborder.png\"\n",
    "viewer.screenshot(path=full_screenshot, scale=3)\n",
    "\n",
    "crop_screenshot = outdir+sample+\".spots.zoom.clean.png\"\n",
    "crop_black_margins(full_screenshot, crop_screenshot)"
   ]
  },
  {
   "cell_type": "code",
   "execution_count": 81,
   "metadata": {},
   "outputs": [
    {
     "data": {
      "text/plain": [
       "{'cell_id': array([128041, 128171, 128170, ..., 165060, 164913, 164491]),\n",
       " 'gene_target': array(['Acta2', 'Acta2', 'Acta2', ..., 'Vim', 'Vim', 'Vim'], dtype=object)}"
      ]
     },
     "execution_count": 81,
     "metadata": {},
     "output_type": "execute_result"
    }
   ],
   "source": [
    "points_props"
   ]
  },
  {
   "cell_type": "code",
   "execution_count": null,
   "metadata": {},
   "outputs": [],
   "source": []
  }
 ],
 "metadata": {
  "kernelspec": {
   "display_name": "spatialomics_MI",
   "language": "python",
   "name": "python3"
  },
  "language_info": {
   "codemirror_mode": {
    "name": "ipython",
    "version": 3
   },
   "file_extension": ".py",
   "mimetype": "text/x-python",
   "name": "python",
   "nbconvert_exporter": "python",
   "pygments_lexer": "ipython3",
   "version": "3.11.4"
  }
 },
 "nbformat": 4,
 "nbformat_minor": 2
}
