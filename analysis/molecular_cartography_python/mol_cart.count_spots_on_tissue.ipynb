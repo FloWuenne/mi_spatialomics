{
 "cells": [
  {
   "attachments": {},
   "cell_type": "markdown",
   "metadata": {},
   "source": [
    "\n",
    "# Quantify RNA spots that fall within tissue regions\n",
    "\n",
    "This notebook will count the number of spots that fall within tissue based on manual annotations made in QuPath. This also excludes large artefacts or other regions in on the tissue that should not be counted as actual tissue."
   ]
  },
  {
   "cell_type": "code",
   "execution_count": 1,
   "metadata": {},
   "outputs": [],
   "source": [
    "import geopandas as gpd\n",
    "from shapely.geometry import Point\n",
    "import pandas as pd\n",
    "import os"
   ]
  },
  {
   "cell_type": "code",
   "execution_count": 3,
   "metadata": {},
   "outputs": [],
   "source": [
    "import json\n",
    "from shapely.geometry import shape, Point\n",
    "\n",
    "def count_points_in_shape(gdf_geojson, points_df):\n",
    "    # Turn points into a list of tuples\n",
    "    points = [tuple(x) for x in points_df.to_numpy()]\n",
    "\n",
    "    gdf_points = gpd.GeoDataFrame(geometry=[Point(x, y) for x, y in points])\n",
    "\n",
    "    # Set the same CRS for both GeoDataFrames if they're not the same\n",
    "    gdf_points.crs = gdf_geojson.crs\n",
    "\n",
    "    # Perform spatial join\n",
    "    gdf_joined = gpd.sjoin(gdf_points, gdf_geojson, op='within')\n",
    "\n",
    "    ## Write measurements to dataframe\n",
    "    total_area = gdf_geojson.geometry.area.sum() * 0.138 * 0.138\n",
    "    number_of_spots = gdf_joined.shape[0]\n",
    "\n",
    "    return [total_area, number_of_spots]"
   ]
  },
  {
   "cell_type": "code",
   "execution_count": 4,
   "metadata": {},
   "outputs": [
    {
     "name": "stdout",
     "output_type": "stream",
     "text": [
      "heart.sample_2d_r1_s1.geojson\n"
     ]
    },
    {
     "name": "stderr",
     "output_type": "stream",
     "text": [
      "/Users/florian_wuennemann/miniconda3/envs/spatialomics_MI/lib/python3.11/site-packages/IPython/core/interactiveshell.py:3448: FutureWarning: The `op` parameter is deprecated and will be removed in a future release. Please use the `predicate` parameter instead.\n",
      "  if await self.run_code(code, result, async_=asy):\n",
      "/var/folders/ph/m6mhj3s541799cykzbp3dx0m0000gn/T/ipykernel_16373/2441794372.py:33: UserWarning: Geometry is in a geographic CRS. Results from 'area' are likely incorrect. Use 'GeoSeries.to_crs()' to re-project geometries to a projected CRS before this operation.\n",
      "\n",
      "  total_area = gdf_geojson.geometry.area.sum() * 0.138 * 0.138\n"
     ]
    },
    {
     "name": "stdout",
     "output_type": "stream",
     "text": [
      "heart.sample_4h_r2_s2.geojson\n"
     ]
    },
    {
     "name": "stderr",
     "output_type": "stream",
     "text": [
      "/Users/florian_wuennemann/miniconda3/envs/spatialomics_MI/lib/python3.11/site-packages/IPython/core/interactiveshell.py:3448: FutureWarning: The `op` parameter is deprecated and will be removed in a future release. Please use the `predicate` parameter instead.\n",
      "  if await self.run_code(code, result, async_=asy):\n",
      "/var/folders/ph/m6mhj3s541799cykzbp3dx0m0000gn/T/ipykernel_16373/2441794372.py:33: UserWarning: Geometry is in a geographic CRS. Results from 'area' are likely incorrect. Use 'GeoSeries.to_crs()' to re-project geometries to a projected CRS before this operation.\n",
      "\n",
      "  total_area = gdf_geojson.geometry.area.sum() * 0.138 * 0.138\n"
     ]
    },
    {
     "name": "stdout",
     "output_type": "stream",
     "text": [
      "heart.sample_control_r1_s1.geojson\n"
     ]
    },
    {
     "name": "stderr",
     "output_type": "stream",
     "text": [
      "/Users/florian_wuennemann/miniconda3/envs/spatialomics_MI/lib/python3.11/site-packages/IPython/core/interactiveshell.py:3448: FutureWarning: The `op` parameter is deprecated and will be removed in a future release. Please use the `predicate` parameter instead.\n",
      "  if await self.run_code(code, result, async_=asy):\n",
      "/var/folders/ph/m6mhj3s541799cykzbp3dx0m0000gn/T/ipykernel_16373/2441794372.py:33: UserWarning: Geometry is in a geographic CRS. Results from 'area' are likely incorrect. Use 'GeoSeries.to_crs()' to re-project geometries to a projected CRS before this operation.\n",
      "\n",
      "  total_area = gdf_geojson.geometry.area.sum() * 0.138 * 0.138\n"
     ]
    },
    {
     "name": "stdout",
     "output_type": "stream",
     "text": [
      "heart.sample_4d_r1_s2.geojson\n"
     ]
    },
    {
     "name": "stderr",
     "output_type": "stream",
     "text": [
      "/Users/florian_wuennemann/miniconda3/envs/spatialomics_MI/lib/python3.11/site-packages/IPython/core/interactiveshell.py:3448: FutureWarning: The `op` parameter is deprecated and will be removed in a future release. Please use the `predicate` parameter instead.\n",
      "  if await self.run_code(code, result, async_=asy):\n",
      "/var/folders/ph/m6mhj3s541799cykzbp3dx0m0000gn/T/ipykernel_16373/2441794372.py:33: UserWarning: Geometry is in a geographic CRS. Results from 'area' are likely incorrect. Use 'GeoSeries.to_crs()' to re-project geometries to a projected CRS before this operation.\n",
      "\n",
      "  total_area = gdf_geojson.geometry.area.sum() * 0.138 * 0.138\n"
     ]
    },
    {
     "name": "stdout",
     "output_type": "stream",
     "text": [
      "heart.sample_4h_r1_s1.geojson\n"
     ]
    },
    {
     "name": "stderr",
     "output_type": "stream",
     "text": [
      "/Users/florian_wuennemann/miniconda3/envs/spatialomics_MI/lib/python3.11/site-packages/IPython/core/interactiveshell.py:3448: FutureWarning: The `op` parameter is deprecated and will be removed in a future release. Please use the `predicate` parameter instead.\n",
      "  if await self.run_code(code, result, async_=asy):\n",
      "/var/folders/ph/m6mhj3s541799cykzbp3dx0m0000gn/T/ipykernel_16373/2441794372.py:33: UserWarning: Geometry is in a geographic CRS. Results from 'area' are likely incorrect. Use 'GeoSeries.to_crs()' to re-project geometries to a projected CRS before this operation.\n",
      "\n",
      "  total_area = gdf_geojson.geometry.area.sum() * 0.138 * 0.138\n"
     ]
    },
    {
     "name": "stdout",
     "output_type": "stream",
     "text": [
      "heart.sample_control_r2_s1.geojson\n"
     ]
    },
    {
     "name": "stderr",
     "output_type": "stream",
     "text": [
      "/Users/florian_wuennemann/miniconda3/envs/spatialomics_MI/lib/python3.11/site-packages/IPython/core/interactiveshell.py:3448: FutureWarning: The `op` parameter is deprecated and will be removed in a future release. Please use the `predicate` parameter instead.\n",
      "  if await self.run_code(code, result, async_=asy):\n",
      "/var/folders/ph/m6mhj3s541799cykzbp3dx0m0000gn/T/ipykernel_16373/2441794372.py:33: UserWarning: Geometry is in a geographic CRS. Results from 'area' are likely incorrect. Use 'GeoSeries.to_crs()' to re-project geometries to a projected CRS before this operation.\n",
      "\n",
      "  total_area = gdf_geojson.geometry.area.sum() * 0.138 * 0.138\n"
     ]
    },
    {
     "name": "stdout",
     "output_type": "stream",
     "text": [
      "heart.sample_4d_r2_s1.geojson\n"
     ]
    },
    {
     "name": "stderr",
     "output_type": "stream",
     "text": [
      "/Users/florian_wuennemann/miniconda3/envs/spatialomics_MI/lib/python3.11/site-packages/IPython/core/interactiveshell.py:3448: FutureWarning: The `op` parameter is deprecated and will be removed in a future release. Please use the `predicate` parameter instead.\n",
      "  if await self.run_code(code, result, async_=asy):\n",
      "/var/folders/ph/m6mhj3s541799cykzbp3dx0m0000gn/T/ipykernel_16373/2441794372.py:33: UserWarning: Geometry is in a geographic CRS. Results from 'area' are likely incorrect. Use 'GeoSeries.to_crs()' to re-project geometries to a projected CRS before this operation.\n",
      "\n",
      "  total_area = gdf_geojson.geometry.area.sum() * 0.138 * 0.138\n"
     ]
    },
    {
     "name": "stdout",
     "output_type": "stream",
     "text": [
      "heart.sample_2d_r2_s1.geojson\n"
     ]
    },
    {
     "name": "stderr",
     "output_type": "stream",
     "text": [
      "/Users/florian_wuennemann/miniconda3/envs/spatialomics_MI/lib/python3.11/site-packages/IPython/core/interactiveshell.py:3448: FutureWarning: The `op` parameter is deprecated and will be removed in a future release. Please use the `predicate` parameter instead.\n",
      "  if await self.run_code(code, result, async_=asy):\n",
      "/var/folders/ph/m6mhj3s541799cykzbp3dx0m0000gn/T/ipykernel_16373/2441794372.py:33: UserWarning: Geometry is in a geographic CRS. Results from 'area' are likely incorrect. Use 'GeoSeries.to_crs()' to re-project geometries to a projected CRS before this operation.\n",
      "\n",
      "  total_area = gdf_geojson.geometry.area.sum() * 0.138 * 0.138\n"
     ]
    }
   ],
   "source": [
    "## Create an empty dataframe to capture tissue area and spot count\n",
    "df = pd.DataFrame(columns=['tissue_area', 'spot_count'])\n",
    "\n",
    "## Iterate over each geojson file\n",
    "geojson_dir = \"../../references/mol_cart.heart_regions\"\n",
    "spot_dir = \"../../../data/nf_molkart_results/dedup_spots\"\n",
    "# Iterate over each file in geojson_dir\n",
    "for file in os.listdir(geojson_dir):\n",
    "    print(file)\n",
    "    sample_id = file.split(\".\")[1]\n",
    "\n",
    "    # Load your GeoJSON data\n",
    "    gdf_geojson = gpd.read_file(f'{geojson_dir}/{file}')\n",
    "\n",
    "    # # Assuming you have a csv file with 'x' and 'y' columns for the pixel coordinates\n",
    "    points_df = pd.read_table(f'{spot_dir}/{sample_id}.spots_markedDups.txt',\n",
    "                        sep='\\t', names=['x', 'y','z','gene'])\n",
    "    # Subset pixels for x and y coordinates\n",
    "    points_df = points_df[['x', 'y']]\n",
    "    \n",
    "    # Turn points into a list of tuples\n",
    "    points = [tuple(x) for x in points_df.to_numpy()]\n",
    "\n",
    "    gdf_points = gpd.GeoDataFrame(geometry=[Point(x, y) for x, y in points])\n",
    "\n",
    "    # Set the same CRS for both GeoDataFrames if they're not the same\n",
    "    gdf_points.crs = gdf_geojson.crs\n",
    "\n",
    "    # Perform spatial join\n",
    "    gdf_joined = gpd.sjoin(gdf_points, gdf_geojson, op='within')\n",
    "\n",
    "    ## Write measurements to dataframe\n",
    "    total_area = gdf_geojson.geometry.area.sum() * 0.138 * 0.138\n",
    "    number_of_spots = gdf_joined.shape[0]\n",
    "\n",
    "    # Store total_area and number_of_spots in a dictionary with sample_id as key\n",
    "    df.loc[sample_id] = [total_area, number_of_spots]"
   ]
  },
  {
   "cell_type": "code",
   "execution_count": 5,
   "metadata": {},
   "outputs": [],
   "source": [
    "# Turn rownames from df into a column named sample and remove rownames\n",
    "df['sample'] = df.index\n",
    "df.index.name = None\n",
    "\n",
    "df['spots_per_um2'] = df['spot_count'] / df['tissue_area']\n",
    "df\n",
    "## Write dataframe to csv without rownames and with tab as separator\n",
    "df.to_csv(\"../../output/mol_cart/molkart.spots_per_tissue.tsv\", sep='\\t', index=False) \n"
   ]
  }
 ],
 "metadata": {
  "kernelspec": {
   "display_name": "geopandas",
   "language": "python",
   "name": "python3"
  },
  "language_info": {
   "codemirror_mode": {
    "name": "ipython",
    "version": 3
   },
   "file_extension": ".py",
   "mimetype": "text/x-python",
   "name": "python",
   "nbconvert_exporter": "python",
   "pygments_lexer": "ipython3",
   "version": "3.11.4"
  },
  "orig_nbformat": 4
 },
 "nbformat": 4,
 "nbformat_minor": 2
}
