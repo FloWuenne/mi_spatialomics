{
 "cells": [
  {
   "cell_type": "code",
   "execution_count": 20,
   "metadata": {},
   "outputs": [
    {
     "data": {
      "image/png": "[encoded data removed]",
      "text/plain": [
       "<Figure size 10000x100 with 1 Axes>"
      ]
     },
     "metadata": {},
     "output_type": "display_data"
    }
   ],
   "source": [
    "# just installing napari, geopandas and tifffile should be enough to import everything\n",
    "import pandas as pd\n",
    "import napari\n",
    "import skimage.io\n",
    "import geopandas as gp\n",
    "from shapely.geometry import Polygon\n",
    "import distinctipy\n",
    "import seaborn as sns\n",
    "import numpy as np\n",
    "from PIL import Image, ImageDraw, ImageFont\n",
    "import sys\n",
    "from skimage.segmentation import find_boundaries\n",
    "sys.path.append(\"../\")\n",
    "from spatialMI_functions import plot_layers_napari, crop_black_margins, add_scalebar, crop_coords\n",
    "\n",
    "# Get a list of distinct colors\n",
    "colors = distinctipy.get_colors(100)\n",
    "sns.palplot(colors)"
   ]
  },
  {
   "cell_type": "code",
   "execution_count": 21,
   "metadata": {},
   "outputs": [],
   "source": [
    "sample = \"sample_control_r1_s1\"\n",
    "colors = [\"#fc6b09\",\"#0090ad\",\"#cadb2b\",\"#cb2027\",\"#029e88\", \"#e18d9a\"]\n",
    "\n",
    "# napari_screenshot = '../../output/molkart/molkart_figure1_images/'+sample+'.napari_screen.full_image.png'\n",
    "# roi = pd.read_csv(\"../../data/molkart_tissue_regions_rois/\"+sample+\".figure_1_roi.csv\")\n",
    "\n",
    "## image\n",
    "img_dir = \"../../../results/nf-core_molkart/stack/\"\n",
    "img_stack=  skimage.io.imread(img_dir+sample+\"_stack.ome.tif\")\n",
    "xmax, ymax = img_stack[[0]].shape[2], img_stack[[1]].shape[1]\n",
    "\n",
    "\n",
    "## ROI for zoom in\n",
    "# Read in roi as geojson file\n",
    "roi = gp.read_file(\"../../annotations/molkart/Supplementary_Figure4_regions/geojson/sample_control_r1_s1.region.geojson\")\n",
    "# Convert to shapely polygon\n",
    "roi = Polygon(roi.geometry[0])\n",
    "# Get coordinates of polygon\n",
    "roi = np.array(roi.exterior.coords.xy)\n",
    "# Convert the roi into an array of shape 4,2 (4 corners, 2 coordinates)\n",
    "roi = np.array([roi[1], roi[0]]).T\n",
    "# Take only the first 4 elements of the array\n",
    "roi = roi[[0,3,2,1],:]\n",
    "\n",
    "## Output\n",
    "outdir = \"../../output/molkart/supplementary_figure_4_images/\"\n",
    "\n",
    "scale_var = 3"
   ]
  },
  {
   "cell_type": "markdown",
   "metadata": {},
   "source": [
    "# Generate images for Supplementary figure 4"
   ]
  },
  {
   "cell_type": "markdown",
   "metadata": {},
   "source": [
    "## DAPI + WGA"
   ]
  },
  {
   "cell_type": "markdown",
   "metadata": {},
   "source": [
    "### Whole slide DAPI + WGA"
   ]
  },
  {
   "cell_type": "code",
   "execution_count": 4,
   "metadata": {},
   "outputs": [
    {
     "name": "stderr",
     "output_type": "stream",
     "text": [
      "31-Jan-24 11:58:42 - bfio.backends - WARNING  - Java backend is not available. This could be due to a missing dependency (jpype).\n"
     ]
    }
   ],
   "source": [
    "## Generate \n",
    "viewer = napari.view_image(img_stack, channel_axis = 0,\n",
    "                           name=[\"nuclei\", \"membrane\"],\n",
    "                           colormap=[\"cyan\", \"magenta\"],\n",
    "                           contrast_limits=[[1000, 65535], [1000, 65535]],)\n",
    "\n",
    "# viewer.add_labels(mask)\n",
    "\n",
    "viewer.add_shapes(roi, shape_type=['polygon'],\n",
    "                  edge_color='white', edge_width=40, face_color=\"transparent\", opacity=1)\n",
    "full_screenshot = outdir+sample+\".dapi_wga.full_image.wborder.png\"\n",
    "viewer.screenshot(path=full_screenshot, scale = scale_var)\n",
    "\n",
    "crop_screenshot = outdir+sample+\".dapi_wga.full_image.clean.png\"\n",
    "crop_black_margins(full_screenshot, crop_screenshot)"
   ]
  },
  {
   "cell_type": "code",
   "execution_count": 9,
   "metadata": {},
   "outputs": [
    {
     "data": {
      "text/plain": [
       "'../../output/molkart/supplementary_figure_4_images/sample_control_r1_s1.dapi_wga.full_image.clean.wbar.png'"
      ]
     },
     "execution_count": 9,
     "metadata": {},
     "output_type": "execute_result"
    }
   ],
   "source": [
    "## Calculate scale factors to plot a scalebar\n",
    "img = Image.open(crop_screenshot)\n",
    "width = img_stack[[0]].shape[2]\n",
    "new_resolution = img.size[0] / (width * 0.138)\n",
    "\n",
    "crop_scalebar = outdir+sample+\".dapi_wga.full_image.clean.wbar.png\"\n",
    "add_scalebar(crop_screenshot,\n",
    "             scalebar_length_um=500,\n",
    "             pixel_resolution = new_resolution,\n",
    "             corner=\"bottom right\", image_with_scalebar_path=crop_scalebar, font_size=200)"
   ]
  },
  {
   "cell_type": "markdown",
   "metadata": {},
   "source": [
    "### Zoom-in DAPI + WGA"
   ]
  },
  {
   "cell_type": "code",
   "execution_count": 11,
   "metadata": {},
   "outputs": [],
   "source": [
    "# Subset img_stack using roi coordinates. Remember that img_stack has the shape (C,Y,X) with C = 2\n",
    "img_stack_roi = img_stack[:, int(roi[0,0]):int(roi[2,0]), int(roi[0,1]):int(roi[2,1])]\n",
    "\n",
    "viewer = napari.view_image(img_stack_roi, channel_axis = 0,\n",
    "                           name=[\"nuclei\", \"membrane\"],\n",
    "                           colormap=[\"cyan\", \"magenta\"],\n",
    "                           contrast_limits=[[1000, 65535], [1000, 65535]],)\n",
    "\n",
    "# viewer.add_labels(mask)\n",
    "\n",
    "full_screenshot = outdir+sample+\".dapi_wga.zoom_image.wborder.png\"\n",
    "viewer.screenshot(path=full_screenshot, scale = scale_var)\n",
    "\n",
    "crop_screenshot = outdir+sample+\".dapi_wga.zoom_image.clean.png\"\n",
    "crop_black_margins(full_screenshot, crop_screenshot)"
   ]
  },
  {
   "cell_type": "code",
   "execution_count": 14,
   "metadata": {},
   "outputs": [
    {
     "data": {
      "text/plain": [
       "'../../output/molkart/supplementary_figure_4_images/sample_control_r1_s1.dapi_wga.zoom_image.clean.wbar.png'"
      ]
     },
     "execution_count": 14,
     "metadata": {},
     "output_type": "execute_result"
    }
   ],
   "source": [
    "## Calculate scale factors to plot a scalebar\n",
    "img = Image.open(crop_screenshot)\n",
    "width = roi[2,1] - roi[0,1]\n",
    "new_resolution = img.size[0] / (width * 0.138)\n",
    "\n",
    "crop_scalebar = outdir+sample+\".dapi_wga.zoom_image.clean.wbar.png\"\n",
    "add_scalebar(crop_screenshot,\n",
    "             scalebar_length_um=50,\n",
    "             pixel_resolution = new_resolution,\n",
    "             corner=\"bottom right\", image_with_scalebar_path=crop_scalebar, font_size=200)"
   ]
  },
  {
   "cell_type": "markdown",
   "metadata": {},
   "source": [
    "## Masks"
   ]
  },
  {
   "cell_type": "markdown",
   "metadata": {},
   "source": [
    "### Mesmer"
   ]
  },
  {
   "cell_type": "code",
   "execution_count": 39,
   "metadata": {},
   "outputs": [],
   "source": [
    "## segmentation mask\n",
    "img_dir = \"../../../results/nf-core_molkart/filtered_masks/mesmer/\"\n",
    "mask = skimage.io.imread(img_dir+sample+\"_mesmer_filtered.tif\")\n",
    "\n",
    "viewer = napari.Viewer()\n",
    "viewer.add_labels(mask, opacity = 1)\n",
    "viewer.add_shapes(roi, shape_type=['polygon'],\n",
    "                  edge_color='white', edge_width=40, face_color=\"transparent\", opacity=1)\n",
    "\n",
    "full_screenshot = outdir+sample+\".mask.full.wborder.png\"\n",
    "viewer.screenshot(path=full_screenshot, scale = scale_var)\n",
    "\n",
    "crop_screenshot = outdir+sample+\".mask.full.clean.png\"\n",
    "crop_black_margins(full_screenshot, crop_screenshot)"
   ]
  },
  {
   "cell_type": "code",
   "execution_count": 30,
   "metadata": {},
   "outputs": [],
   "source": [
    "# Subset mask using roi coordinates. Mask has the shape (Y,X)\n",
    "mask_crop = mask[int(roi[0,0]):int(roi[2,0]), int(roi[0,1]):int(roi[2,1])]\n",
    "\n",
    "viewer = napari.Viewer()\n",
    "viewer.add_labels(mask_crop, opacity = 1)\n",
    "\n",
    "roi_screenshot = outdir+sample+\".mask.roi.wborder.png\"\n",
    "viewer.screenshot(path=roi_screenshot, scale = scale_var)\n",
    "\n",
    "crop_screenshot = outdir+sample+\".mask.roi.clean.png\"\n",
    "crop_black_margins(roi_screenshot, crop_screenshot)"
   ]
  },
  {
   "cell_type": "markdown",
   "metadata": {},
   "source": [
    "### Ilastik"
   ]
  },
  {
   "cell_type": "code",
   "execution_count": 40,
   "metadata": {},
   "outputs": [],
   "source": [
    "## segmentation mask\n",
    "img_dir = \"../../../results/nf-core_molkart/filtered_masks/ilastik/\"\n",
    "mask = skimage.io.imread(img_dir+sample+\"_ilastik_filtered.tif\")\n",
    "\n",
    "viewer = napari.Viewer()\n",
    "viewer.add_labels(mask, opacity = 1)\n",
    "viewer.add_shapes(roi, shape_type=['polygon'],\n",
    "                  edge_color='white', edge_width=40, face_color=\"transparent\", opacity=1)\n",
    "\n",
    "full_screenshot = outdir+sample+\".mask_ilastik.full.wborder.png\"\n",
    "viewer.screenshot(path=full_screenshot, scale = scale_var)\n",
    "\n",
    "crop_screenshot = outdir+sample+\".mask_ilastik.full.clean.png\"\n",
    "crop_black_margins(full_screenshot, crop_screenshot)"
   ]
  },
  {
   "cell_type": "code",
   "execution_count": 35,
   "metadata": {},
   "outputs": [],
   "source": [
    "# Subset mask using roi coordinates. Mask has the shape (Y,X)\n",
    "mask_crop = mask[int(roi[0,0]):int(roi[2,0]), int(roi[0,1]):int(roi[2,1])]\n",
    "\n",
    "viewer = napari.Viewer()\n",
    "viewer.add_labels(mask_crop, opacity = 1)\n",
    "\n",
    "roi_screenshot = outdir+sample+\".mask_ilastik.roi.wborder.png\"\n",
    "viewer.screenshot(path=roi_screenshot, scale = scale_var)\n",
    "\n",
    "crop_screenshot = outdir+sample+\".mask_ilastik.roi.clean.png\"\n",
    "crop_black_margins(roi_screenshot, crop_screenshot)"
   ]
  },
  {
   "cell_type": "markdown",
   "metadata": {},
   "source": [
    "### Cellpose"
   ]
  },
  {
   "cell_type": "code",
   "execution_count": 41,
   "metadata": {},
   "outputs": [],
   "source": [
    "## segmentation mask\n",
    "img_dir = \"../../../results/nf-core_molkart/filtered_masks/\"\n",
    "mask = skimage.io.imread(img_dir+sample+\"_cellpose_filtered.tif\")\n",
    "\n",
    "viewer = napari.Viewer()\n",
    "viewer.add_labels(mask, opacity = 1)\n",
    "viewer.add_shapes(roi, shape_type=['polygon'],\n",
    "                  edge_color='white', edge_width=40, face_color=\"transparent\", opacity=1)\n",
    "\n",
    "full_screenshot = outdir+sample+\".mask_cellpose.full.wborder.png\"\n",
    "viewer.screenshot(path=full_screenshot, scale = scale_var)\n",
    "\n",
    "crop_screenshot = outdir+sample+\".mask_cellpose.full.clean.png\"\n",
    "crop_black_margins(full_screenshot, crop_screenshot)"
   ]
  },
  {
   "cell_type": "code",
   "execution_count": 37,
   "metadata": {},
   "outputs": [],
   "source": [
    "# Subset mask using roi coordinates. Mask has the shape (Y,X)\n",
    "mask_crop = mask[int(roi[0,0]):int(roi[2,0]), int(roi[0,1]):int(roi[2,1])]\n",
    "\n",
    "viewer = napari.Viewer()\n",
    "viewer.add_labels(mask_crop, opacity = 1)\n",
    "\n",
    "roi_screenshot = outdir+sample+\".mask_cellpose.roi.wborder.png\"\n",
    "viewer.screenshot(path=roi_screenshot, scale = scale_var)\n",
    "\n",
    "crop_screenshot = outdir+sample+\".mask_cellpose.roi.clean.png\"\n",
    "crop_black_margins(roi_screenshot, crop_screenshot)"
   ]
  },
  {
   "cell_type": "code",
   "execution_count": null,
   "metadata": {},
   "outputs": [],
   "source": []
  }
 ],
 "metadata": {
  "kernelspec": {
   "display_name": "spatialomics_MI",
   "language": "python",
   "name": "python3"
  },
  "language_info": {
   "codemirror_mode": {
    "name": "ipython",
    "version": 3
   },
   "file_extension": ".py",
   "mimetype": "text/x-python",
   "name": "python",
   "nbconvert_exporter": "python",
   "pygments_lexer": "ipython3",
   "version": "3.11.4"
  }
 },
 "nbformat": 4,
 "nbformat_minor": 2
}
