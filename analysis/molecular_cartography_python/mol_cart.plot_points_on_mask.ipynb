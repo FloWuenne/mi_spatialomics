{
 "cells": [
  {
   "cell_type": "markdown",
   "metadata": {},
   "source": [
    "# Plot spots on top of segmentation mask to highlight spot assignment and cell type classification"
   ]
  },
  {
   "cell_type": "code",
   "execution_count": 1,
   "metadata": {},
   "outputs": [],
   "source": [
    "# just installing napari, geopandas and tifffile should be enough to import everything\n",
    "import pandas as pd\n",
    "import napari\n",
    "import tifffile\n",
    "import geopandas as gp\n",
    "from shapely.geometry import Polygon\n",
    "import distinctipy\n",
    "import seaborn as sns\n",
    "import colorcet as cc\n",
    "import numpy as np\n",
    "from PIL import Image, ImageDraw, ImageFont\n",
    "from skimage.segmentation import find_boundaries\n",
    "from spatialMI_functions import plot_layers_napari, crop_black_margins, plot_pixie_maps, crop, crop_mask, crop_black_margins, crop_coords\n",
    "\n",
    "colorblind = sns.color_palette(\"colorblind\")\n",
    "glasbey = sns.color_palette(cc.glasbey)"
   ]
  },
  {
   "cell_type": "code",
   "execution_count": 96,
   "metadata": {},
   "outputs": [],
   "source": [
    "#genes_of_interest = [\"Nppb\",\"Pln\",\"Pecam1\",\"Nppa\"]\n",
    "sample = \"sample_4h_r1_s1\"\n",
    "colors = [\"#fc6b09\",\"#0090ad\",\"#cadb2b\",\"#cb2027\",\"#029e88\", \"#e18d9a\"]\n",
    "\n",
    "## Where to save the napari screenshot\n",
    "napari_screenshot = '../../output/mol_cart/spots_on_mask.sample_4h_r1_s1.napari_screen.roi_image.png'\n",
    "\n",
    "## Region of interest\n",
    "roi = pd.read_csv(\"../../data/molkart_tissue_regions_rois/sample_4h_r1_s1.spots_on_mask.csv\")\n",
    "\n",
    "#### Format points\n",
    "points_data =   pd.read_csv('../../../data/nf_molkart_results/dedup_spots/sample_4h_r1_s1.spots_markedDups.txt', \n",
    "                           delimiter='\\t', header=None,names=['x', 'y', 'z', 'gene'])\n",
    "# points_data['gene'] = pd.Categorical(\n",
    "#     points_data['gene'], genes_of_interest)\n",
    "# points_data = points_data[points_data.gene.isin(\n",
    "#     genes_of_interest)]\n",
    "gdf = gp.GeoDataFrame(\n",
    "    points_data, geometry=gp.points_from_xy(\n",
    "        points_data.x, points_data.y)\n",
    "        )\n",
    "polygon = Polygon(roi.iloc[:, :-3:-1].to_numpy())\n",
    "poly_gpd = gp.GeoDataFrame(index=[0], geometry=[polygon])\n",
    "\n",
    "# Basically fastest way to get all points within a polygon.\n",
    "subset_points = gp.sjoin(gdf, poly_gpd, predicate='within')\n",
    "points_view = crop_coords(roi, subset_points)\n",
    "xmax, ymax = points_view[\"x\"].max(), points_view[\"y\"].max()\n",
    "points_view = points_view.sort_values(by='gene')\n",
    "points_view['cell_id'] = points_view.index\n",
    "points_props = {'cell_id': points_view['cell_id'].to_numpy(),\n",
    "                'gene': points_view['gene'].to_numpy()}\n",
    "\n",
    "## Mask formatting\n",
    "mask = \"/Users/florian_wuennemann/1_Projects/MI_project/data/nf_molkart_results/retained_masks/sample_4h_r1_s1_cellpose.retained_masks.tif\"\n",
    "cell_mask = tifffile.TiffFile(mask).asarray()\n",
    "mask_view = crop_mask(roi,cell_mask)\n",
    "boundaries = find_boundaries(mask_view, mode='thin')"
   ]
  },
  {
   "cell_type": "code",
   "execution_count": 97,
   "metadata": {},
   "outputs": [],
   "source": [
    "unique_values = np.unique(mask_view)\n",
    "cell_ids = [\"sample_4h_r1_s1-cell_\" + str(value) for value in unique_values]\n",
    "cell_types = pd.read_csv(\"../../output/mol_cart/molcart.misty_celltype_table.tsv\", sep=\"\\t\")\n",
    "subset_cell_types = cell_types[cell_types['sample_ID'] == 'sample_4h_r1_s1']\n",
    "subset_cell_types = subset_cell_types[subset_cell_types['cell_ID'].isin(cell_ids)]\n",
    "subset_cell_types = subset_cell_types[['cell_ID', 'anno_cell_type_lv2']]\n",
    "subset_cell_types['mask_id'] = subset_cell_types['cell_ID'].str.split('_').str[-1]\n",
    "subset_cell_types['cell_type_id'] = subset_cell_types.groupby('anno_cell_type_lv2').ngroup() + 1\n",
    "for _, row in subset_cell_types.iterrows():\n",
    "    mask_id = int(row['mask_id'])\n",
    "    cell_type_id = int(row['cell_type_id'])\n",
    "    mask_view = np.where(mask_view == mask_id, cell_type_id, mask_view)\n"
   ]
  },
  {
   "cell_type": "code",
   "execution_count": 98,
   "metadata": {},
   "outputs": [
    {
     "data": {
      "text/html": [
       "<div>\n",
       "<style scoped>\n",
       "    .dataframe tbody tr th:only-of-type {\n",
       "        vertical-align: middle;\n",
       "    }\n",
       "\n",
       "    .dataframe tbody tr th {\n",
       "        vertical-align: top;\n",
       "    }\n",
       "\n",
       "    .dataframe thead th {\n",
       "        text-align: right;\n",
       "    }\n",
       "</style>\n",
       "<table border=\"1\" class=\"dataframe\">\n",
       "  <thead>\n",
       "    <tr style=\"text-align: right;\">\n",
       "      <th></th>\n",
       "      <th>anno_cell_type_lv2</th>\n",
       "      <th>cell_type_id</th>\n",
       "    </tr>\n",
       "  </thead>\n",
       "  <tbody>\n",
       "    <tr>\n",
       "      <th>46561</th>\n",
       "      <td>Cardiomyocytes</td>\n",
       "      <td>2</td>\n",
       "    </tr>\n",
       "    <tr>\n",
       "      <th>46566</th>\n",
       "      <td>Cardiomyocytes_Nppb+</td>\n",
       "      <td>4</td>\n",
       "    </tr>\n",
       "    <tr>\n",
       "      <th>46576</th>\n",
       "      <td>Vascular_endothelium</td>\n",
       "      <td>10</td>\n",
       "    </tr>\n",
       "    <tr>\n",
       "      <th>46621</th>\n",
       "      <td>Cardiac_fibroblasts</td>\n",
       "      <td>1</td>\n",
       "    </tr>\n",
       "    <tr>\n",
       "      <th>46666</th>\n",
       "      <td>Lymphoid cells</td>\n",
       "      <td>7</td>\n",
       "    </tr>\n",
       "    <tr>\n",
       "      <th>46689</th>\n",
       "      <td>Pericytes</td>\n",
       "      <td>9</td>\n",
       "    </tr>\n",
       "    <tr>\n",
       "      <th>46895</th>\n",
       "      <td>Cardiomyocytes_Nppa+</td>\n",
       "      <td>3</td>\n",
       "    </tr>\n",
       "    <tr>\n",
       "      <th>46916</th>\n",
       "      <td>EndMA+</td>\n",
       "      <td>5</td>\n",
       "    </tr>\n",
       "    <tr>\n",
       "      <th>47080</th>\n",
       "      <td>Myeloid_cells</td>\n",
       "      <td>8</td>\n",
       "    </tr>\n",
       "    <tr>\n",
       "      <th>47249</th>\n",
       "      <td>Endocardial_cell</td>\n",
       "      <td>6</td>\n",
       "    </tr>\n",
       "  </tbody>\n",
       "</table>\n",
       "</div>"
      ],
      "text/plain": [
       "         anno_cell_type_lv2  cell_type_id\n",
       "46561        Cardiomyocytes             2\n",
       "46566  Cardiomyocytes_Nppb+             4\n",
       "46576  Vascular_endothelium            10\n",
       "46621   Cardiac_fibroblasts             1\n",
       "46666        Lymphoid cells             7\n",
       "46689             Pericytes             9\n",
       "46895  Cardiomyocytes_Nppa+             3\n",
       "46916                EndMA+             5\n",
       "47080         Myeloid_cells             8\n",
       "47249      Endocardial_cell             6"
      ]
     },
     "execution_count": 98,
     "metadata": {},
     "output_type": "execute_result"
    }
   ],
   "source": [
    "# Show me all unique values in cell_type_id in table subset_cell_types\n",
    "unique_cell_type_ids = subset_cell_types['cell_type_id'].unique()\n",
    "unique_cell_type_ids\n",
    "color_dict = {cell_type_id: color for cell_type_id, color in zip(unique_cell_type_ids, colorblind[1:])}\n",
    "# Print the table of unique combinations between mask_id and cell_type_id in subset_cell_types\n",
    "unique_combinations = subset_cell_types[['anno_cell_type_lv2', 'cell_type_id']].drop_duplicates()\n",
    "unique_combinations"
   ]
  },
  {
   "cell_type": "code",
   "execution_count": 103,
   "metadata": {},
   "outputs": [
    {
     "data": {
      "text/plain": [
       "array([[[  0,   0,   0, 255],\n",
       "        [  0,   0,   0, 255],\n",
       "        [  0,   0,   0, 255],\n",
       "        ...,\n",
       "        [  0,   0,   0, 255],\n",
       "        [  0,   0,   0, 255],\n",
       "        [  0,   0,   0, 255]],\n",
       "\n",
       "       [[  0,   0,   0, 255],\n",
       "        [  0,   0,   0, 255],\n",
       "        [  0,   0,   0, 255],\n",
       "        ...,\n",
       "        [  0,   0,   0, 255],\n",
       "        [  0,   0,   0, 255],\n",
       "        [  0,   0,   0, 255]],\n",
       "\n",
       "       [[  0,   0,   0, 255],\n",
       "        [  0,   0,   0, 255],\n",
       "        [  0,   0,   0, 255],\n",
       "        ...,\n",
       "        [  0,   0,   0, 255],\n",
       "        [  0,   0,   0, 255],\n",
       "        [  0,   0,   0, 255]],\n",
       "\n",
       "       ...,\n",
       "\n",
       "       [[  0,   0,   0, 255],\n",
       "        [  0,   0,   0, 255],\n",
       "        [  0,   0,   0, 255],\n",
       "        ...,\n",
       "        [  0,   0,   0, 255],\n",
       "        [  0,   0,   0, 255],\n",
       "        [  0,   0,   0, 255]],\n",
       "\n",
       "       [[  0,   0,   0, 255],\n",
       "        [  0,   0,   0, 255],\n",
       "        [  0,   0,   0, 255],\n",
       "        ...,\n",
       "        [  0,   0,   0, 255],\n",
       "        [  0,   0,   0, 255],\n",
       "        [  0,   0,   0, 255]],\n",
       "\n",
       "       [[  0,   0,   0, 255],\n",
       "        [  0,   0,   0, 255],\n",
       "        [  0,   0,   0, 255],\n",
       "        ...,\n",
       "        [  0,   0,   0, 255],\n",
       "        [  0,   0,   0, 255],\n",
       "        [  0,   0,   0, 255]]], dtype=uint8)"
      ]
     },
     "execution_count": 103,
     "metadata": {},
     "output_type": "execute_result"
    }
   ],
   "source": [
    "viewer = napari.Viewer()\n",
    "img_name = \"../../output/mol_cart/spots_on_mask.png\"\n",
    "#crop_name = \"../../output/seqIF/figure3_zoomins/\"+sample+\".figure3_cell_mask.crop.4h.png\"\n",
    "viewer.add_points(points_view[['y', 'x']].to_numpy(),\n",
    "                          #properties=points_props,\n",
    "                          #face_color='gene',\n",
    "                          #face_color_cycle=colors,\n",
    "                          face_color_cycle = [\"lightgrey\"],\n",
    "                          size=6,\n",
    "                          edge_width_is_relative=False)\n",
    "viewer.add_labels(boundaries, visible=True, name=sample + \"_mask\", opacity = 1,color={0:'transparent', 1:(1,1,1)})\n",
    "viewer.add_labels(mask_view, color = color_dict)\n",
    "viewer.screenshot(path=img_name,\n",
    "                      scale=5)"
   ]
  },
  {
   "cell_type": "code",
   "execution_count": 76,
   "metadata": {},
   "outputs": [
    {
     "data": {
      "image/png": "[encoded data removed]",
      "text/plain": [
       "<Figure size 800x800 with 1 Axes>"
      ]
     },
     "metadata": {},
     "output_type": "display_data"
    }
   ],
   "source": [
    "distinctipy.color_swatch(colorblind)"
   ]
  },
  {
   "cell_type": "code",
   "execution_count": null,
   "metadata": {},
   "outputs": [],
   "source": []
  }
 ],
 "metadata": {
  "kernelspec": {
   "display_name": "spatialomics_MI",
   "language": "python",
   "name": "python3"
  },
  "language_info": {
   "codemirror_mode": {
    "name": "ipython",
    "version": 3
   },
   "file_extension": ".py",
   "mimetype": "text/x-python",
   "name": "python",
   "nbconvert_exporter": "python",
   "pygments_lexer": "ipython3",
   "version": "3.11.4"
  }
 },
 "nbformat": 4,
 "nbformat_minor": 2
}
