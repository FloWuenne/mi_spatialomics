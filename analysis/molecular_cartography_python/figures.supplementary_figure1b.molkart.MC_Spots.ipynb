{
 "cells": [
  {
   "attachments": {},
   "cell_type": "markdown",
   "metadata": {},
   "source": [
    "# Supplementary Figure 1: Plot Molecular Cartography spots\n",
    "\n",
    "In this notebook, we will use Datashader to plot spots from Molecular Cartography for all samples. These are large scale overviews with many data points and are therefore not supposed to provide any real quantitative comparison but just for a general overview of the samples and the spot density across the tissue."
   ]
  },
  {
   "cell_type": "code",
   "execution_count": 8,
   "metadata": {},
   "outputs": [
    {
     "name": "stderr",
     "output_type": "stream",
     "text": [
      "/var/folders/ph/m6mhj3s541799cykzbp3dx0m0000gn/T/ipykernel_10159/3810577338.py:12: DeprecationWarning: Importing display from IPython.core.display is deprecated since IPython 7.14, please import from IPython display\n",
      "  from IPython.core.display import HTML, display\n"
     ]
    }
   ],
   "source": [
    "from functools import partial\n",
    "import datashader as ds \n",
    "import datashader.transfer_functions as tf\n",
    "from datashader.utils import export_image\n",
    "import pandas as pd\n",
    "import colorcet as cc\n",
    "import colorcet as cc\n",
    "import matplotlib.pyplot as plt\n",
    "import holoviews as hv\n",
    "import holoviews.plotting.mpl\n",
    "from holoviews.operation.datashader import datashade\n",
    "from IPython.core.display import HTML, display\n",
    "import os\n",
    "import PIL\n",
    "\n",
    "PIL.Image.MAX_IMAGE_PIXELS = 933120000 ## Increase max image pixel size from PIL\n",
    "background = \"black\"\n",
    "export = partial(export_image, background = background, export_path=\"../../output/molkart_spot_imgs\")"
   ]
  },
  {
   "cell_type": "code",
   "execution_count": 6,
   "metadata": {},
   "outputs": [],
   "source": [
    "gene_color_list = pd.read_table(\"../../references/molecular_cartography_gene_list_color.tsv\", sep = \"\\t\")"
   ]
  },
  {
   "cell_type": "code",
   "execution_count": 9,
   "metadata": {},
   "outputs": [
    {
     "name": "stdout",
     "output_type": "stream",
     "text": [
      "sample_2d_r2_s1.WGA.tiff\n",
      "sample_2d_r1_s2.WGA.tiff\n",
      "sample_4h_r2_s1.WGA.tiff\n",
      "sample_4h_r1_s2.WGA.tiff\n",
      "sample_4d_r1_s1.WGA.tiff\n",
      "sample_4d_r2_s2.WGA.tiff\n",
      "sample_control_r1_s2.WGA.tiff\n",
      "sample_control_r2_s1.WGA.tiff\n",
      "sample_4d_r2_s1.WGA.tiff\n",
      "sample_4d_r1_s2.WGA.tiff\n",
      "sample_control_r2_s2.WGA.tiff\n",
      "sample_control_r1_s1.WGA.tiff\n",
      "sample_2d_r1_s1.WGA.tiff\n",
      "sample_2d_r2_s2.WGA.tiff\n",
      "sample_4h_r1_s1.WGA.tiff\n",
      "sample_4h_r2_s2.WGA.tiff\n"
     ]
    }
   ],
   "source": [
    "spot_dir = \"../../../data/molcart_spot_tables/\"\n",
    "img_dir = \"../../../data/molcart_AB_stains/\"\n",
    "\n",
    "# loop over all .tsv files in img_dir and print the filename to the screen\n",
    "\n",
    "for filename in os.listdir(spot_dir):\n",
    "    if filename.endswith(\".tsv\"):\n",
    "        # Split filename by \".\" and take the first element\n",
    "        sample_name = filename.split(\".\")[0]\n",
    "        img_name = sample_name+ \".WGA.tiff\"\n",
    "        print(img_name)\n",
    "        ## Read in corresponding wga stain for the sample\n",
    "        wga_img = plt.imread(os.path.join(img_dir, img_name))\n",
    "        \n",
    "        # Read in the filename using read_table for tsv files\n",
    "        df = pd.read_table(os.path.join(spot_dir, filename), \n",
    "                   sep='\\t',\n",
    "                   names = ['x','y','z','gene'])\n",
    "        df['y'] = abs(df['y'] - wga_img.shape[0]) ## Don't forget to flip the y-axis\n",
    "        df['gene'] = df['gene'].astype('category')\n",
    "        # find genes from df['gene'] in gene_list['gene'] and create a dictionary with gene names as keys and colors as values\n",
    "        \n",
    "        # Create a dictionary with gene names as keys and colors as values\n",
    "        dict_gene_color = dict(zip(gene_color_list['gene'], gene_color_list['hex_color']))\n",
    "        cvs = ds.Canvas(plot_width = 2000,plot_height = 2000)\n",
    "        agg = cvs.points(df, 'x', 'y', ds.count_cat('gene'))\n",
    "        img = ds.tf.shade(agg,color_key=dict_gene_color, how='eq_hist')\n",
    "        img\n",
    "        ## Save the image\n",
    "        export_image_name = sample_name + \"_MC_spots.png\"\n",
    "        export(img,export_image_name)\n",
    "\n",
    "    else:\n",
    "        continue"
   ]
  },
  {
   "cell_type": "code",
   "execution_count": null,
   "metadata": {},
   "outputs": [],
   "source": []
  }
 ],
 "metadata": {
  "kernelspec": {
   "display_name": "aicsimage",
   "language": "python",
   "name": "python3"
  },
  "language_info": {
   "codemirror_mode": {
    "name": "ipython",
    "version": 3
   },
   "file_extension": ".py",
   "mimetype": "text/x-python",
   "name": "python",
   "nbconvert_exporter": "python",
   "pygments_lexer": "ipython3",
   "version": "3.11.4"
  },
  "orig_nbformat": 4
 },
 "nbformat": 4,
 "nbformat_minor": 2
}
