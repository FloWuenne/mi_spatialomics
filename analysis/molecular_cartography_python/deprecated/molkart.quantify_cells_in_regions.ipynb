{
 "cells": [
  {
   "cell_type": "markdown",
   "metadata": {},
   "source": [
    "# Quantify cell types in different tissue regions\n",
    "\n",
    "python_kernel_used = geopandas\n",
    "\n",
    "Count the number of spots that fall within tissue annotations made in QuPath and not outside the tissue (i.e. background or artefacts)."
   ]
  },
  {
   "cell_type": "code",
   "execution_count": 2,
   "metadata": {},
   "outputs": [],
   "source": [
    "import geopandas as gpd\n",
    "from shapely.geometry import Point\n",
    "import pandas as pd\n",
    "import os"
   ]
  },
  {
   "cell_type": "code",
   "execution_count": 3,
   "metadata": {},
   "outputs": [],
   "source": [
    "import json\n",
    "from shapely.geometry import shape, Point\n",
    "\n",
    "def count_points_in_shape(gdf_geojson, points_df):\n",
    "    # Turn points into a list of tuples\n",
    "    points = [tuple(x) for x in points_df.to_numpy()]\n",
    "\n",
    "    gdf_points = gpd.GeoDataFrame(geometry=[Point(x, y) for x, y in points])\n",
    "\n",
    "    # Set the same CRS for both GeoDataFrames if they're not the same\n",
    "    gdf_points.crs = gdf_geojson.crs\n",
    "\n",
    "    # Perform spatial join\n",
    "    gdf_joined = gpd.sjoin(gdf_points, gdf_geojson, op='within')\n",
    "\n",
    "    ## Write measurements to dataframe\n",
    "    total_area = gdf_geojson.geometry.area.sum() * 0.138 * 0.138\n",
    "    number_of_spots = gdf_joined.shape[0]\n",
    "\n",
    "    return [total_area, number_of_spots]"
   ]
  },
  {
   "cell_type": "code",
   "execution_count": 84,
   "metadata": {},
   "outputs": [
    {
     "name": "stdout",
     "output_type": "stream",
     "text": [
      "endocard.sample_control_r1_s1.geojson\n",
      "epicard.sample_4d_r1_s2.geojson\n",
      "infarct_zone.sample_4d_r1_s2.geojson\n",
      "endocard.sample_4h_r1_s1.geojson\n"
     ]
    },
    {
     "name": "stderr",
     "output_type": "stream",
     "text": [
      "/Users/florian_wuennemann/miniconda3/envs/geopandas/lib/python3.11/site-packages/IPython/core/interactiveshell.py:3448: FutureWarning: The `op` parameter is deprecated and will be removed in a future release. Please use the `predicate` parameter instead.\n",
      "  if await self.run_code(code, result, async_=asy):\n",
      "/var/folders/ph/m6mhj3s541799cykzbp3dx0m0000gn/T/ipykernel_31718/3123526070.py:36: UserWarning: Geometry is in a geographic CRS. Results from 'area' are likely incorrect. Use 'GeoSeries.to_crs()' to re-project geometries to a projected CRS before this operation.\n",
      "\n",
      "  total_area = gdf_geojson.geometry.area.sum() * 0.138 * 0.138\n",
      "/Users/florian_wuennemann/miniconda3/envs/geopandas/lib/python3.11/site-packages/IPython/core/interactiveshell.py:3448: FutureWarning: The `op` parameter is deprecated and will be removed in a future release. Please use the `predicate` parameter instead.\n",
      "  if await self.run_code(code, result, async_=asy):\n",
      "/var/folders/ph/m6mhj3s541799cykzbp3dx0m0000gn/T/ipykernel_31718/3123526070.py:36: UserWarning: Geometry is in a geographic CRS. Results from 'area' are likely incorrect. Use 'GeoSeries.to_crs()' to re-project geometries to a projected CRS before this operation.\n",
      "\n",
      "  total_area = gdf_geojson.geometry.area.sum() * 0.138 * 0.138\n",
      "/Users/florian_wuennemann/miniconda3/envs/geopandas/lib/python3.11/site-packages/IPython/core/interactiveshell.py:3448: FutureWarning: The `op` parameter is deprecated and will be removed in a future release. Please use the `predicate` parameter instead.\n",
      "  if await self.run_code(code, result, async_=asy):\n",
      "/var/folders/ph/m6mhj3s541799cykzbp3dx0m0000gn/T/ipykernel_31718/3123526070.py:36: UserWarning: Geometry is in a geographic CRS. Results from 'area' are likely incorrect. Use 'GeoSeries.to_crs()' to re-project geometries to a projected CRS before this operation.\n",
      "\n",
      "  total_area = gdf_geojson.geometry.area.sum() * 0.138 * 0.138\n",
      "/Users/florian_wuennemann/miniconda3/envs/geopandas/lib/python3.11/site-packages/IPython/core/interactiveshell.py:3448: FutureWarning: The `op` parameter is deprecated and will be removed in a future release. Please use the `predicate` parameter instead.\n",
      "  if await self.run_code(code, result, async_=asy):\n",
      "/var/folders/ph/m6mhj3s541799cykzbp3dx0m0000gn/T/ipykernel_31718/3123526070.py:36: UserWarning: Geometry is in a geographic CRS. Results from 'area' are likely incorrect. Use 'GeoSeries.to_crs()' to re-project geometries to a projected CRS before this operation.\n",
      "\n",
      "  total_area = gdf_geojson.geometry.area.sum() * 0.138 * 0.138\n",
      "/Users/florian_wuennemann/miniconda3/envs/geopandas/lib/python3.11/site-packages/IPython/core/interactiveshell.py:3448: FutureWarning: The `op` parameter is deprecated and will be removed in a future release. Please use the `predicate` parameter instead.\n",
      "  if await self.run_code(code, result, async_=asy):\n",
      "/var/folders/ph/m6mhj3s541799cykzbp3dx0m0000gn/T/ipykernel_31718/3123526070.py:36: UserWarning: Geometry is in a geographic CRS. Results from 'area' are likely incorrect. Use 'GeoSeries.to_crs()' to re-project geometries to a projected CRS before this operation.\n",
      "\n",
      "  total_area = gdf_geojson.geometry.area.sum() * 0.138 * 0.138\n",
      "/Users/florian_wuennemann/miniconda3/envs/geopandas/lib/python3.11/site-packages/IPython/core/interactiveshell.py:3448: FutureWarning: The `op` parameter is deprecated and will be removed in a future release. Please use the `predicate` parameter instead.\n",
      "  if await self.run_code(code, result, async_=asy):\n",
      "/var/folders/ph/m6mhj3s541799cykzbp3dx0m0000gn/T/ipykernel_31718/3123526070.py:36: UserWarning: Geometry is in a geographic CRS. Results from 'area' are likely incorrect. Use 'GeoSeries.to_crs()' to re-project geometries to a projected CRS before this operation.\n",
      "\n",
      "  total_area = gdf_geojson.geometry.area.sum() * 0.138 * 0.138\n",
      "/Users/florian_wuennemann/miniconda3/envs/geopandas/lib/python3.11/site-packages/IPython/core/interactiveshell.py:3448: FutureWarning: The `op` parameter is deprecated and will be removed in a future release. Please use the `predicate` parameter instead.\n",
      "  if await self.run_code(code, result, async_=asy):\n",
      "/var/folders/ph/m6mhj3s541799cykzbp3dx0m0000gn/T/ipykernel_31718/3123526070.py:36: UserWarning: Geometry is in a geographic CRS. Results from 'area' are likely incorrect. Use 'GeoSeries.to_crs()' to re-project geometries to a projected CRS before this operation.\n",
      "\n",
      "  total_area = gdf_geojson.geometry.area.sum() * 0.138 * 0.138\n",
      "/Users/florian_wuennemann/miniconda3/envs/geopandas/lib/python3.11/site-packages/IPython/core/interactiveshell.py:3448: FutureWarning: The `op` parameter is deprecated and will be removed in a future release. Please use the `predicate` parameter instead.\n",
      "  if await self.run_code(code, result, async_=asy):\n",
      "/var/folders/ph/m6mhj3s541799cykzbp3dx0m0000gn/T/ipykernel_31718/3123526070.py:36: UserWarning: Geometry is in a geographic CRS. Results from 'area' are likely incorrect. Use 'GeoSeries.to_crs()' to re-project geometries to a projected CRS before this operation.\n",
      "\n",
      "  total_area = gdf_geojson.geometry.area.sum() * 0.138 * 0.138\n",
      "/Users/florian_wuennemann/miniconda3/envs/geopandas/lib/python3.11/site-packages/IPython/core/interactiveshell.py:3448: FutureWarning: The `op` parameter is deprecated and will be removed in a future release. Please use the `predicate` parameter instead.\n",
      "  if await self.run_code(code, result, async_=asy):\n",
      "/var/folders/ph/m6mhj3s541799cykzbp3dx0m0000gn/T/ipykernel_31718/3123526070.py:36: UserWarning: Geometry is in a geographic CRS. Results from 'area' are likely incorrect. Use 'GeoSeries.to_crs()' to re-project geometries to a projected CRS before this operation.\n",
      "\n",
      "  total_area = gdf_geojson.geometry.area.sum() * 0.138 * 0.138\n"
     ]
    },
    {
     "name": "stdout",
     "output_type": "stream",
     "text": [
      "endocard.sample_2d_r2_s1.geojson\n",
      "epicard.sample_4h_r2_s2.geojson\n",
      "infarct_zone.sample_2d_r1_s1.geojson\n",
      "epicard.sample_control_r1_s1.geojson\n",
      "infarct_zone.sample_4h_r2_s2.geojson\n",
      "endocard.sample_4d_r2_s1.geojson\n"
     ]
    },
    {
     "name": "stderr",
     "output_type": "stream",
     "text": [
      "/Users/florian_wuennemann/miniconda3/envs/geopandas/lib/python3.11/site-packages/IPython/core/interactiveshell.py:3448: FutureWarning: The `op` parameter is deprecated and will be removed in a future release. Please use the `predicate` parameter instead.\n",
      "  if await self.run_code(code, result, async_=asy):\n",
      "/var/folders/ph/m6mhj3s541799cykzbp3dx0m0000gn/T/ipykernel_31718/3123526070.py:36: UserWarning: Geometry is in a geographic CRS. Results from 'area' are likely incorrect. Use 'GeoSeries.to_crs()' to re-project geometries to a projected CRS before this operation.\n",
      "\n",
      "  total_area = gdf_geojson.geometry.area.sum() * 0.138 * 0.138\n",
      "/Users/florian_wuennemann/miniconda3/envs/geopandas/lib/python3.11/site-packages/IPython/core/interactiveshell.py:3448: FutureWarning: The `op` parameter is deprecated and will be removed in a future release. Please use the `predicate` parameter instead.\n",
      "  if await self.run_code(code, result, async_=asy):\n",
      "/var/folders/ph/m6mhj3s541799cykzbp3dx0m0000gn/T/ipykernel_31718/3123526070.py:36: UserWarning: Geometry is in a geographic CRS. Results from 'area' are likely incorrect. Use 'GeoSeries.to_crs()' to re-project geometries to a projected CRS before this operation.\n",
      "\n",
      "  total_area = gdf_geojson.geometry.area.sum() * 0.138 * 0.138\n",
      "/Users/florian_wuennemann/miniconda3/envs/geopandas/lib/python3.11/site-packages/IPython/core/interactiveshell.py:3448: FutureWarning: The `op` parameter is deprecated and will be removed in a future release. Please use the `predicate` parameter instead.\n",
      "  if await self.run_code(code, result, async_=asy):\n",
      "/var/folders/ph/m6mhj3s541799cykzbp3dx0m0000gn/T/ipykernel_31718/3123526070.py:36: UserWarning: Geometry is in a geographic CRS. Results from 'area' are likely incorrect. Use 'GeoSeries.to_crs()' to re-project geometries to a projected CRS before this operation.\n",
      "\n",
      "  total_area = gdf_geojson.geometry.area.sum() * 0.138 * 0.138\n",
      "/Users/florian_wuennemann/miniconda3/envs/geopandas/lib/python3.11/site-packages/IPython/core/interactiveshell.py:3448: FutureWarning: The `op` parameter is deprecated and will be removed in a future release. Please use the `predicate` parameter instead.\n",
      "  if await self.run_code(code, result, async_=asy):\n",
      "/var/folders/ph/m6mhj3s541799cykzbp3dx0m0000gn/T/ipykernel_31718/3123526070.py:36: UserWarning: Geometry is in a geographic CRS. Results from 'area' are likely incorrect. Use 'GeoSeries.to_crs()' to re-project geometries to a projected CRS before this operation.\n",
      "\n",
      "  total_area = gdf_geojson.geometry.area.sum() * 0.138 * 0.138\n"
     ]
    },
    {
     "name": "stdout",
     "output_type": "stream",
     "text": [
      "epicard.sample_2d_r1_s1.geojson\n",
      "infarct_zone.sample_4d_r2_s1.geojson\n",
      "endocard.sample_4h_r2_s2.geojson\n",
      "epicard.sample_2d_r2_s1.geojson\n"
     ]
    },
    {
     "name": "stderr",
     "output_type": "stream",
     "text": [
      "/Users/florian_wuennemann/miniconda3/envs/geopandas/lib/python3.11/site-packages/IPython/core/interactiveshell.py:3448: FutureWarning: The `op` parameter is deprecated and will be removed in a future release. Please use the `predicate` parameter instead.\n",
      "  if await self.run_code(code, result, async_=asy):\n",
      "/var/folders/ph/m6mhj3s541799cykzbp3dx0m0000gn/T/ipykernel_31718/3123526070.py:36: UserWarning: Geometry is in a geographic CRS. Results from 'area' are likely incorrect. Use 'GeoSeries.to_crs()' to re-project geometries to a projected CRS before this operation.\n",
      "\n",
      "  total_area = gdf_geojson.geometry.area.sum() * 0.138 * 0.138\n",
      "/Users/florian_wuennemann/miniconda3/envs/geopandas/lib/python3.11/site-packages/IPython/core/interactiveshell.py:3448: FutureWarning: The `op` parameter is deprecated and will be removed in a future release. Please use the `predicate` parameter instead.\n",
      "  if await self.run_code(code, result, async_=asy):\n",
      "/var/folders/ph/m6mhj3s541799cykzbp3dx0m0000gn/T/ipykernel_31718/3123526070.py:36: UserWarning: Geometry is in a geographic CRS. Results from 'area' are likely incorrect. Use 'GeoSeries.to_crs()' to re-project geometries to a projected CRS before this operation.\n",
      "\n",
      "  total_area = gdf_geojson.geometry.area.sum() * 0.138 * 0.138\n",
      "/Users/florian_wuennemann/miniconda3/envs/geopandas/lib/python3.11/site-packages/IPython/core/interactiveshell.py:3448: FutureWarning: The `op` parameter is deprecated and will be removed in a future release. Please use the `predicate` parameter instead.\n",
      "  if await self.run_code(code, result, async_=asy):\n",
      "/var/folders/ph/m6mhj3s541799cykzbp3dx0m0000gn/T/ipykernel_31718/3123526070.py:36: UserWarning: Geometry is in a geographic CRS. Results from 'area' are likely incorrect. Use 'GeoSeries.to_crs()' to re-project geometries to a projected CRS before this operation.\n",
      "\n",
      "  total_area = gdf_geojson.geometry.area.sum() * 0.138 * 0.138\n",
      "/Users/florian_wuennemann/miniconda3/envs/geopandas/lib/python3.11/site-packages/IPython/core/interactiveshell.py:3448: FutureWarning: The `op` parameter is deprecated and will be removed in a future release. Please use the `predicate` parameter instead.\n",
      "  if await self.run_code(code, result, async_=asy):\n",
      "/var/folders/ph/m6mhj3s541799cykzbp3dx0m0000gn/T/ipykernel_31718/3123526070.py:36: UserWarning: Geometry is in a geographic CRS. Results from 'area' are likely incorrect. Use 'GeoSeries.to_crs()' to re-project geometries to a projected CRS before this operation.\n",
      "\n",
      "  total_area = gdf_geojson.geometry.area.sum() * 0.138 * 0.138\n",
      "/Users/florian_wuennemann/miniconda3/envs/geopandas/lib/python3.11/site-packages/IPython/core/interactiveshell.py:3448: FutureWarning: The `op` parameter is deprecated and will be removed in a future release. Please use the `predicate` parameter instead.\n",
      "  if await self.run_code(code, result, async_=asy):\n",
      "/var/folders/ph/m6mhj3s541799cykzbp3dx0m0000gn/T/ipykernel_31718/3123526070.py:36: UserWarning: Geometry is in a geographic CRS. Results from 'area' are likely incorrect. Use 'GeoSeries.to_crs()' to re-project geometries to a projected CRS before this operation.\n",
      "\n",
      "  total_area = gdf_geojson.geometry.area.sum() * 0.138 * 0.138\n"
     ]
    },
    {
     "name": "stdout",
     "output_type": "stream",
     "text": [
      "endocard.sample_2d_r1_s1.geojson\n",
      "epicard.sample_4d_r2_s1.geojson\n",
      "infarct_zone.sample_2d_r2_s1.geojson\n",
      "infarct_zone.sample_4h_r1_s1.geojson\n",
      "endocard.sample_4d_r1_s2.geojson\n",
      "epicard.sample_4h_r1_s1.geojson\n"
     ]
    },
    {
     "name": "stderr",
     "output_type": "stream",
     "text": [
      "/Users/florian_wuennemann/miniconda3/envs/geopandas/lib/python3.11/site-packages/IPython/core/interactiveshell.py:3448: FutureWarning: The `op` parameter is deprecated and will be removed in a future release. Please use the `predicate` parameter instead.\n",
      "  if await self.run_code(code, result, async_=asy):\n",
      "/var/folders/ph/m6mhj3s541799cykzbp3dx0m0000gn/T/ipykernel_31718/3123526070.py:36: UserWarning: Geometry is in a geographic CRS. Results from 'area' are likely incorrect. Use 'GeoSeries.to_crs()' to re-project geometries to a projected CRS before this operation.\n",
      "\n",
      "  total_area = gdf_geojson.geometry.area.sum() * 0.138 * 0.138\n",
      "/Users/florian_wuennemann/miniconda3/envs/geopandas/lib/python3.11/site-packages/IPython/core/interactiveshell.py:3448: FutureWarning: The `op` parameter is deprecated and will be removed in a future release. Please use the `predicate` parameter instead.\n",
      "  if await self.run_code(code, result, async_=asy):\n",
      "/var/folders/ph/m6mhj3s541799cykzbp3dx0m0000gn/T/ipykernel_31718/3123526070.py:36: UserWarning: Geometry is in a geographic CRS. Results from 'area' are likely incorrect. Use 'GeoSeries.to_crs()' to re-project geometries to a projected CRS before this operation.\n",
      "\n",
      "  total_area = gdf_geojson.geometry.area.sum() * 0.138 * 0.138\n"
     ]
    }
   ],
   "source": [
    "## Create an empty dataframe to capture tissue area and spot count\n",
    "df = pd.DataFrame(columns=['sample','tissue_region','tissue_area', 'cell_count','cell_per_area'])\n",
    "\n",
    "## Iterate over each geojson file\n",
    "geojson_dir = \"/Users/florian_wuennemann/1_Projects/MI_project/data/molcart_region_annotations_Qupath/regions_geojson\"\n",
    "cell_dir = \"/Users/florian_wuennemann/1_Projects/MI_project/MI_infiltration_imaging/data\"\n",
    "# Iterate over each file in geojson_dir\n",
    "for file in os.listdir(geojson_dir):\n",
    "    ## if file ends with .geojson\n",
    "    if file.endswith(\".geojson\"):\n",
    "        print(file)\n",
    "        sample_id = file.split(\".\")[1]\n",
    "        region = file.split(\".\")[0]\n",
    "\n",
    "        # Load your GeoJSON data\n",
    "        gdf_geojson = gpd.read_file(f'{geojson_dir}/{file}')\n",
    "\n",
    "        # # Assuming you have a csv file with 'x' and 'y' columns for the pixel coordinates\n",
    "        points_df = pd.read_table(f'{cell_dir}/{sample_id}.tsv',\n",
    "                            sep='\\t', names=['x', 'y'])\n",
    "        # Subset pixels for x and y coordinates\n",
    "        points_df = points_df[['x', 'y']]\n",
    "        \n",
    "        # Turn points into a list of tuples\n",
    "        points = [tuple(x) for x in points_df.to_numpy()]\n",
    "\n",
    "        gdf_points = gpd.GeoDataFrame(geometry=[Point(x, y) for x, y in points])\n",
    "\n",
    "        # Set the same CRS for both GeoDataFrames if they're not the same\n",
    "        gdf_points.crs = gdf_geojson.crs\n",
    "\n",
    "        # Perform spatial join\n",
    "        gdf_joined = gpd.sjoin(gdf_points, gdf_geojson, op='within')\n",
    "\n",
    "        ## Write measurements to dataframe\n",
    "        total_area = gdf_geojson.geometry.area.sum() * 0.138 * 0.138\n",
    "        number_of_cells = gdf_joined.shape[0]\n",
    "        cells_per_area = number_of_cells / total_area\n",
    "\n",
    "\n",
    "        # Store total_area and number_of_spots in a dictionary with sample_id as key\n",
    "        uniq_sample_id = sample_id + \"_\" + region\n",
    "        df.loc[uniq_sample_id] = [uniq_sample_id,region,total_area, number_of_cells,cells_per_area]"
   ]
  },
  {
   "cell_type": "code",
   "execution_count": 85,
   "metadata": {},
   "outputs": [],
   "source": [
    "# Turn rownames from df into a column named sample and remove rownames\n",
    "df['sample'] = df.index\n",
    "df.index.name = None\n",
    "\n",
    "## Write dataframe to csv without rownames and with tab as separator\n",
    "df.to_csv(\"../data/cells_per_region.tsv\", sep='\\t', index=False) "
   ]
  }
 ],
 "metadata": {
  "kernelspec": {
   "display_name": "geopandas",
   "language": "python",
   "name": "python3"
  },
  "language_info": {
   "codemirror_mode": {
    "name": "ipython",
    "version": 3
   },
   "file_extension": ".py",
   "mimetype": "text/x-python",
   "name": "python",
   "nbconvert_exporter": "python",
   "pygments_lexer": "ipython3",
   "version": "3.11.3"
  },
  "orig_nbformat": 4
 },
 "nbformat": 4,
 "nbformat_minor": 2
}
