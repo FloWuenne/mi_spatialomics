{
 "cells": [
  {
   "cell_type": "markdown",
   "metadata": {},
   "source": [
    "# Convert Cellpose mask from float 64 to another format\n",
    "\n",
    "Cellpose masks for some reason come out as float64 when saving as tif. This is short example code to transform a Cellpose mask from the unnecessary large format to int16"
   ]
  },
  {
   "cell_type": "code",
   "execution_count": 1,
   "metadata": {},
   "outputs": [],
   "source": [
    "import tifffile\n",
    "\n",
    "# Read in the float64 tiff file\n",
    "image = tifffile.imread('/Users/florian_wuennemann/1_Projects/MI_project/data/nf_molkart_results/retained_masks/sample_control_r1_s1_cellpose.retained_masks.tif')\n",
    "\n",
    "# Convert to int16\n",
    "image_int16 = image.astype('int16')\n",
    "\n",
    "# Save as tif\n",
    "tifffile.imwrite('/Users/florian_wuennemann/1_Projects/MI_project/data/nf_molkart_results/retained_masks/sample_control_r1_s1_cellpose.retained_masks.16bit.tif', image_int16)"
   ]
  }
 ],
 "metadata": {
  "kernelspec": {
   "display_name": "Python 3",
   "language": "python",
   "name": "python3"
  },
  "language_info": {
   "codemirror_mode": {
    "name": "ipython",
    "version": 3
   },
   "file_extension": ".py",
   "mimetype": "text/x-python",
   "name": "python",
   "nbconvert_exporter": "python",
   "pygments_lexer": "ipython3",
   "version": "3.10.8"
  },
  "orig_nbformat": 4
 },
 "nbformat": 4,
 "nbformat_minor": 2
}
